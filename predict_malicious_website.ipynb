{
 "cells": [
  {
   "cell_type": "markdown",
   "id": "01db21a1",
   "metadata": {
    "id": "01db21a1"
   },
   "source": [
    "# Predizione di siti web maligni o benigni\n",
    "\n",
    "**Programmazione di Applicazioni Data Intensive**  \n",
    "Laurea in Ingegneria e Scienze Informatiche  \n",
    "DISI - Università di Bologna, Cesena\n",
    "\n",
    "Mario Ciccioni - mario.ciccioni@studio.unibo.it"
   ]
  },
  {
   "cell_type": "markdown",
   "id": "5a08c716",
   "metadata": {
    "id": "5a08c716"
   },
   "source": [
    "## Fonti e Contributi\n",
    "**Dataset:** https://github.com/urcuqui/WhiteHat/blob/master/Research/Web%20security/datasets/dataset.csv\n",
    "\n",
    "**Autore e Progetto:** https://github.com/urcuqui/WhiteHat"
   ]
  },
  {
   "cell_type": "markdown",
   "id": "11e768f2",
   "metadata": {
    "id": "11e768f2"
   },
   "source": [
    "## Descrizione del problema\n",
    "\n",
    "Il problema nel determinare se un sito web e' sicuro o maligno e' il fatto che bisogna analizzarlo singolarmente e inserirlo in una black list.\n",
    "Lo scopo di questo progetto e' l'implementazione e il confronto di modelli di classificazione che utilizzano tecniche di machine learning in grado di determinare la sicurezza o meno di un sito web, analizzado le caratteristiche del server e della rete.\n",
    "Alcuni dati appartenenti ai siti web sono stati estrapolati da fonti sicure, mentre altri utilizzando tool addizionali come l'API di whois per determinare caratteristiche del server, come ad esempio *whois_country* che indica la posizione geografica del server di hosting del sito web."
   ]
  },
  {
   "cell_type": "markdown",
   "id": "465a3ade",
   "metadata": {},
   "source": [
    "## Aproccio:\n",
    "* Esplorazione dei dati (EDA)\n",
    "* Descrizione delle variabili\n",
    "* Ottimizzazione delle variabili\n",
    "* Grafici\n",
    "* Preprocessing dei dati\n",
    "* Addestramento modelli di machine learning\n",
    "* Validazione dei risultati\n",
    "* Conclusioni finali"
   ]
  },
  {
   "cell_type": "markdown",
   "id": "9ff4aeed",
   "metadata": {},
   "source": [
    "### Import delle librerie base"
   ]
  },
  {
   "cell_type": "code",
   "execution_count": 1,
   "id": "e345fc4a",
   "metadata": {
    "id": "e345fc4a"
   },
   "outputs": [],
   "source": [
    "import numpy as np\n",
    "import pandas as pd\n",
    "import matplotlib.pyplot as plt\n",
    "import os.path\n",
    "from datetime import datetime\n",
    "import hashlib\n",
    "\n",
    "%matplotlib inline"
   ]
  },
  {
   "cell_type": "markdown",
   "id": "cdf4373e",
   "metadata": {
    "id": "cdf4373e"
   },
   "source": [
    "## Data preprocessing and Analysis"
   ]
  },
  {
   "cell_type": "markdown",
   "id": "93d51ffe",
   "metadata": {},
   "source": [
    "Iniziamo caricando il dataset in un dataframe Pandas"
   ]
  },
  {
   "cell_type": "code",
   "execution_count": 2,
   "id": "d97ebfd5",
   "metadata": {},
   "outputs": [],
   "source": [
    "data = pd.read_csv(\"./dataset/dataset.csv\")"
   ]
  },
  {
   "cell_type": "code",
   "execution_count": 3,
   "id": "0b92b727",
   "metadata": {
    "id": "0b92b727"
   },
   "outputs": [],
   "source": [
    "# clean up column names\n",
    "data.columns = data.columns.str.strip().str.lower()"
   ]
  },
  {
   "cell_type": "code",
   "execution_count": 4,
   "id": "844204a8",
   "metadata": {
    "colab": {
     "base_uri": "https://localhost:8080/",
     "height": 314
    },
    "id": "844204a8",
    "outputId": "4a1dc0c6-aa21-4262-eb54-39dbf170fa9c"
   },
   "outputs": [
    {
     "data": {
      "text/html": [
       "<div>\n",
       "<style scoped>\n",
       "    .dataframe tbody tr th:only-of-type {\n",
       "        vertical-align: middle;\n",
       "    }\n",
       "\n",
       "    .dataframe tbody tr th {\n",
       "        vertical-align: top;\n",
       "    }\n",
       "\n",
       "    .dataframe thead th {\n",
       "        text-align: right;\n",
       "    }\n",
       "</style>\n",
       "<table border=\"1\" class=\"dataframe\">\n",
       "  <thead>\n",
       "    <tr style=\"text-align: right;\">\n",
       "      <th></th>\n",
       "      <th>url</th>\n",
       "      <th>url_length</th>\n",
       "      <th>number_special_characters</th>\n",
       "      <th>charset</th>\n",
       "      <th>server</th>\n",
       "      <th>content_length</th>\n",
       "      <th>whois_country</th>\n",
       "      <th>whois_statepro</th>\n",
       "      <th>whois_regdate</th>\n",
       "      <th>whois_updated_date</th>\n",
       "      <th>tcp_conversation_exchange</th>\n",
       "      <th>dist_remote_tcp_port</th>\n",
       "      <th>remote_ips</th>\n",
       "      <th>app_bytes</th>\n",
       "      <th>source_app_packets</th>\n",
       "      <th>remote_app_packets</th>\n",
       "      <th>source_app_bytes</th>\n",
       "      <th>remote_app_bytes</th>\n",
       "      <th>app_packets</th>\n",
       "      <th>dns_query_times</th>\n",
       "      <th>type</th>\n",
       "    </tr>\n",
       "  </thead>\n",
       "  <tbody>\n",
       "    <tr>\n",
       "      <th>0</th>\n",
       "      <td>M0_109</td>\n",
       "      <td>16</td>\n",
       "      <td>7</td>\n",
       "      <td>iso-8859-1</td>\n",
       "      <td>nginx</td>\n",
       "      <td>263.0</td>\n",
       "      <td>None</td>\n",
       "      <td>None</td>\n",
       "      <td>10/10/2015 18:21</td>\n",
       "      <td>None</td>\n",
       "      <td>7</td>\n",
       "      <td>0</td>\n",
       "      <td>2</td>\n",
       "      <td>700</td>\n",
       "      <td>9</td>\n",
       "      <td>10</td>\n",
       "      <td>1153</td>\n",
       "      <td>832</td>\n",
       "      <td>9</td>\n",
       "      <td>2.0</td>\n",
       "      <td>1</td>\n",
       "    </tr>\n",
       "    <tr>\n",
       "      <th>1</th>\n",
       "      <td>B0_2314</td>\n",
       "      <td>16</td>\n",
       "      <td>6</td>\n",
       "      <td>UTF-8</td>\n",
       "      <td>Apache/2.4.10</td>\n",
       "      <td>15087.0</td>\n",
       "      <td>None</td>\n",
       "      <td>None</td>\n",
       "      <td>None</td>\n",
       "      <td>None</td>\n",
       "      <td>17</td>\n",
       "      <td>7</td>\n",
       "      <td>4</td>\n",
       "      <td>1230</td>\n",
       "      <td>17</td>\n",
       "      <td>19</td>\n",
       "      <td>1265</td>\n",
       "      <td>1230</td>\n",
       "      <td>17</td>\n",
       "      <td>0.0</td>\n",
       "      <td>0</td>\n",
       "    </tr>\n",
       "    <tr>\n",
       "      <th>2</th>\n",
       "      <td>B0_911</td>\n",
       "      <td>16</td>\n",
       "      <td>6</td>\n",
       "      <td>us-ascii</td>\n",
       "      <td>Microsoft-HTTPAPI/2.0</td>\n",
       "      <td>324.0</td>\n",
       "      <td>None</td>\n",
       "      <td>None</td>\n",
       "      <td>None</td>\n",
       "      <td>None</td>\n",
       "      <td>0</td>\n",
       "      <td>0</td>\n",
       "      <td>0</td>\n",
       "      <td>0</td>\n",
       "      <td>0</td>\n",
       "      <td>0</td>\n",
       "      <td>0</td>\n",
       "      <td>0</td>\n",
       "      <td>0</td>\n",
       "      <td>0.0</td>\n",
       "      <td>0</td>\n",
       "    </tr>\n",
       "    <tr>\n",
       "      <th>3</th>\n",
       "      <td>B0_113</td>\n",
       "      <td>17</td>\n",
       "      <td>6</td>\n",
       "      <td>ISO-8859-1</td>\n",
       "      <td>nginx</td>\n",
       "      <td>162.0</td>\n",
       "      <td>US</td>\n",
       "      <td>AK</td>\n",
       "      <td>7/10/1997 4:00</td>\n",
       "      <td>12/09/2013 0:45</td>\n",
       "      <td>31</td>\n",
       "      <td>22</td>\n",
       "      <td>3</td>\n",
       "      <td>3812</td>\n",
       "      <td>39</td>\n",
       "      <td>37</td>\n",
       "      <td>18784</td>\n",
       "      <td>4380</td>\n",
       "      <td>39</td>\n",
       "      <td>8.0</td>\n",
       "      <td>0</td>\n",
       "    </tr>\n",
       "    <tr>\n",
       "      <th>4</th>\n",
       "      <td>B0_403</td>\n",
       "      <td>17</td>\n",
       "      <td>6</td>\n",
       "      <td>UTF-8</td>\n",
       "      <td>None</td>\n",
       "      <td>124140.0</td>\n",
       "      <td>US</td>\n",
       "      <td>TX</td>\n",
       "      <td>12/05/1996 0:00</td>\n",
       "      <td>11/04/2017 0:00</td>\n",
       "      <td>57</td>\n",
       "      <td>2</td>\n",
       "      <td>5</td>\n",
       "      <td>4278</td>\n",
       "      <td>61</td>\n",
       "      <td>62</td>\n",
       "      <td>129889</td>\n",
       "      <td>4586</td>\n",
       "      <td>61</td>\n",
       "      <td>4.0</td>\n",
       "      <td>0</td>\n",
       "    </tr>\n",
       "  </tbody>\n",
       "</table>\n",
       "</div>"
      ],
      "text/plain": [
       "       url  url_length  number_special_characters     charset  \\\n",
       "0   M0_109          16                          7  iso-8859-1   \n",
       "1  B0_2314          16                          6       UTF-8   \n",
       "2   B0_911          16                          6    us-ascii   \n",
       "3   B0_113          17                          6  ISO-8859-1   \n",
       "4   B0_403          17                          6       UTF-8   \n",
       "\n",
       "                  server  content_length whois_country whois_statepro  \\\n",
       "0                  nginx           263.0          None           None   \n",
       "1          Apache/2.4.10         15087.0          None           None   \n",
       "2  Microsoft-HTTPAPI/2.0           324.0          None           None   \n",
       "3                  nginx           162.0            US             AK   \n",
       "4                   None        124140.0            US             TX   \n",
       "\n",
       "      whois_regdate whois_updated_date  tcp_conversation_exchange  \\\n",
       "0  10/10/2015 18:21               None                          7   \n",
       "1              None               None                         17   \n",
       "2              None               None                          0   \n",
       "3    7/10/1997 4:00    12/09/2013 0:45                         31   \n",
       "4   12/05/1996 0:00    11/04/2017 0:00                         57   \n",
       "\n",
       "   dist_remote_tcp_port  remote_ips  app_bytes  source_app_packets  \\\n",
       "0                     0           2        700                   9   \n",
       "1                     7           4       1230                  17   \n",
       "2                     0           0          0                   0   \n",
       "3                    22           3       3812                  39   \n",
       "4                     2           5       4278                  61   \n",
       "\n",
       "   remote_app_packets  source_app_bytes  remote_app_bytes  app_packets  \\\n",
       "0                  10              1153               832            9   \n",
       "1                  19              1265              1230           17   \n",
       "2                   0                 0                 0            0   \n",
       "3                  37             18784              4380           39   \n",
       "4                  62            129889              4586           61   \n",
       "\n",
       "   dns_query_times  type  \n",
       "0              2.0     1  \n",
       "1              0.0     0  \n",
       "2              0.0     0  \n",
       "3              8.0     0  \n",
       "4              4.0     0  "
      ]
     },
     "execution_count": 4,
     "metadata": {},
     "output_type": "execute_result"
    }
   ],
   "source": [
    "pd.set_option('display.max_columns', None)\n",
    "data.head()"
   ]
  },
  {
   "cell_type": "markdown",
   "id": "d96d2bc9",
   "metadata": {
    "id": "d96d2bc9"
   },
   "source": [
    "### Significati delle colonne:\n",
    "\n",
    "- `url`: url anonimizzato del sito web\n",
    "- `url_length`: lunghezza dell'url non anonimizzato\n",
    "- `number_special_characters`: numero dei caratteri speciali contenuti nell'url, come “/”, “%”, “#”, “&”, “. “, “=” \n",
    "- `charset`: variabile categorica che indica la codifica dei caratteri utilizzata dal sito web\n",
    "- `server`: variabile categorica che indica il sistema operativo del server di hosting\n",
    "- `content_length`: rappresenta la dimensione del contenuto del file header dell'html\n",
    "- `whois_country`: variabile categorica che indica il paese ottenuto dalla risposta del server\n",
    "- `whois_statepro`: variabile categorica che indica lo stato ottenuto dalla risposta del server\n",
    "- `whois_regdate`: variabile di tipo \"date\" che indica la data di registrazione del server\n",
    "- `whois_updated_date`: variabile di tipo \"date\" che indica l'ultima data di aggiornamento del server\n",
    "- `tcp_conversation_exchange`: indica il numero di pacchetti TCP scambiati tra client e server\n",
    "- `dist_remote_tcp_port`: indica il numero di porte identificate non TCP\n",
    "- `remote_ips`: indica il numero totale di connessioni IP dirette al client\n",
    "- `app_bytes`: indica il numero di byte trasferiti\n",
    "- `source_app_packets`: indica i pacchetti trasferiti dal client al server\n",
    "- `remote_app_packets`: indica i pacchetti ricevuti dal server\n",
    "- `source_app_bytes`: indica il numero di byte trasferiti dal client al server\n",
    "- `remote_app_bytes`: indica il numero di byte ricevuti dal server\n",
    "- `app_packets`: indica il numero totale di pacchetti IP traferiti durante la connessione\n",
    "- `dns_query_times`: indica il numero di pacchetti DNS generati durante la comunicazione tra client e server\n",
    "- `type`: variabile categorica, 1 sito web maligno e 0 sito web benigno\n",
    "\n",
    "*Tutte le variabili precedute da \"whois_\" sono state ottenute utilizzando l'API di whois*"
   ]
  },
  {
   "cell_type": "code",
   "execution_count": 5,
   "id": "e521c3bb",
   "metadata": {
    "colab": {
     "base_uri": "https://localhost:8080/"
    },
    "id": "e521c3bb",
    "outputId": "376b980e-454c-4824-ebf0-918900bac26c"
   },
   "outputs": [
    {
     "name": "stdout",
     "output_type": "stream",
     "text": [
      "number of rows =  1781\n",
      "number of columns =  21\n"
     ]
    }
   ],
   "source": [
    "r, c = data.shape\n",
    "print(\"number of rows = \", r)\n",
    "print(\"number of columns = \", c)"
   ]
  },
  {
   "cell_type": "markdown",
   "id": "b0ebfb2c",
   "metadata": {},
   "source": [
    "Analizziamo ora il tipo di dato di ogni variabile del dataset"
   ]
  },
  {
   "cell_type": "code",
   "execution_count": 6,
   "id": "b703bc97",
   "metadata": {
    "colab": {
     "base_uri": "https://localhost:8080/"
    },
    "id": "b703bc97",
    "outputId": "f69c1c97-8a02-4d38-f5f3-6dac4a9c391d"
   },
   "outputs": [
    {
     "name": "stdout",
     "output_type": "stream",
     "text": [
      "<class 'pandas.core.frame.DataFrame'>\n",
      "RangeIndex: 1781 entries, 0 to 1780\n",
      "Data columns (total 21 columns):\n",
      " #   Column                     Non-Null Count  Dtype  \n",
      "---  ------                     --------------  -----  \n",
      " 0   url                        1781 non-null   object \n",
      " 1   url_length                 1781 non-null   int64  \n",
      " 2   number_special_characters  1781 non-null   int64  \n",
      " 3   charset                    1781 non-null   object \n",
      " 4   server                     1780 non-null   object \n",
      " 5   content_length             969 non-null    float64\n",
      " 6   whois_country              1781 non-null   object \n",
      " 7   whois_statepro             1781 non-null   object \n",
      " 8   whois_regdate              1781 non-null   object \n",
      " 9   whois_updated_date         1781 non-null   object \n",
      " 10  tcp_conversation_exchange  1781 non-null   int64  \n",
      " 11  dist_remote_tcp_port       1781 non-null   int64  \n",
      " 12  remote_ips                 1781 non-null   int64  \n",
      " 13  app_bytes                  1781 non-null   int64  \n",
      " 14  source_app_packets         1781 non-null   int64  \n",
      " 15  remote_app_packets         1781 non-null   int64  \n",
      " 16  source_app_bytes           1781 non-null   int64  \n",
      " 17  remote_app_bytes           1781 non-null   int64  \n",
      " 18  app_packets                1781 non-null   int64  \n",
      " 19  dns_query_times            1780 non-null   float64\n",
      " 20  type                       1781 non-null   int64  \n",
      "dtypes: float64(2), int64(12), object(7)\n",
      "memory usage: 995.3 KB\n"
     ]
    }
   ],
   "source": [
    "data.info(memory_usage = \"deep\")"
   ]
  },
  {
   "cell_type": "markdown",
   "id": "635cd9c6",
   "metadata": {
    "id": "635cd9c6"
   },
   "source": [
    "Noto che molte varibili sono considerate di tipo object perche' stringhe ma so che sono variabili categoriche, percio' le rendo tali ottimizzando l'utilizzo di memoria."
   ]
  },
  {
   "cell_type": "code",
   "execution_count": 7,
   "id": "c4ecd84e",
   "metadata": {
    "id": "c4ecd84e"
   },
   "outputs": [],
   "source": [
    "data['url'] = data.url.astype('category')\n",
    "data['charset'] = data.charset.astype('category')\n",
    "data['server'] = data.server.astype('category')\n",
    "data['whois_country'] = data.whois_country.astype('category')\n",
    "data['whois_statepro'] = data.whois_statepro.astype('category')"
   ]
  },
  {
   "cell_type": "markdown",
   "id": "6eac2b51",
   "metadata": {},
   "source": [
    "Mentre le date le trasformo nella loro rappresentazione numerica (Unix Time Representation) in quanto piu' facili da manipolare quando dovro' applicare algoritmi di ml. Decido di mantenere le colonne che contengono le date, invece di eliminarle, perche' possono fornire informazioni importanti in quanto alcune di esse, ad esempio quella che indica la data di registrazione del server e' molto influente in quanto, se molto recente, puo' facilmente trattarsi di un sito web maligno dal punto di vista del buon senso."
   ]
  },
  {
   "cell_type": "code",
   "execution_count": 8,
   "id": "b20df4b5",
   "metadata": {
    "scrolled": true
   },
   "outputs": [],
   "source": [
    "# There are two datetime formats that are processed with different masks\n",
    "# and some incorrect values ('None', 'b', '0') that we replace with -1\n",
    "\n",
    "regdate_ts = []\n",
    "\n",
    "for date in data.whois_regdate.values:\n",
    "    if date not in ['None', 'b', '0']:\n",
    "        try:\n",
    "            regdate_ts.append(int(datetime.strptime(date, '%d/%m/%Y %H:%M').timestamp()))\n",
    "        except ValueError:\n",
    "            regdate_ts.append(int(datetime.strptime(date, '%Y-%m-%dT%H:%M:%S.0Z').timestamp()))\n",
    "    else:\n",
    "        regdate_ts.append(-1)\n",
    "        \n",
    "upd_ts = []\n",
    "\n",
    "for date in data.whois_updated_date.values:\n",
    "    if date not in ['None', 'b', '0']:\n",
    "        try:\n",
    "            upd_ts.append(int(datetime.strptime(date, '%d/%m/%Y %H:%M').timestamp()))\n",
    "        except ValueError:\n",
    "            upd_ts.append(int(datetime.strptime(date, '%Y-%m-%dT%H:%M:%S.0Z').timestamp()))\n",
    "    else:\n",
    "        upd_ts.append(-1)"
   ]
  },
  {
   "cell_type": "code",
   "execution_count": 9,
   "id": "a9cee613",
   "metadata": {},
   "outputs": [
    {
     "data": {
      "text/html": [
       "<div>\n",
       "<style scoped>\n",
       "    .dataframe tbody tr th:only-of-type {\n",
       "        vertical-align: middle;\n",
       "    }\n",
       "\n",
       "    .dataframe tbody tr th {\n",
       "        vertical-align: top;\n",
       "    }\n",
       "\n",
       "    .dataframe thead th {\n",
       "        text-align: right;\n",
       "    }\n",
       "</style>\n",
       "<table border=\"1\" class=\"dataframe\">\n",
       "  <thead>\n",
       "    <tr style=\"text-align: right;\">\n",
       "      <th></th>\n",
       "      <th>url</th>\n",
       "      <th>url_length</th>\n",
       "      <th>number_special_characters</th>\n",
       "      <th>charset</th>\n",
       "      <th>server</th>\n",
       "      <th>content_length</th>\n",
       "      <th>whois_country</th>\n",
       "      <th>whois_statepro</th>\n",
       "      <th>tcp_conversation_exchange</th>\n",
       "      <th>dist_remote_tcp_port</th>\n",
       "      <th>remote_ips</th>\n",
       "      <th>app_bytes</th>\n",
       "      <th>source_app_packets</th>\n",
       "      <th>remote_app_packets</th>\n",
       "      <th>source_app_bytes</th>\n",
       "      <th>remote_app_bytes</th>\n",
       "      <th>app_packets</th>\n",
       "      <th>dns_query_times</th>\n",
       "      <th>type</th>\n",
       "      <th>regdate_ts</th>\n",
       "      <th>upd_ts</th>\n",
       "    </tr>\n",
       "  </thead>\n",
       "  <tbody>\n",
       "    <tr>\n",
       "      <th>0</th>\n",
       "      <td>M0_109</td>\n",
       "      <td>16</td>\n",
       "      <td>7</td>\n",
       "      <td>iso-8859-1</td>\n",
       "      <td>nginx</td>\n",
       "      <td>263.0</td>\n",
       "      <td>None</td>\n",
       "      <td>None</td>\n",
       "      <td>7</td>\n",
       "      <td>0</td>\n",
       "      <td>2</td>\n",
       "      <td>700</td>\n",
       "      <td>9</td>\n",
       "      <td>10</td>\n",
       "      <td>1153</td>\n",
       "      <td>832</td>\n",
       "      <td>9</td>\n",
       "      <td>2.0</td>\n",
       "      <td>1</td>\n",
       "      <td>1444494060</td>\n",
       "      <td>-1</td>\n",
       "    </tr>\n",
       "    <tr>\n",
       "      <th>1</th>\n",
       "      <td>B0_2314</td>\n",
       "      <td>16</td>\n",
       "      <td>6</td>\n",
       "      <td>UTF-8</td>\n",
       "      <td>Apache/2.4.10</td>\n",
       "      <td>15087.0</td>\n",
       "      <td>None</td>\n",
       "      <td>None</td>\n",
       "      <td>17</td>\n",
       "      <td>7</td>\n",
       "      <td>4</td>\n",
       "      <td>1230</td>\n",
       "      <td>17</td>\n",
       "      <td>19</td>\n",
       "      <td>1265</td>\n",
       "      <td>1230</td>\n",
       "      <td>17</td>\n",
       "      <td>0.0</td>\n",
       "      <td>0</td>\n",
       "      <td>-1</td>\n",
       "      <td>-1</td>\n",
       "    </tr>\n",
       "    <tr>\n",
       "      <th>2</th>\n",
       "      <td>B0_911</td>\n",
       "      <td>16</td>\n",
       "      <td>6</td>\n",
       "      <td>us-ascii</td>\n",
       "      <td>Microsoft-HTTPAPI/2.0</td>\n",
       "      <td>324.0</td>\n",
       "      <td>None</td>\n",
       "      <td>None</td>\n",
       "      <td>0</td>\n",
       "      <td>0</td>\n",
       "      <td>0</td>\n",
       "      <td>0</td>\n",
       "      <td>0</td>\n",
       "      <td>0</td>\n",
       "      <td>0</td>\n",
       "      <td>0</td>\n",
       "      <td>0</td>\n",
       "      <td>0.0</td>\n",
       "      <td>0</td>\n",
       "      <td>-1</td>\n",
       "      <td>-1</td>\n",
       "    </tr>\n",
       "    <tr>\n",
       "      <th>3</th>\n",
       "      <td>B0_113</td>\n",
       "      <td>17</td>\n",
       "      <td>6</td>\n",
       "      <td>ISO-8859-1</td>\n",
       "      <td>nginx</td>\n",
       "      <td>162.0</td>\n",
       "      <td>US</td>\n",
       "      <td>AK</td>\n",
       "      <td>31</td>\n",
       "      <td>22</td>\n",
       "      <td>3</td>\n",
       "      <td>3812</td>\n",
       "      <td>39</td>\n",
       "      <td>37</td>\n",
       "      <td>18784</td>\n",
       "      <td>4380</td>\n",
       "      <td>39</td>\n",
       "      <td>8.0</td>\n",
       "      <td>0</td>\n",
       "      <td>876189600</td>\n",
       "      <td>1378939500</td>\n",
       "    </tr>\n",
       "    <tr>\n",
       "      <th>4</th>\n",
       "      <td>B0_403</td>\n",
       "      <td>17</td>\n",
       "      <td>6</td>\n",
       "      <td>UTF-8</td>\n",
       "      <td>None</td>\n",
       "      <td>124140.0</td>\n",
       "      <td>US</td>\n",
       "      <td>TX</td>\n",
       "      <td>57</td>\n",
       "      <td>2</td>\n",
       "      <td>5</td>\n",
       "      <td>4278</td>\n",
       "      <td>61</td>\n",
       "      <td>62</td>\n",
       "      <td>129889</td>\n",
       "      <td>4586</td>\n",
       "      <td>61</td>\n",
       "      <td>4.0</td>\n",
       "      <td>0</td>\n",
       "      <td>831852000</td>\n",
       "      <td>1491861600</td>\n",
       "    </tr>\n",
       "    <tr>\n",
       "      <th>...</th>\n",
       "      <td>...</td>\n",
       "      <td>...</td>\n",
       "      <td>...</td>\n",
       "      <td>...</td>\n",
       "      <td>...</td>\n",
       "      <td>...</td>\n",
       "      <td>...</td>\n",
       "      <td>...</td>\n",
       "      <td>...</td>\n",
       "      <td>...</td>\n",
       "      <td>...</td>\n",
       "      <td>...</td>\n",
       "      <td>...</td>\n",
       "      <td>...</td>\n",
       "      <td>...</td>\n",
       "      <td>...</td>\n",
       "      <td>...</td>\n",
       "      <td>...</td>\n",
       "      <td>...</td>\n",
       "      <td>...</td>\n",
       "      <td>...</td>\n",
       "    </tr>\n",
       "    <tr>\n",
       "      <th>1776</th>\n",
       "      <td>M4_48</td>\n",
       "      <td>194</td>\n",
       "      <td>16</td>\n",
       "      <td>UTF-8</td>\n",
       "      <td>Apache</td>\n",
       "      <td>NaN</td>\n",
       "      <td>ES</td>\n",
       "      <td>Barcelona</td>\n",
       "      <td>0</td>\n",
       "      <td>0</td>\n",
       "      <td>0</td>\n",
       "      <td>0</td>\n",
       "      <td>0</td>\n",
       "      <td>3</td>\n",
       "      <td>186</td>\n",
       "      <td>0</td>\n",
       "      <td>0</td>\n",
       "      <td>0.0</td>\n",
       "      <td>1</td>\n",
       "      <td>1221602400</td>\n",
       "      <td>1472767200</td>\n",
       "    </tr>\n",
       "    <tr>\n",
       "      <th>1777</th>\n",
       "      <td>M4_41</td>\n",
       "      <td>198</td>\n",
       "      <td>17</td>\n",
       "      <td>UTF-8</td>\n",
       "      <td>Apache</td>\n",
       "      <td>NaN</td>\n",
       "      <td>ES</td>\n",
       "      <td>Barcelona</td>\n",
       "      <td>0</td>\n",
       "      <td>0</td>\n",
       "      <td>0</td>\n",
       "      <td>0</td>\n",
       "      <td>0</td>\n",
       "      <td>2</td>\n",
       "      <td>124</td>\n",
       "      <td>0</td>\n",
       "      <td>0</td>\n",
       "      <td>0.0</td>\n",
       "      <td>1</td>\n",
       "      <td>1221602400</td>\n",
       "      <td>1472767200</td>\n",
       "    </tr>\n",
       "    <tr>\n",
       "      <th>1778</th>\n",
       "      <td>B0_162</td>\n",
       "      <td>201</td>\n",
       "      <td>34</td>\n",
       "      <td>utf-8</td>\n",
       "      <td>Apache/2.2.16 (Debian)</td>\n",
       "      <td>8904.0</td>\n",
       "      <td>US</td>\n",
       "      <td>FL</td>\n",
       "      <td>83</td>\n",
       "      <td>2</td>\n",
       "      <td>6</td>\n",
       "      <td>6631</td>\n",
       "      <td>87</td>\n",
       "      <td>89</td>\n",
       "      <td>132181</td>\n",
       "      <td>6945</td>\n",
       "      <td>87</td>\n",
       "      <td>4.0</td>\n",
       "      <td>0</td>\n",
       "      <td>919033200</td>\n",
       "      <td>1436911200</td>\n",
       "    </tr>\n",
       "    <tr>\n",
       "      <th>1779</th>\n",
       "      <td>B0_1152</td>\n",
       "      <td>234</td>\n",
       "      <td>34</td>\n",
       "      <td>ISO-8859-1</td>\n",
       "      <td>cloudflare-nginx</td>\n",
       "      <td>NaN</td>\n",
       "      <td>US</td>\n",
       "      <td>CA</td>\n",
       "      <td>0</td>\n",
       "      <td>0</td>\n",
       "      <td>0</td>\n",
       "      <td>0</td>\n",
       "      <td>0</td>\n",
       "      <td>0</td>\n",
       "      <td>0</td>\n",
       "      <td>0</td>\n",
       "      <td>0</td>\n",
       "      <td>0.0</td>\n",
       "      <td>0</td>\n",
       "      <td>891381600</td>\n",
       "      <td>1481238000</td>\n",
       "    </tr>\n",
       "    <tr>\n",
       "      <th>1780</th>\n",
       "      <td>B0_676</td>\n",
       "      <td>249</td>\n",
       "      <td>40</td>\n",
       "      <td>utf-8</td>\n",
       "      <td>Microsoft-IIS/8.5</td>\n",
       "      <td>24435.0</td>\n",
       "      <td>US</td>\n",
       "      <td>Wisconsin</td>\n",
       "      <td>19</td>\n",
       "      <td>6</td>\n",
       "      <td>11</td>\n",
       "      <td>2314</td>\n",
       "      <td>25</td>\n",
       "      <td>28</td>\n",
       "      <td>3039</td>\n",
       "      <td>2776</td>\n",
       "      <td>25</td>\n",
       "      <td>6.0</td>\n",
       "      <td>0</td>\n",
       "      <td>1226617200</td>\n",
       "      <td>1384902000</td>\n",
       "    </tr>\n",
       "  </tbody>\n",
       "</table>\n",
       "<p>1781 rows × 21 columns</p>\n",
       "</div>"
      ],
      "text/plain": [
       "          url  url_length  number_special_characters     charset  \\\n",
       "0      M0_109          16                          7  iso-8859-1   \n",
       "1     B0_2314          16                          6       UTF-8   \n",
       "2      B0_911          16                          6    us-ascii   \n",
       "3      B0_113          17                          6  ISO-8859-1   \n",
       "4      B0_403          17                          6       UTF-8   \n",
       "...       ...         ...                        ...         ...   \n",
       "1776    M4_48         194                         16       UTF-8   \n",
       "1777    M4_41         198                         17       UTF-8   \n",
       "1778   B0_162         201                         34       utf-8   \n",
       "1779  B0_1152         234                         34  ISO-8859-1   \n",
       "1780   B0_676         249                         40       utf-8   \n",
       "\n",
       "                      server  content_length whois_country whois_statepro  \\\n",
       "0                      nginx           263.0          None           None   \n",
       "1              Apache/2.4.10         15087.0          None           None   \n",
       "2      Microsoft-HTTPAPI/2.0           324.0          None           None   \n",
       "3                      nginx           162.0            US             AK   \n",
       "4                       None        124140.0            US             TX   \n",
       "...                      ...             ...           ...            ...   \n",
       "1776                  Apache             NaN            ES      Barcelona   \n",
       "1777                  Apache             NaN            ES      Barcelona   \n",
       "1778  Apache/2.2.16 (Debian)          8904.0            US             FL   \n",
       "1779        cloudflare-nginx             NaN            US             CA   \n",
       "1780       Microsoft-IIS/8.5         24435.0            US      Wisconsin   \n",
       "\n",
       "      tcp_conversation_exchange  dist_remote_tcp_port  remote_ips  app_bytes  \\\n",
       "0                             7                     0           2        700   \n",
       "1                            17                     7           4       1230   \n",
       "2                             0                     0           0          0   \n",
       "3                            31                    22           3       3812   \n",
       "4                            57                     2           5       4278   \n",
       "...                         ...                   ...         ...        ...   \n",
       "1776                          0                     0           0          0   \n",
       "1777                          0                     0           0          0   \n",
       "1778                         83                     2           6       6631   \n",
       "1779                          0                     0           0          0   \n",
       "1780                         19                     6          11       2314   \n",
       "\n",
       "      source_app_packets  remote_app_packets  source_app_bytes  \\\n",
       "0                      9                  10              1153   \n",
       "1                     17                  19              1265   \n",
       "2                      0                   0                 0   \n",
       "3                     39                  37             18784   \n",
       "4                     61                  62            129889   \n",
       "...                  ...                 ...               ...   \n",
       "1776                   0                   3               186   \n",
       "1777                   0                   2               124   \n",
       "1778                  87                  89            132181   \n",
       "1779                   0                   0                 0   \n",
       "1780                  25                  28              3039   \n",
       "\n",
       "      remote_app_bytes  app_packets  dns_query_times  type  regdate_ts  \\\n",
       "0                  832            9              2.0     1  1444494060   \n",
       "1                 1230           17              0.0     0          -1   \n",
       "2                    0            0              0.0     0          -1   \n",
       "3                 4380           39              8.0     0   876189600   \n",
       "4                 4586           61              4.0     0   831852000   \n",
       "...                ...          ...              ...   ...         ...   \n",
       "1776                 0            0              0.0     1  1221602400   \n",
       "1777                 0            0              0.0     1  1221602400   \n",
       "1778              6945           87              4.0     0   919033200   \n",
       "1779                 0            0              0.0     0   891381600   \n",
       "1780              2776           25              6.0     0  1226617200   \n",
       "\n",
       "          upd_ts  \n",
       "0             -1  \n",
       "1             -1  \n",
       "2             -1  \n",
       "3     1378939500  \n",
       "4     1491861600  \n",
       "...          ...  \n",
       "1776  1472767200  \n",
       "1777  1472767200  \n",
       "1778  1436911200  \n",
       "1779  1481238000  \n",
       "1780  1384902000  \n",
       "\n",
       "[1781 rows x 21 columns]"
      ]
     },
     "execution_count": 9,
     "metadata": {},
     "output_type": "execute_result"
    }
   ],
   "source": [
    "# replace the original date variables with unix time ones\n",
    "data['regdate_ts'] = regdate_ts\n",
    "data['upd_ts'] = upd_ts\n",
    "\n",
    "data = data.drop(columns=['whois_regdate', 'whois_updated_date']) # dropping original string features\n",
    "data"
   ]
  },
  {
   "cell_type": "code",
   "execution_count": 10,
   "id": "cd98f805",
   "metadata": {
    "colab": {
     "base_uri": "https://localhost:8080/"
    },
    "id": "cd98f805",
    "outputId": "7119904f-3608-441a-b377-b23dfe367e3b"
   },
   "outputs": [
    {
     "name": "stdout",
     "output_type": "stream",
     "text": [
      "<class 'pandas.core.frame.DataFrame'>\n",
      "RangeIndex: 1781 entries, 0 to 1780\n",
      "Data columns (total 21 columns):\n",
      " #   Column                     Non-Null Count  Dtype   \n",
      "---  ------                     --------------  -----   \n",
      " 0   url                        1781 non-null   category\n",
      " 1   url_length                 1781 non-null   int64   \n",
      " 2   number_special_characters  1781 non-null   int64   \n",
      " 3   charset                    1781 non-null   category\n",
      " 4   server                     1780 non-null   category\n",
      " 5   content_length             969 non-null    float64 \n",
      " 6   whois_country              1781 non-null   category\n",
      " 7   whois_statepro             1781 non-null   category\n",
      " 8   tcp_conversation_exchange  1781 non-null   int64   \n",
      " 9   dist_remote_tcp_port       1781 non-null   int64   \n",
      " 10  remote_ips                 1781 non-null   int64   \n",
      " 11  app_bytes                  1781 non-null   int64   \n",
      " 12  source_app_packets         1781 non-null   int64   \n",
      " 13  remote_app_packets         1781 non-null   int64   \n",
      " 14  source_app_bytes           1781 non-null   int64   \n",
      " 15  remote_app_bytes           1781 non-null   int64   \n",
      " 16  app_packets                1781 non-null   int64   \n",
      " 17  dns_query_times            1780 non-null   float64 \n",
      " 18  type                       1781 non-null   int64   \n",
      " 19  regdate_ts                 1781 non-null   int64   \n",
      " 20  upd_ts                     1781 non-null   int64   \n",
      "dtypes: category(5), float64(2), int64(14)\n",
      "memory usage: 459.4 KB\n"
     ]
    }
   ],
   "source": [
    "data.info(memory_usage = \"deep\")"
   ]
  },
  {
   "cell_type": "markdown",
   "id": "742c96d2",
   "metadata": {
    "id": "742c96d2"
   },
   "source": [
    "Come si puo' notare ho ottenuto una diminuzione sostanziale di memoria (della meta'). In questo dataset ovviamente non e' stata una operazione indispensabile in quanto esso era gia' piccolo in partenza, ma in caso di utilizzo di dataset piu' grandi questo passaggio e' fondamentale."
   ]
  },
  {
   "cell_type": "markdown",
   "id": "6a89afd8",
   "metadata": {
    "id": "6a89afd8"
   },
   "source": [
    "A questo punto dobbiamo fare una verifica approfondita sulla qualita' dei dati, quindi quanti valori nulli sono presenti nel dataset in questione. Nei dati sono presenti anche valori None, decido di tenerli valutandoli come informazioni che non sono state fornite dal sito web."
   ]
  },
  {
   "cell_type": "code",
   "execution_count": 11,
   "id": "8162bf3e",
   "metadata": {
    "colab": {
     "base_uri": "https://localhost:8080/"
    },
    "id": "8162bf3e",
    "outputId": "59bb26e1-50d0-4caf-973e-c06a5155da29"
   },
   "outputs": [
    {
     "name": "stdout",
     "output_type": "stream",
     "text": [
      "url                            0\n",
      "url_length                     0\n",
      "number_special_characters      0\n",
      "charset                        0\n",
      "server                         1\n",
      "content_length               812\n",
      "whois_country                  0\n",
      "whois_statepro                 0\n",
      "tcp_conversation_exchange      0\n",
      "dist_remote_tcp_port           0\n",
      "remote_ips                     0\n",
      "app_bytes                      0\n",
      "source_app_packets             0\n",
      "remote_app_packets             0\n",
      "source_app_bytes               0\n",
      "remote_app_bytes               0\n",
      "app_packets                    0\n",
      "dns_query_times                1\n",
      "type                           0\n",
      "regdate_ts                     0\n",
      "upd_ts                         0\n",
      "dtype: int64\n"
     ]
    }
   ],
   "source": [
    "null_values = data.isnull().sum()\n",
    "print(null_values)"
   ]
  },
  {
   "cell_type": "markdown",
   "id": "6804e579",
   "metadata": {},
   "source": [
    "Noto che le uniche 3 variabili che possiedono valori nulli sono server, content_lenght (ne possiede quasi la meta' di valori nulli) e dns_query_times.\n",
    "\n",
    "Per notarlo meglio plotto i valori in un grafico a barre:"
   ]
  },
  {
   "cell_type": "code",
   "execution_count": 12,
   "id": "1107abbb",
   "metadata": {
    "colab": {
     "base_uri": "https://localhost:8080/",
     "height": 608
    },
    "id": "1107abbb",
    "outputId": "db59b8f7-bf0f-4fea-eb17-d7e9325aadce"
   },
   "outputs": [
    {
     "data": {
      "image/png": "[encoded data removed]",
      "text/plain": [
       "<Figure size 432x288 with 1 Axes>"
      ]
     },
     "metadata": {
      "needs_background": "light"
     },
     "output_type": "display_data"
    }
   ],
   "source": [
    "data.isnull().sum().plot.bar();"
   ]
  },
  {
   "cell_type": "markdown",
   "id": "fa03a14c",
   "metadata": {},
   "source": [
    "Decido di sostituire i valori Nan con il valore piu' comune di ogni variabile"
   ]
  },
  {
   "cell_type": "code",
   "execution_count": 13,
   "id": "9d03189d",
   "metadata": {},
   "outputs": [
    {
     "name": "stdout",
     "output_type": "stream",
     "text": [
      "server contains NAs, replacing with Apache\n",
      "content_length contains NAs, replacing with 324.0\n",
      "dns_query_times contains NAs, replacing with 0.0\n"
     ]
    }
   ],
   "source": [
    "for col in data.drop(columns=['type']).columns:\n",
    "    if data[col].isna().any():\n",
    "        mode = data[col].mode().iloc[0]\n",
    "        print(f\"{col} contains NAs, replacing with {mode}\")\n",
    "        data[col] = data[col].fillna(mode)"
   ]
  },
  {
   "cell_type": "markdown",
   "id": "ec6cb8cd",
   "metadata": {},
   "source": [
    "Verifico che non ci siano piu' valori nulli presenti tra i dati"
   ]
  },
  {
   "cell_type": "code",
   "execution_count": 14,
   "id": "ac36b2cd",
   "metadata": {},
   "outputs": [
    {
     "name": "stdout",
     "output_type": "stream",
     "text": [
      "url                          0\n",
      "url_length                   0\n",
      "number_special_characters    0\n",
      "charset                      0\n",
      "server                       0\n",
      "content_length               0\n",
      "whois_country                0\n",
      "whois_statepro               0\n",
      "tcp_conversation_exchange    0\n",
      "dist_remote_tcp_port         0\n",
      "remote_ips                   0\n",
      "app_bytes                    0\n",
      "source_app_packets           0\n",
      "remote_app_packets           0\n",
      "source_app_bytes             0\n",
      "remote_app_bytes             0\n",
      "app_packets                  0\n",
      "dns_query_times              0\n",
      "type                         0\n",
      "regdate_ts                   0\n",
      "upd_ts                       0\n",
      "dtype: int64\n"
     ]
    }
   ],
   "source": [
    "null_values = data.isnull().sum()\n",
    "print(null_values)"
   ]
  },
  {
   "cell_type": "markdown",
   "id": "-7NdLr8GEB1i",
   "metadata": {
    "id": "-7NdLr8GEB1i"
   },
   "source": [
    "Genero le statistiche descrittive dell'intero dataset:"
   ]
  },
  {
   "cell_type": "code",
   "execution_count": 15,
   "id": "345518d0",
   "metadata": {
    "colab": {
     "base_uri": "https://localhost:8080/",
     "height": 356
    },
    "id": "345518d0",
    "outputId": "fda2df1b-a522-49b6-b0ff-a65bb5314f30"
   },
   "outputs": [
    {
     "data": {
      "text/html": [
       "<div>\n",
       "<style scoped>\n",
       "    .dataframe tbody tr th:only-of-type {\n",
       "        vertical-align: middle;\n",
       "    }\n",
       "\n",
       "    .dataframe tbody tr th {\n",
       "        vertical-align: top;\n",
       "    }\n",
       "\n",
       "    .dataframe thead th {\n",
       "        text-align: right;\n",
       "    }\n",
       "</style>\n",
       "<table border=\"1\" class=\"dataframe\">\n",
       "  <thead>\n",
       "    <tr style=\"text-align: right;\">\n",
       "      <th></th>\n",
       "      <th>url_length</th>\n",
       "      <th>number_special_characters</th>\n",
       "      <th>content_length</th>\n",
       "      <th>tcp_conversation_exchange</th>\n",
       "      <th>dist_remote_tcp_port</th>\n",
       "      <th>remote_ips</th>\n",
       "      <th>app_bytes</th>\n",
       "      <th>source_app_packets</th>\n",
       "      <th>remote_app_packets</th>\n",
       "      <th>source_app_bytes</th>\n",
       "      <th>remote_app_bytes</th>\n",
       "      <th>app_packets</th>\n",
       "      <th>dns_query_times</th>\n",
       "      <th>type</th>\n",
       "      <th>regdate_ts</th>\n",
       "      <th>upd_ts</th>\n",
       "    </tr>\n",
       "  </thead>\n",
       "  <tbody>\n",
       "    <tr>\n",
       "      <th>count</th>\n",
       "      <td>1781.000000</td>\n",
       "      <td>1781.000000</td>\n",
       "      <td>1781.000000</td>\n",
       "      <td>1781.000000</td>\n",
       "      <td>1781.000000</td>\n",
       "      <td>1781.000000</td>\n",
       "      <td>1.781000e+03</td>\n",
       "      <td>1781.000000</td>\n",
       "      <td>1781.000000</td>\n",
       "      <td>1.781000e+03</td>\n",
       "      <td>1.781000e+03</td>\n",
       "      <td>1781.000000</td>\n",
       "      <td>1781.000000</td>\n",
       "      <td>1781.000000</td>\n",
       "      <td>1.781000e+03</td>\n",
       "      <td>1.781000e+03</td>\n",
       "    </tr>\n",
       "    <tr>\n",
       "      <th>mean</th>\n",
       "      <td>56.961258</td>\n",
       "      <td>11.111735</td>\n",
       "      <td>6528.063448</td>\n",
       "      <td>16.261089</td>\n",
       "      <td>5.472768</td>\n",
       "      <td>3.060640</td>\n",
       "      <td>2.982339e+03</td>\n",
       "      <td>18.540146</td>\n",
       "      <td>18.746210</td>\n",
       "      <td>1.589255e+04</td>\n",
       "      <td>3.155599e+03</td>\n",
       "      <td>18.540146</td>\n",
       "      <td>2.262212</td>\n",
       "      <td>0.121280</td>\n",
       "      <td>9.416509e+08</td>\n",
       "      <td>1.346128e+09</td>\n",
       "    </tr>\n",
       "    <tr>\n",
       "      <th>std</th>\n",
       "      <td>27.555586</td>\n",
       "      <td>4.549896</td>\n",
       "      <td>27431.514817</td>\n",
       "      <td>40.500975</td>\n",
       "      <td>21.807327</td>\n",
       "      <td>3.386975</td>\n",
       "      <td>5.605057e+04</td>\n",
       "      <td>41.627173</td>\n",
       "      <td>46.397969</td>\n",
       "      <td>6.986193e+04</td>\n",
       "      <td>5.605378e+04</td>\n",
       "      <td>41.627173</td>\n",
       "      <td>2.930520</td>\n",
       "      <td>0.326544</td>\n",
       "      <td>3.094688e+08</td>\n",
       "      <td>3.931642e+08</td>\n",
       "    </tr>\n",
       "    <tr>\n",
       "      <th>min</th>\n",
       "      <td>16.000000</td>\n",
       "      <td>5.000000</td>\n",
       "      <td>0.000000</td>\n",
       "      <td>0.000000</td>\n",
       "      <td>0.000000</td>\n",
       "      <td>0.000000</td>\n",
       "      <td>0.000000e+00</td>\n",
       "      <td>0.000000</td>\n",
       "      <td>0.000000</td>\n",
       "      <td>0.000000e+00</td>\n",
       "      <td>0.000000e+00</td>\n",
       "      <td>0.000000</td>\n",
       "      <td>0.000000</td>\n",
       "      <td>0.000000</td>\n",
       "      <td>-1.000000e+00</td>\n",
       "      <td>-1.000000e+00</td>\n",
       "    </tr>\n",
       "    <tr>\n",
       "      <th>25%</th>\n",
       "      <td>39.000000</td>\n",
       "      <td>8.000000</td>\n",
       "      <td>324.000000</td>\n",
       "      <td>0.000000</td>\n",
       "      <td>0.000000</td>\n",
       "      <td>0.000000</td>\n",
       "      <td>0.000000e+00</td>\n",
       "      <td>0.000000</td>\n",
       "      <td>0.000000</td>\n",
       "      <td>0.000000e+00</td>\n",
       "      <td>0.000000e+00</td>\n",
       "      <td>0.000000</td>\n",
       "      <td>0.000000</td>\n",
       "      <td>0.000000</td>\n",
       "      <td>8.471664e+08</td>\n",
       "      <td>1.440022e+09</td>\n",
       "    </tr>\n",
       "    <tr>\n",
       "      <th>50%</th>\n",
       "      <td>49.000000</td>\n",
       "      <td>10.000000</td>\n",
       "      <td>324.000000</td>\n",
       "      <td>7.000000</td>\n",
       "      <td>0.000000</td>\n",
       "      <td>2.000000</td>\n",
       "      <td>6.720000e+02</td>\n",
       "      <td>8.000000</td>\n",
       "      <td>9.000000</td>\n",
       "      <td>5.790000e+02</td>\n",
       "      <td>7.350000e+02</td>\n",
       "      <td>8.000000</td>\n",
       "      <td>0.000000</td>\n",
       "      <td>0.000000</td>\n",
       "      <td>9.754524e+08</td>\n",
       "      <td>1.467756e+09</td>\n",
       "    </tr>\n",
       "    <tr>\n",
       "      <th>75%</th>\n",
       "      <td>68.000000</td>\n",
       "      <td>13.000000</td>\n",
       "      <td>3063.000000</td>\n",
       "      <td>22.000000</td>\n",
       "      <td>5.000000</td>\n",
       "      <td>5.000000</td>\n",
       "      <td>2.328000e+03</td>\n",
       "      <td>26.000000</td>\n",
       "      <td>25.000000</td>\n",
       "      <td>9.806000e+03</td>\n",
       "      <td>2.701000e+03</td>\n",
       "      <td>26.000000</td>\n",
       "      <td>4.000000</td>\n",
       "      <td>0.000000</td>\n",
       "      <td>1.118354e+09</td>\n",
       "      <td>1.483398e+09</td>\n",
       "    </tr>\n",
       "    <tr>\n",
       "      <th>max</th>\n",
       "      <td>249.000000</td>\n",
       "      <td>43.000000</td>\n",
       "      <td>649263.000000</td>\n",
       "      <td>1194.000000</td>\n",
       "      <td>708.000000</td>\n",
       "      <td>17.000000</td>\n",
       "      <td>2.362906e+06</td>\n",
       "      <td>1198.000000</td>\n",
       "      <td>1284.000000</td>\n",
       "      <td>2.060012e+06</td>\n",
       "      <td>2.362906e+06</td>\n",
       "      <td>1198.000000</td>\n",
       "      <td>20.000000</td>\n",
       "      <td>1.000000</td>\n",
       "      <td>1.492121e+09</td>\n",
       "      <td>1.493417e+09</td>\n",
       "    </tr>\n",
       "  </tbody>\n",
       "</table>\n",
       "</div>"
      ],
      "text/plain": [
       "        url_length  number_special_characters  content_length  \\\n",
       "count  1781.000000                1781.000000     1781.000000   \n",
       "mean     56.961258                  11.111735     6528.063448   \n",
       "std      27.555586                   4.549896    27431.514817   \n",
       "min      16.000000                   5.000000        0.000000   \n",
       "25%      39.000000                   8.000000      324.000000   \n",
       "50%      49.000000                  10.000000      324.000000   \n",
       "75%      68.000000                  13.000000     3063.000000   \n",
       "max     249.000000                  43.000000   649263.000000   \n",
       "\n",
       "       tcp_conversation_exchange  dist_remote_tcp_port   remote_ips  \\\n",
       "count                1781.000000           1781.000000  1781.000000   \n",
       "mean                   16.261089              5.472768     3.060640   \n",
       "std                    40.500975             21.807327     3.386975   \n",
       "min                     0.000000              0.000000     0.000000   \n",
       "25%                     0.000000              0.000000     0.000000   \n",
       "50%                     7.000000              0.000000     2.000000   \n",
       "75%                    22.000000              5.000000     5.000000   \n",
       "max                  1194.000000            708.000000    17.000000   \n",
       "\n",
       "          app_bytes  source_app_packets  remote_app_packets  source_app_bytes  \\\n",
       "count  1.781000e+03         1781.000000         1781.000000      1.781000e+03   \n",
       "mean   2.982339e+03           18.540146           18.746210      1.589255e+04   \n",
       "std    5.605057e+04           41.627173           46.397969      6.986193e+04   \n",
       "min    0.000000e+00            0.000000            0.000000      0.000000e+00   \n",
       "25%    0.000000e+00            0.000000            0.000000      0.000000e+00   \n",
       "50%    6.720000e+02            8.000000            9.000000      5.790000e+02   \n",
       "75%    2.328000e+03           26.000000           25.000000      9.806000e+03   \n",
       "max    2.362906e+06         1198.000000         1284.000000      2.060012e+06   \n",
       "\n",
       "       remote_app_bytes  app_packets  dns_query_times         type  \\\n",
       "count      1.781000e+03  1781.000000      1781.000000  1781.000000   \n",
       "mean       3.155599e+03    18.540146         2.262212     0.121280   \n",
       "std        5.605378e+04    41.627173         2.930520     0.326544   \n",
       "min        0.000000e+00     0.000000         0.000000     0.000000   \n",
       "25%        0.000000e+00     0.000000         0.000000     0.000000   \n",
       "50%        7.350000e+02     8.000000         0.000000     0.000000   \n",
       "75%        2.701000e+03    26.000000         4.000000     0.000000   \n",
       "max        2.362906e+06  1198.000000        20.000000     1.000000   \n",
       "\n",
       "         regdate_ts        upd_ts  \n",
       "count  1.781000e+03  1.781000e+03  \n",
       "mean   9.416509e+08  1.346128e+09  \n",
       "std    3.094688e+08  3.931642e+08  \n",
       "min   -1.000000e+00 -1.000000e+00  \n",
       "25%    8.471664e+08  1.440022e+09  \n",
       "50%    9.754524e+08  1.467756e+09  \n",
       "75%    1.118354e+09  1.483398e+09  \n",
       "max    1.492121e+09  1.493417e+09  "
      ]
     },
     "execution_count": 15,
     "metadata": {},
     "output_type": "execute_result"
    }
   ],
   "source": [
    "data.describe()"
   ]
  },
  {
   "cell_type": "markdown",
   "id": "d3b5ee5a",
   "metadata": {},
   "source": [
    "Visualizzo la statistiche descrittive della variabile \"number_special_characters\" relative alle due classi da predire. Già da qui posso capire che questa varibile è molto influente nel predire se un sito web è maligno o benigno."
   ]
  },
  {
   "cell_type": "code",
   "execution_count": 16,
   "id": "ac92d3a6",
   "metadata": {},
   "outputs": [
    {
     "data": {
      "text/html": [
       "<div>\n",
       "<style scoped>\n",
       "    .dataframe tbody tr th:only-of-type {\n",
       "        vertical-align: middle;\n",
       "    }\n",
       "\n",
       "    .dataframe tbody tr th {\n",
       "        vertical-align: top;\n",
       "    }\n",
       "\n",
       "    .dataframe thead th {\n",
       "        text-align: right;\n",
       "    }\n",
       "</style>\n",
       "<table border=\"1\" class=\"dataframe\">\n",
       "  <thead>\n",
       "    <tr style=\"text-align: right;\">\n",
       "      <th></th>\n",
       "      <th>count</th>\n",
       "      <th>mean</th>\n",
       "      <th>std</th>\n",
       "      <th>min</th>\n",
       "      <th>25%</th>\n",
       "      <th>50%</th>\n",
       "      <th>75%</th>\n",
       "      <th>max</th>\n",
       "    </tr>\n",
       "    <tr>\n",
       "      <th>type</th>\n",
       "      <th></th>\n",
       "      <th></th>\n",
       "      <th></th>\n",
       "      <th></th>\n",
       "      <th></th>\n",
       "      <th></th>\n",
       "      <th></th>\n",
       "      <th></th>\n",
       "    </tr>\n",
       "  </thead>\n",
       "  <tbody>\n",
       "    <tr>\n",
       "      <th>0</th>\n",
       "      <td>1565.0</td>\n",
       "      <td>10.637061</td>\n",
       "      <td>4.027070</td>\n",
       "      <td>6.0</td>\n",
       "      <td>8.0</td>\n",
       "      <td>10.0</td>\n",
       "      <td>12.0</td>\n",
       "      <td>43.0</td>\n",
       "    </tr>\n",
       "    <tr>\n",
       "      <th>1</th>\n",
       "      <td>216.0</td>\n",
       "      <td>14.550926</td>\n",
       "      <td>6.316254</td>\n",
       "      <td>5.0</td>\n",
       "      <td>10.0</td>\n",
       "      <td>12.0</td>\n",
       "      <td>20.0</td>\n",
       "      <td>36.0</td>\n",
       "    </tr>\n",
       "  </tbody>\n",
       "</table>\n",
       "</div>"
      ],
      "text/plain": [
       "       count       mean       std  min   25%   50%   75%   max\n",
       "type                                                          \n",
       "0     1565.0  10.637061  4.027070  6.0   8.0  10.0  12.0  43.0\n",
       "1      216.0  14.550926  6.316254  5.0  10.0  12.0  20.0  36.0"
      ]
     },
     "execution_count": 16,
     "metadata": {},
     "output_type": "execute_result"
    }
   ],
   "source": [
    "data[\"number_special_characters\"].groupby(data[\"type\"]).describe()"
   ]
  },
  {
   "cell_type": "code",
   "execution_count": 17,
   "id": "df7db539",
   "metadata": {},
   "outputs": [
    {
     "data": {
      "image/png": "[encoded data removed]",
      "text/plain": [
       "<Figure size 432x288 with 1 Axes>"
      ]
     },
     "metadata": {
      "needs_background": "light"
     },
     "output_type": "display_data"
    }
   ],
   "source": [
    "data.pivot(columns=\"type\")[\"number_special_characters\"].plot.hist(bins=20, stacked=True);"
   ]
  },
  {
   "cell_type": "markdown",
   "id": "vq4bBEwnEiLj",
   "metadata": {
    "id": "vq4bBEwnEiLj"
   },
   "source": [
    "Plotto un grafico a torta per visualizzare gli stati di tutti i siti web"
   ]
  },
  {
   "cell_type": "code",
   "execution_count": 18,
   "id": "0c6eef6c",
   "metadata": {
    "colab": {
     "base_uri": "https://localhost:8080/",
     "height": 1000
    },
    "id": "0c6eef6c",
    "outputId": "5a9fa1ec-1fa3-4e49-9f12-3ce31e44005e"
   },
   "outputs": [
    {
     "data": {
      "image/png": "[encoded data removed]",
      "text/plain": [
       "<Figure size 504x504 with 1 Axes>"
      ]
     },
     "metadata": {},
     "output_type": "display_data"
    }
   ],
   "source": [
    "data[\"whois_country\"].value_counts().plot.pie(figsize = (7,7));\n",
    "plt.legend(labels = list(zip(data[\"whois_country\"].value_counts().index, data[\"whois_country\"].value_counts())), loc = \"best\", bbox_to_anchor = (2, 1.3));"
   ]
  },
  {
   "cell_type": "markdown",
   "id": "aed3a4a2",
   "metadata": {
    "id": "aed3a4a2"
   },
   "source": [
    "Dal seguente grafico possiamo notare che la maggioranza dei siti web presenti del dataset (1103) e' US seguito da CA e ES, tutti gli altri stati presenti sono una piccola parte del totale. Numeri prevedibili in quanto l'esperimento e' stato effettuato geograficamente in US. "
   ]
  },
  {
   "cell_type": "markdown",
   "id": "7e1436d7",
   "metadata": {
    "id": "7e1436d7"
   },
   "source": [
    "Plotto la matrice di correlazione che mi permette di visualizzare in modo semplice se ci sono delle variabili in stretta correlazione tra di loro."
   ]
  },
  {
   "cell_type": "code",
   "execution_count": 19,
   "id": "cece28f8",
   "metadata": {
    "colab": {
     "base_uri": "https://localhost:8080/",
     "height": 991
    },
    "id": "cece28f8",
    "outputId": "073ec320-d5d4-4a83-e7cf-a74434801951"
   },
   "outputs": [
    {
     "name": "stderr",
     "output_type": "stream",
     "text": [
      "C:\\Users\\mario\\anaconda3\\envs\\ml\\lib\\site-packages\\scipy\\__init__.py:146: UserWarning: A NumPy version >=1.16.5 and <1.23.0 is required for this version of SciPy (detected version 1.23.1\n",
      "  warnings.warn(f\"A NumPy version >={np_minversion} and <{np_maxversion}\"\n"
     ]
    },
    {
     "data": {
      "image/png": "[encoded data removed]",
      "text/plain": [
       "<Figure size 1440x720 with 2 Axes>"
      ]
     },
     "metadata": {
      "needs_background": "light"
     },
     "output_type": "display_data"
    }
   ],
   "source": [
    "import seaborn as sns\n",
    "\n",
    "plt.figure(figsize=(20,10))\n",
    "sns.heatmap(data=data.corr(), cmap='YlGnBu', annot=True);"
   ]
  },
  {
   "cell_type": "markdown",
   "id": "wdIR94NnKnuJ",
   "metadata": {
    "id": "wdIR94NnKnuJ"
   },
   "source": [
    "Noto che alcune variabili sono in stretta correlazione tra di loro come ad esempio il numero di pacchetti traferiti tra client e server ma soprattutto la lunghezza dell'url e il numero di caratteri speciali."
   ]
  },
  {
   "cell_type": "code",
   "execution_count": 20,
   "id": "APCaR7ykiEDW",
   "metadata": {
    "colab": {
     "base_uri": "https://localhost:8080/",
     "height": 449
    },
    "id": "APCaR7ykiEDW",
    "outputId": "d365ecff-18b1-4a5d-fc9e-a37064738cab"
   },
   "outputs": [
    {
     "data": {
      "image/png": "[encoded data removed]",
      "text/plain": [
       "<Figure size 432x288 with 1 Axes>"
      ]
     },
     "metadata": {
      "needs_background": "light"
     },
     "output_type": "display_data"
    }
   ],
   "source": [
    "data.plot.scatter('source_app_packets', 'tcp_conversation_exchange');"
   ]
  },
  {
   "cell_type": "code",
   "execution_count": 21,
   "id": "7257903f",
   "metadata": {},
   "outputs": [
    {
     "data": {
      "text/plain": [
       "1776     red\n",
       "1777     red\n",
       "1778    blue\n",
       "1779    blue\n",
       "1780    blue\n",
       "Name: type, dtype: object"
      ]
     },
     "execution_count": 21,
     "metadata": {},
     "output_type": "execute_result"
    }
   ],
   "source": [
    "class_color_map = {0: \"blue\", 1: \"red\"}\n",
    "class_colors = data[\"type\"].map(class_color_map)\n",
    "class_colors.tail()"
   ]
  },
  {
   "cell_type": "code",
   "execution_count": 22,
   "id": "w7wSYrM158yl",
   "metadata": {
    "colab": {
     "base_uri": "https://localhost:8080/",
     "height": 449
    },
    "id": "w7wSYrM158yl",
    "outputId": "035d9b6b-0122-4409-d590-3484c6311f5f"
   },
   "outputs": [
    {
     "data": {
      "image/png": "[encoded data removed]",
      "text/plain": [
       "<Figure size 432x288 with 1 Axes>"
      ]
     },
     "metadata": {
      "needs_background": "light"
     },
     "output_type": "display_data"
    }
   ],
   "source": [
    "data.plot.scatter('url_length', 'number_special_characters', c=class_colors);"
   ]
  },
  {
   "cell_type": "markdown",
   "id": "77DeIXHh1mf2",
   "metadata": {
    "id": "77DeIXHh1mf2"
   },
   "source": [
    "Inoltre noto che la variabile content_length non e' in correlazione con nessun altra e quindi, anche tenendo conto che possedeva molti valori nulli, la elimino"
   ]
  },
  {
   "cell_type": "code",
   "execution_count": 23,
   "id": "CS0vsx8rvQ15",
   "metadata": {
    "id": "CS0vsx8rvQ15"
   },
   "outputs": [],
   "source": [
    "data = data.drop('content_length', axis=1)"
   ]
  },
  {
   "cell_type": "code",
   "execution_count": 24,
   "id": "cc561648",
   "metadata": {
    "colab": {
     "base_uri": "https://localhost:8080/",
     "height": 541
    },
    "id": "cc561648",
    "outputId": "b95996c4-3b1e-4e16-b203-5c8fe3ee7363"
   },
   "outputs": [
    {
     "data": {
      "image/png": "[encoded data removed]",
      "text/plain": [
       "<Figure size 864x432 with 1 Axes>"
      ]
     },
     "metadata": {
      "needs_background": "light"
     },
     "output_type": "display_data"
    }
   ],
   "source": [
    "plt.figure(figsize=(12,6))\n",
    "sns.boxplot(data=data, x='type', y='url_length');"
   ]
  },
  {
   "cell_type": "markdown",
   "id": "63e5a08f",
   "metadata": {
    "id": "63e5a08f"
   },
   "source": [
    "Mettendo in correlazione il tipo di sito web con la lunghezza del suo url noto che quelli maligni hanno mediamente una lunghezza maggiore dell'url "
   ]
  },
  {
   "cell_type": "code",
   "execution_count": 25,
   "id": "f1bc7eb0",
   "metadata": {
    "colab": {
     "base_uri": "https://localhost:8080/",
     "height": 541
    },
    "id": "f1bc7eb0",
    "outputId": "32452488-6be4-4082-afd1-a2389e2bc83c"
   },
   "outputs": [
    {
     "data": {
      "image/png": "[encoded data removed]",
      "text/plain": [
       "<Figure size 864x432 with 1 Axes>"
      ]
     },
     "metadata": {
      "needs_background": "light"
     },
     "output_type": "display_data"
    }
   ],
   "source": [
    "plt.figure(figsize=(12,6))\n",
    "sns.boxplot(data=data, x='type', y='number_special_characters');"
   ]
  },
  {
   "cell_type": "markdown",
   "id": "5201c344",
   "metadata": {
    "id": "5201c344"
   },
   "source": [
    "Ancora piu' significativo e' il numero di caratteri speciali contenuti dell'url che e' molto maggiore negli url maligni."
   ]
  },
  {
   "cell_type": "markdown",
   "id": "DyMQGkP57NgO",
   "metadata": {
    "id": "DyMQGkP57NgO"
   },
   "source": [
    "Ora faccio una comparazione sul numero dei siti web maligni e benigni presenti del dataset"
   ]
  },
  {
   "cell_type": "code",
   "execution_count": 26,
   "id": "3nVoKykvt77w",
   "metadata": {
    "colab": {
     "base_uri": "https://localhost:8080/",
     "height": 448
    },
    "id": "3nVoKykvt77w",
    "outputId": "9bebfd5a-8e3f-46f6-b4c0-848dd9f0f3f3"
   },
   "outputs": [
    {
     "data": {
      "image/png": "[encoded data removed]",
      "text/plain": [
       "<Figure size 432x288 with 1 Axes>"
      ]
     },
     "metadata": {
      "needs_background": "light"
     },
     "output_type": "display_data"
    }
   ],
   "source": [
    "sns.countplot(x=\"type\",data=data); "
   ]
  },
  {
   "cell_type": "markdown",
   "id": "9NSTq-w77jlI",
   "metadata": {
    "id": "9NSTq-w77jlI"
   },
   "source": [
    "Noto che il numero di siti web begnini è di molto superirore a quelli maligni (mi trovo di fronte ad un imbalanced dataset), sicuramente rispecchia la realtà dei fatti (almeno nel clear web) per cui c'era da aspettarselo."
   ]
  },
  {
   "cell_type": "code",
   "execution_count": 27,
   "id": "218282c4",
   "metadata": {
    "scrolled": true
   },
   "outputs": [
    {
     "data": {
      "text/html": [
       "<div>\n",
       "<style scoped>\n",
       "    .dataframe tbody tr th:only-of-type {\n",
       "        vertical-align: middle;\n",
       "    }\n",
       "\n",
       "    .dataframe tbody tr th {\n",
       "        vertical-align: top;\n",
       "    }\n",
       "\n",
       "    .dataframe thead th {\n",
       "        text-align: right;\n",
       "    }\n",
       "</style>\n",
       "<table border=\"1\" class=\"dataframe\">\n",
       "  <thead>\n",
       "    <tr style=\"text-align: right;\">\n",
       "      <th></th>\n",
       "      <th>url</th>\n",
       "      <th>url_length</th>\n",
       "      <th>number_special_characters</th>\n",
       "      <th>charset</th>\n",
       "      <th>server</th>\n",
       "      <th>whois_country</th>\n",
       "      <th>whois_statepro</th>\n",
       "      <th>tcp_conversation_exchange</th>\n",
       "      <th>dist_remote_tcp_port</th>\n",
       "      <th>remote_ips</th>\n",
       "      <th>app_bytes</th>\n",
       "      <th>source_app_packets</th>\n",
       "      <th>remote_app_packets</th>\n",
       "      <th>source_app_bytes</th>\n",
       "      <th>remote_app_bytes</th>\n",
       "      <th>app_packets</th>\n",
       "      <th>dns_query_times</th>\n",
       "      <th>type</th>\n",
       "      <th>regdate_ts</th>\n",
       "      <th>upd_ts</th>\n",
       "    </tr>\n",
       "  </thead>\n",
       "  <tbody>\n",
       "    <tr>\n",
       "      <th>0</th>\n",
       "      <td>M0_109</td>\n",
       "      <td>16</td>\n",
       "      <td>7</td>\n",
       "      <td>iso-8859-1</td>\n",
       "      <td>nginx</td>\n",
       "      <td>None</td>\n",
       "      <td>None</td>\n",
       "      <td>7</td>\n",
       "      <td>0</td>\n",
       "      <td>2</td>\n",
       "      <td>700</td>\n",
       "      <td>9</td>\n",
       "      <td>10</td>\n",
       "      <td>1153</td>\n",
       "      <td>832</td>\n",
       "      <td>9</td>\n",
       "      <td>2.0</td>\n",
       "      <td>1</td>\n",
       "      <td>1444494060</td>\n",
       "      <td>-1</td>\n",
       "    </tr>\n",
       "    <tr>\n",
       "      <th>1</th>\n",
       "      <td>B0_2314</td>\n",
       "      <td>16</td>\n",
       "      <td>6</td>\n",
       "      <td>UTF-8</td>\n",
       "      <td>Apache/2.4.10</td>\n",
       "      <td>None</td>\n",
       "      <td>None</td>\n",
       "      <td>17</td>\n",
       "      <td>7</td>\n",
       "      <td>4</td>\n",
       "      <td>1230</td>\n",
       "      <td>17</td>\n",
       "      <td>19</td>\n",
       "      <td>1265</td>\n",
       "      <td>1230</td>\n",
       "      <td>17</td>\n",
       "      <td>0.0</td>\n",
       "      <td>0</td>\n",
       "      <td>-1</td>\n",
       "      <td>-1</td>\n",
       "    </tr>\n",
       "    <tr>\n",
       "      <th>2</th>\n",
       "      <td>B0_911</td>\n",
       "      <td>16</td>\n",
       "      <td>6</td>\n",
       "      <td>us-ascii</td>\n",
       "      <td>Microsoft-HTTPAPI/2.0</td>\n",
       "      <td>None</td>\n",
       "      <td>None</td>\n",
       "      <td>0</td>\n",
       "      <td>0</td>\n",
       "      <td>0</td>\n",
       "      <td>0</td>\n",
       "      <td>0</td>\n",
       "      <td>0</td>\n",
       "      <td>0</td>\n",
       "      <td>0</td>\n",
       "      <td>0</td>\n",
       "      <td>0.0</td>\n",
       "      <td>0</td>\n",
       "      <td>-1</td>\n",
       "      <td>-1</td>\n",
       "    </tr>\n",
       "    <tr>\n",
       "      <th>3</th>\n",
       "      <td>B0_113</td>\n",
       "      <td>17</td>\n",
       "      <td>6</td>\n",
       "      <td>ISO-8859-1</td>\n",
       "      <td>nginx</td>\n",
       "      <td>US</td>\n",
       "      <td>AK</td>\n",
       "      <td>31</td>\n",
       "      <td>22</td>\n",
       "      <td>3</td>\n",
       "      <td>3812</td>\n",
       "      <td>39</td>\n",
       "      <td>37</td>\n",
       "      <td>18784</td>\n",
       "      <td>4380</td>\n",
       "      <td>39</td>\n",
       "      <td>8.0</td>\n",
       "      <td>0</td>\n",
       "      <td>876189600</td>\n",
       "      <td>1378939500</td>\n",
       "    </tr>\n",
       "    <tr>\n",
       "      <th>4</th>\n",
       "      <td>B0_403</td>\n",
       "      <td>17</td>\n",
       "      <td>6</td>\n",
       "      <td>UTF-8</td>\n",
       "      <td>None</td>\n",
       "      <td>US</td>\n",
       "      <td>TX</td>\n",
       "      <td>57</td>\n",
       "      <td>2</td>\n",
       "      <td>5</td>\n",
       "      <td>4278</td>\n",
       "      <td>61</td>\n",
       "      <td>62</td>\n",
       "      <td>129889</td>\n",
       "      <td>4586</td>\n",
       "      <td>61</td>\n",
       "      <td>4.0</td>\n",
       "      <td>0</td>\n",
       "      <td>831852000</td>\n",
       "      <td>1491861600</td>\n",
       "    </tr>\n",
       "  </tbody>\n",
       "</table>\n",
       "</div>"
      ],
      "text/plain": [
       "       url  url_length  number_special_characters     charset  \\\n",
       "0   M0_109          16                          7  iso-8859-1   \n",
       "1  B0_2314          16                          6       UTF-8   \n",
       "2   B0_911          16                          6    us-ascii   \n",
       "3   B0_113          17                          6  ISO-8859-1   \n",
       "4   B0_403          17                          6       UTF-8   \n",
       "\n",
       "                  server whois_country whois_statepro  \\\n",
       "0                  nginx          None           None   \n",
       "1          Apache/2.4.10          None           None   \n",
       "2  Microsoft-HTTPAPI/2.0          None           None   \n",
       "3                  nginx            US             AK   \n",
       "4                   None            US             TX   \n",
       "\n",
       "   tcp_conversation_exchange  dist_remote_tcp_port  remote_ips  app_bytes  \\\n",
       "0                          7                     0           2        700   \n",
       "1                         17                     7           4       1230   \n",
       "2                          0                     0           0          0   \n",
       "3                         31                    22           3       3812   \n",
       "4                         57                     2           5       4278   \n",
       "\n",
       "   source_app_packets  remote_app_packets  source_app_bytes  remote_app_bytes  \\\n",
       "0                   9                  10              1153               832   \n",
       "1                  17                  19              1265              1230   \n",
       "2                   0                   0                 0                 0   \n",
       "3                  39                  37             18784              4380   \n",
       "4                  61                  62            129889              4586   \n",
       "\n",
       "   app_packets  dns_query_times  type  regdate_ts      upd_ts  \n",
       "0            9              2.0     1  1444494060          -1  \n",
       "1           17              0.0     0          -1          -1  \n",
       "2            0              0.0     0          -1          -1  \n",
       "3           39              8.0     0   876189600  1378939500  \n",
       "4           61              4.0     0   831852000  1491861600  "
      ]
     },
     "execution_count": 27,
     "metadata": {},
     "output_type": "execute_result"
    }
   ],
   "source": [
    "data.head()"
   ]
  },
  {
   "cell_type": "markdown",
   "id": "e1b74228",
   "metadata": {},
   "source": [
    "A questo punto ho un dataset che contiene variabili numeriche e categoriche.\n",
    "Le divido in due liste (numeric_vars e categorical_vars) per poi trattarle in modo diverso prima di addestrare i modelli."
   ]
  },
  {
   "cell_type": "code",
   "execution_count": 28,
   "id": "3177879c",
   "metadata": {},
   "outputs": [],
   "source": [
    "numeric_vars = [\n",
    "    \"url_length\", \"number_special_characters\", \"tcp_conversation_exchange\",\n",
    "    \"dist_remote_tcp_port\", \"remote_ips\", \"app_bytes\", \"source_app_packets\", \"remote_app_packets\", \n",
    "    \"source_app_bytes\", \"remote_app_bytes\", \"app_packets\", \"dns_query_times\", \"regdate_ts\", \"upd_ts\"\n",
    "]\n",
    "\n",
    "categorical_vars = [\n",
    "    \"charset\", \"server\", \"whois_country\", \"whois_statepro\"\n",
    "]"
   ]
  },
  {
   "cell_type": "markdown",
   "id": "69db632c",
   "metadata": {},
   "source": [
    "## Perceptron"
   ]
  },
  {
   "cell_type": "markdown",
   "id": "c7759e8a",
   "metadata": {},
   "source": [
    "Per prima cosa valuto l'addrestramento di due semplici modelli (scelta sempre consigliata per valutare se anche un modello non troppo complesso funziona gia' bene) Il primo e' un modello lineare che si basa sulla divisione delle due classi con una retta in modo da predirre la classe di appartenenza di un sito web (maligno o benigno) chiamato **Perceptron**, mentre il secondo e' **LogisticRegression**. "
   ]
  },
  {
   "cell_type": "markdown",
   "id": "60f5aef5",
   "metadata": {},
   "source": [
    "*Solo per l'addestramento di questi due primi modelli non applico la Stratified K-Fold Cross Validation mantenedo il piu' semplice possibile il flusso di codice.*"
   ]
  },
  {
   "cell_type": "code",
   "execution_count": 29,
   "id": "7zXLdXuG9zuO",
   "metadata": {
    "id": "7zXLdXuG9zuO"
   },
   "outputs": [],
   "source": [
    "X = data.drop('type', axis=1)\n",
    "y = data['type']"
   ]
  },
  {
   "cell_type": "code",
   "execution_count": 30,
   "id": "O7lH9MJV-B1z",
   "metadata": {
    "id": "O7lH9MJV-B1z"
   },
   "outputs": [],
   "source": [
    "from sklearn.model_selection import train_test_split\n",
    "\n",
    "X_train, X_test, y_train, y_test = train_test_split(X, y, test_size=0.33, random_state=1)"
   ]
  },
  {
   "cell_type": "code",
   "execution_count": 31,
   "id": "63f59d80",
   "metadata": {},
   "outputs": [],
   "source": [
    "from sklearn.pipeline import Pipeline\n",
    "from sklearn.compose import ColumnTransformer\n",
    "from sklearn.preprocessing import StandardScaler\n",
    "from sklearn.preprocessing import OneHotEncoder\n",
    "from sklearn.preprocessing import PolynomialFeatures\n",
    "from sklearn.linear_model import Perceptron\n",
    "\n",
    "model1 = Pipeline([\n",
    "    (\"preproc\", ColumnTransformer([\n",
    "        (\"numeric\",     StandardScaler(), numeric_vars),\n",
    "        (\"categorical\", OneHotEncoder(handle_unknown='ignore'),  categorical_vars)\n",
    "    ])),\n",
    "    (\"percepton\", Perceptron(random_state=42))\n",
    "])"
   ]
  },
  {
   "cell_type": "code",
   "execution_count": 32,
   "id": "34065586",
   "metadata": {
    "scrolled": true
   },
   "outputs": [
    {
     "data": {
      "text/html": [
       "<style>#sk-container-id-1 {color: black;background-color: white;}#sk-container-id-1 pre{padding: 0;}#sk-container-id-1 div.sk-toggleable {background-color: white;}#sk-container-id-1 label.sk-toggleable__label {cursor: pointer;display: block;width: 100%;margin-bottom: 0;padding: 0.3em;box-sizing: border-box;text-align: center;}#sk-container-id-1 label.sk-toggleable__label-arrow:before {content: \"▸\";float: left;margin-right: 0.25em;color: #696969;}#sk-container-id-1 label.sk-toggleable__label-arrow:hover:before {color: black;}#sk-container-id-1 div.sk-estimator:hover label.sk-toggleable__label-arrow:before {color: black;}#sk-container-id-1 div.sk-toggleable__content {max-height: 0;max-width: 0;overflow: hidden;text-align: left;background-color: #f0f8ff;}#sk-container-id-1 div.sk-toggleable__content pre {margin: 0.2em;color: black;border-radius: 0.25em;background-color: #f0f8ff;}#sk-container-id-1 input.sk-toggleable__control:checked~div.sk-toggleable__content {max-height: 200px;max-width: 100%;overflow: auto;}#sk-container-id-1 input.sk-toggleable__control:checked~label.sk-toggleable__label-arrow:before {content: \"▾\";}#sk-container-id-1 div.sk-estimator input.sk-toggleable__control:checked~label.sk-toggleable__label {background-color: #d4ebff;}#sk-container-id-1 div.sk-label input.sk-toggleable__control:checked~label.sk-toggleable__label {background-color: #d4ebff;}#sk-container-id-1 input.sk-hidden--visually {border: 0;clip: rect(1px 1px 1px 1px);clip: rect(1px, 1px, 1px, 1px);height: 1px;margin: -1px;overflow: hidden;padding: 0;position: absolute;width: 1px;}#sk-container-id-1 div.sk-estimator {font-family: monospace;background-color: #f0f8ff;border: 1px dotted black;border-radius: 0.25em;box-sizing: border-box;margin-bottom: 0.5em;}#sk-container-id-1 div.sk-estimator:hover {background-color: #d4ebff;}#sk-container-id-1 div.sk-parallel-item::after {content: \"\";width: 100%;border-bottom: 1px solid gray;flex-grow: 1;}#sk-container-id-1 div.sk-label:hover label.sk-toggleable__label {background-color: #d4ebff;}#sk-container-id-1 div.sk-serial::before {content: \"\";position: absolute;border-left: 1px solid gray;box-sizing: border-box;top: 0;bottom: 0;left: 50%;z-index: 0;}#sk-container-id-1 div.sk-serial {display: flex;flex-direction: column;align-items: center;background-color: white;padding-right: 0.2em;padding-left: 0.2em;position: relative;}#sk-container-id-1 div.sk-item {position: relative;z-index: 1;}#sk-container-id-1 div.sk-parallel {display: flex;align-items: stretch;justify-content: center;background-color: white;position: relative;}#sk-container-id-1 div.sk-item::before, #sk-container-id-1 div.sk-parallel-item::before {content: \"\";position: absolute;border-left: 1px solid gray;box-sizing: border-box;top: 0;bottom: 0;left: 50%;z-index: -1;}#sk-container-id-1 div.sk-parallel-item {display: flex;flex-direction: column;z-index: 1;position: relative;background-color: white;}#sk-container-id-1 div.sk-parallel-item:first-child::after {align-self: flex-end;width: 50%;}#sk-container-id-1 div.sk-parallel-item:last-child::after {align-self: flex-start;width: 50%;}#sk-container-id-1 div.sk-parallel-item:only-child::after {width: 0;}#sk-container-id-1 div.sk-dashed-wrapped {border: 1px dashed gray;margin: 0 0.4em 0.5em 0.4em;box-sizing: border-box;padding-bottom: 0.4em;background-color: white;}#sk-container-id-1 div.sk-label label {font-family: monospace;font-weight: bold;display: inline-block;line-height: 1.2em;}#sk-container-id-1 div.sk-label-container {text-align: center;}#sk-container-id-1 div.sk-container {/* jupyter's `normalize.less` sets `[hidden] { display: none; }` but bootstrap.min.css set `[hidden] { display: none !important; }` so we also need the `!important` here to be able to override the default hidden behavior on the sphinx rendered scikit-learn.org. See: https://github.com/scikit-learn/scikit-learn/issues/21755 */display: inline-block !important;position: relative;}#sk-container-id-1 div.sk-text-repr-fallback {display: none;}</style><div id=\"sk-container-id-1\" class=\"sk-top-container\"><div class=\"sk-text-repr-fallback\"><pre>Pipeline(steps=[(&#x27;preproc&#x27;,\n",
       "                 ColumnTransformer(transformers=[(&#x27;numeric&#x27;, StandardScaler(),\n",
       "                                                  [&#x27;url_length&#x27;,\n",
       "                                                   &#x27;number_special_characters&#x27;,\n",
       "                                                   &#x27;tcp_conversation_exchange&#x27;,\n",
       "                                                   &#x27;dist_remote_tcp_port&#x27;,\n",
       "                                                   &#x27;remote_ips&#x27;, &#x27;app_bytes&#x27;,\n",
       "                                                   &#x27;source_app_packets&#x27;,\n",
       "                                                   &#x27;remote_app_packets&#x27;,\n",
       "                                                   &#x27;source_app_bytes&#x27;,\n",
       "                                                   &#x27;remote_app_bytes&#x27;,\n",
       "                                                   &#x27;app_packets&#x27;,\n",
       "                                                   &#x27;dns_query_times&#x27;,\n",
       "                                                   &#x27;regdate_ts&#x27;, &#x27;upd_ts&#x27;]),\n",
       "                                                 (&#x27;categorical&#x27;,\n",
       "                                                  OneHotEncoder(handle_unknown=&#x27;ignore&#x27;),\n",
       "                                                  [&#x27;charset&#x27;, &#x27;server&#x27;,\n",
       "                                                   &#x27;whois_country&#x27;,\n",
       "                                                   &#x27;whois_statepro&#x27;])])),\n",
       "                (&#x27;percepton&#x27;, Perceptron(random_state=42))])</pre><b>In a Jupyter environment, please rerun this cell to show the HTML representation or trust the notebook. <br />On GitHub, the HTML representation is unable to render, please try loading this page with nbviewer.org.</b></div><div class=\"sk-container\" hidden><div class=\"sk-item sk-dashed-wrapped\"><div class=\"sk-label-container\"><div class=\"sk-label sk-toggleable\"><input class=\"sk-toggleable__control sk-hidden--visually\" id=\"sk-estimator-id-1\" type=\"checkbox\" ><label for=\"sk-estimator-id-1\" class=\"sk-toggleable__label sk-toggleable__label-arrow\">Pipeline</label><div class=\"sk-toggleable__content\"><pre>Pipeline(steps=[(&#x27;preproc&#x27;,\n",
       "                 ColumnTransformer(transformers=[(&#x27;numeric&#x27;, StandardScaler(),\n",
       "                                                  [&#x27;url_length&#x27;,\n",
       "                                                   &#x27;number_special_characters&#x27;,\n",
       "                                                   &#x27;tcp_conversation_exchange&#x27;,\n",
       "                                                   &#x27;dist_remote_tcp_port&#x27;,\n",
       "                                                   &#x27;remote_ips&#x27;, &#x27;app_bytes&#x27;,\n",
       "                                                   &#x27;source_app_packets&#x27;,\n",
       "                                                   &#x27;remote_app_packets&#x27;,\n",
       "                                                   &#x27;source_app_bytes&#x27;,\n",
       "                                                   &#x27;remote_app_bytes&#x27;,\n",
       "                                                   &#x27;app_packets&#x27;,\n",
       "                                                   &#x27;dns_query_times&#x27;,\n",
       "                                                   &#x27;regdate_ts&#x27;, &#x27;upd_ts&#x27;]),\n",
       "                                                 (&#x27;categorical&#x27;,\n",
       "                                                  OneHotEncoder(handle_unknown=&#x27;ignore&#x27;),\n",
       "                                                  [&#x27;charset&#x27;, &#x27;server&#x27;,\n",
       "                                                   &#x27;whois_country&#x27;,\n",
       "                                                   &#x27;whois_statepro&#x27;])])),\n",
       "                (&#x27;percepton&#x27;, Perceptron(random_state=42))])</pre></div></div></div><div class=\"sk-serial\"><div class=\"sk-item sk-dashed-wrapped\"><div class=\"sk-label-container\"><div class=\"sk-label sk-toggleable\"><input class=\"sk-toggleable__control sk-hidden--visually\" id=\"sk-estimator-id-2\" type=\"checkbox\" ><label for=\"sk-estimator-id-2\" class=\"sk-toggleable__label sk-toggleable__label-arrow\">preproc: ColumnTransformer</label><div class=\"sk-toggleable__content\"><pre>ColumnTransformer(transformers=[(&#x27;numeric&#x27;, StandardScaler(),\n",
       "                                 [&#x27;url_length&#x27;, &#x27;number_special_characters&#x27;,\n",
       "                                  &#x27;tcp_conversation_exchange&#x27;,\n",
       "                                  &#x27;dist_remote_tcp_port&#x27;, &#x27;remote_ips&#x27;,\n",
       "                                  &#x27;app_bytes&#x27;, &#x27;source_app_packets&#x27;,\n",
       "                                  &#x27;remote_app_packets&#x27;, &#x27;source_app_bytes&#x27;,\n",
       "                                  &#x27;remote_app_bytes&#x27;, &#x27;app_packets&#x27;,\n",
       "                                  &#x27;dns_query_times&#x27;, &#x27;regdate_ts&#x27;, &#x27;upd_ts&#x27;]),\n",
       "                                (&#x27;categorical&#x27;,\n",
       "                                 OneHotEncoder(handle_unknown=&#x27;ignore&#x27;),\n",
       "                                 [&#x27;charset&#x27;, &#x27;server&#x27;, &#x27;whois_country&#x27;,\n",
       "                                  &#x27;whois_statepro&#x27;])])</pre></div></div></div><div class=\"sk-parallel\"><div class=\"sk-parallel-item\"><div class=\"sk-item\"><div class=\"sk-label-container\"><div class=\"sk-label sk-toggleable\"><input class=\"sk-toggleable__control sk-hidden--visually\" id=\"sk-estimator-id-3\" type=\"checkbox\" ><label for=\"sk-estimator-id-3\" class=\"sk-toggleable__label sk-toggleable__label-arrow\">numeric</label><div class=\"sk-toggleable__content\"><pre>[&#x27;url_length&#x27;, &#x27;number_special_characters&#x27;, &#x27;tcp_conversation_exchange&#x27;, &#x27;dist_remote_tcp_port&#x27;, &#x27;remote_ips&#x27;, &#x27;app_bytes&#x27;, &#x27;source_app_packets&#x27;, &#x27;remote_app_packets&#x27;, &#x27;source_app_bytes&#x27;, &#x27;remote_app_bytes&#x27;, &#x27;app_packets&#x27;, &#x27;dns_query_times&#x27;, &#x27;regdate_ts&#x27;, &#x27;upd_ts&#x27;]</pre></div></div></div><div class=\"sk-serial\"><div class=\"sk-item\"><div class=\"sk-estimator sk-toggleable\"><input class=\"sk-toggleable__control sk-hidden--visually\" id=\"sk-estimator-id-4\" type=\"checkbox\" ><label for=\"sk-estimator-id-4\" class=\"sk-toggleable__label sk-toggleable__label-arrow\">StandardScaler</label><div class=\"sk-toggleable__content\"><pre>StandardScaler()</pre></div></div></div></div></div></div><div class=\"sk-parallel-item\"><div class=\"sk-item\"><div class=\"sk-label-container\"><div class=\"sk-label sk-toggleable\"><input class=\"sk-toggleable__control sk-hidden--visually\" id=\"sk-estimator-id-5\" type=\"checkbox\" ><label for=\"sk-estimator-id-5\" class=\"sk-toggleable__label sk-toggleable__label-arrow\">categorical</label><div class=\"sk-toggleable__content\"><pre>[&#x27;charset&#x27;, &#x27;server&#x27;, &#x27;whois_country&#x27;, &#x27;whois_statepro&#x27;]</pre></div></div></div><div class=\"sk-serial\"><div class=\"sk-item\"><div class=\"sk-estimator sk-toggleable\"><input class=\"sk-toggleable__control sk-hidden--visually\" id=\"sk-estimator-id-6\" type=\"checkbox\" ><label for=\"sk-estimator-id-6\" class=\"sk-toggleable__label sk-toggleable__label-arrow\">OneHotEncoder</label><div class=\"sk-toggleable__content\"><pre>OneHotEncoder(handle_unknown=&#x27;ignore&#x27;)</pre></div></div></div></div></div></div></div></div><div class=\"sk-item\"><div class=\"sk-estimator sk-toggleable\"><input class=\"sk-toggleable__control sk-hidden--visually\" id=\"sk-estimator-id-7\" type=\"checkbox\" ><label for=\"sk-estimator-id-7\" class=\"sk-toggleable__label sk-toggleable__label-arrow\">Perceptron</label><div class=\"sk-toggleable__content\"><pre>Perceptron(random_state=42)</pre></div></div></div></div></div></div></div>"
      ],
      "text/plain": [
       "Pipeline(steps=[('preproc',\n",
       "                 ColumnTransformer(transformers=[('numeric', StandardScaler(),\n",
       "                                                  ['url_length',\n",
       "                                                   'number_special_characters',\n",
       "                                                   'tcp_conversation_exchange',\n",
       "                                                   'dist_remote_tcp_port',\n",
       "                                                   'remote_ips', 'app_bytes',\n",
       "                                                   'source_app_packets',\n",
       "                                                   'remote_app_packets',\n",
       "                                                   'source_app_bytes',\n",
       "                                                   'remote_app_bytes',\n",
       "                                                   'app_packets',\n",
       "                                                   'dns_query_times',\n",
       "                                                   'regdate_ts', 'upd_ts']),\n",
       "                                                 ('categorical',\n",
       "                                                  OneHotEncoder(handle_unknown='ignore'),\n",
       "                                                  ['charset', 'server',\n",
       "                                                   'whois_country',\n",
       "                                                   'whois_statepro'])])),\n",
       "                ('percepton', Perceptron(random_state=42))])"
      ]
     },
     "execution_count": 32,
     "metadata": {},
     "output_type": "execute_result"
    }
   ],
   "source": [
    "model1.fit(X_train, y_train)"
   ]
  },
  {
   "cell_type": "code",
   "execution_count": 33,
   "id": "1b3df98a",
   "metadata": {},
   "outputs": [
    {
     "data": {
      "text/plain": [
       "402"
      ]
     },
     "execution_count": 33,
     "metadata": {},
     "output_type": "execute_result"
    }
   ],
   "source": [
    "model1.named_steps['percepton'].coef_[0].size"
   ]
  },
  {
   "cell_type": "code",
   "execution_count": 34,
   "id": "e7f80d24",
   "metadata": {},
   "outputs": [
    {
     "data": {
      "text/plain": [
       "1"
      ]
     },
     "execution_count": 34,
     "metadata": {},
     "output_type": "execute_result"
    }
   ],
   "source": [
    "model1.named_steps['percepton'].intercept_[0].size"
   ]
  },
  {
   "cell_type": "code",
   "execution_count": 35,
   "id": "e6cdd875",
   "metadata": {},
   "outputs": [
    {
     "data": {
      "text/plain": [
       "array([ -9.71058716,  11.82255363,   3.86402889, -28.59450523,\n",
       "        -2.4946585 ,   1.0847021 ,   4.14762819,  -6.18594665,\n",
       "       -17.43236362,   1.07864346,   4.14762819,   5.91057667,\n",
       "         0.31669169,  -8.36786776,  -9.        ,   0.        ,\n",
       "       -12.        , -10.        ,  -8.        , -18.        ,\n",
       "         3.        ,  -4.        ,   0.        ,  -7.        ,\n",
       "         0.        ,  -2.        ,   0.        ,   0.        ,\n",
       "         4.        ,  -3.        ,   0.        ,  15.        ,\n",
       "         3.        ,   0.        ,   0.        ,   0.        ,\n",
       "        -1.        ,   5.        ,  -1.        ,  -1.        ,\n",
       "        -1.        ,  -1.        ,   4.        ,   0.        ,\n",
       "         0.        ,   0.        ,  -7.        ,   0.        ,\n",
       "       -16.        ,   0.        ,  -1.        ,  -1.        ,\n",
       "         3.        ,  -1.        ,   0.        ,   0.        ,\n",
       "        -1.        ,  -1.        ,  -4.        ,   0.        ,\n",
       "         5.        ,   0.        ,  -5.        ,  -3.        ,\n",
       "        11.        ,   0.        ,   0.        ,   0.        ,\n",
       "        -1.        ,   0.        ,   0.        ,   0.        ,\n",
       "        -5.        ,   0.        ,  -1.        ,  -2.        ,\n",
       "         0.        ,   0.        ,   0.        ,   0.        ,\n",
       "        -1.        ,   0.        ,   0.        ,   9.        ,\n",
       "        -1.        ,   0.        ,   0.        ,  -1.        ,\n",
       "        -3.        ,   0.        ,  -3.        ,   0.        ,\n",
       "         0.        ,   0.        ,   0.        ,   0.        ,\n",
       "        -4.        ,   0.        ,   0.        ,  -3.        ,\n",
       "         0.        ,   0.        ,   0.        ,   0.        ,\n",
       "         0.        ,  -1.        ,  -2.        ,   0.        ,\n",
       "        -2.        ,   0.        ,   0.        ,   0.        ,\n",
       "        -9.        ,   0.        ,  -6.        ,  24.        ,\n",
       "        -5.        ,  -5.        ,  -5.        ,  -1.        ,\n",
       "        -1.        , -19.        ,   0.        ,   3.        ,\n",
       "         0.        ,   0.        ,   5.        ,   0.        ,\n",
       "        -2.        ,   0.        ,  -3.        ,   0.        ,\n",
       "         0.        ,  -8.        ,  -1.        ,   0.        ,\n",
       "         0.        ,  -2.        ,  -2.        ,   0.        ,\n",
       "        -3.        ,   0.        ,  -4.        ,   0.        ,\n",
       "         0.        ,   0.        ,  -1.        ,   0.        ,\n",
       "         0.        ,   0.        ,   0.        ,   0.        ,\n",
       "         0.        ,   0.        ,  -2.        ,   0.        ,\n",
       "         0.        ,   0.        ,   0.        ,   0.        ,\n",
       "         0.        ,  -1.        ,   0.        ,   0.        ,\n",
       "         0.        ,   0.        ,   0.        ,   0.        ,\n",
       "         0.        ,   0.        ,   0.        ,   0.        ,\n",
       "        -4.        ,   0.        ,   0.        ,   0.        ,\n",
       "         0.        ,   0.        ,   0.        ,   0.        ,\n",
       "         0.        ,  -1.        ,   0.        ,   5.        ,\n",
       "         0.        ,   0.        ,   0.        ,  -3.        ,\n",
       "         0.        ,   0.        ,   0.        ,   2.        ,\n",
       "         0.        ,  -1.        ,   0.        ,   0.        ,\n",
       "         0.        ,   3.        ,   0.        ,   1.        ,\n",
       "         0.        ,   3.        ,  11.        ,   0.        ,\n",
       "         0.        ,   0.        ,   6.        ,   0.        ,\n",
       "        -4.        ,   0.        ,   0.        ,   0.        ,\n",
       "         0.        ,   0.        , -13.        ,  -3.        ,\n",
       "        -8.        ,  -1.        ,   5.        ,   0.        ,\n",
       "         0.        , -10.        ,  -4.        ,  -5.        ,\n",
       "         9.        ,   0.        ,  -2.        ,  19.        ,\n",
       "        -2.        ,  -7.        ,  -2.        ,  -1.        ,\n",
       "         0.        ,  -1.        ,  -5.        ,  -7.        ,\n",
       "         2.        ,  -1.        ,   0.        ,  -1.        ,\n",
       "        -6.        ,  -6.        ,  -8.        ,  -4.        ,\n",
       "         1.        ,  -3.        ,  -1.        ,  -1.        ,\n",
       "         0.        ,   0.        ,   3.        ,   5.        ,\n",
       "        -3.        ,  -7.        ,   8.        ,  -2.        ,\n",
       "        -1.        ,   7.        ,  -2.        ,  -1.        ,\n",
       "         0.        ,   0.        ,  -1.        ,  -1.        ,\n",
       "         8.        , -13.        ,   1.        ,  -3.        ,\n",
       "        -3.        ,  32.        ,  -2.        ,   0.        ,\n",
       "        -1.        ,   0.        ,  -4.        ,  -1.        ,\n",
       "         4.        ,  -3.        ,   0.        ,  -1.        ,\n",
       "        -1.        ,   0.        , -13.        ,   3.        ,\n",
       "         0.        ,   0.        ,  -2.        ,   0.        ,\n",
       "        -1.        ,  -1.        ,  -3.        ,  -3.        ,\n",
       "         0.        ,  -1.        ,  -3.        ,   0.        ,\n",
       "        -7.        ,   0.        ,   0.        ,   0.        ,\n",
       "         7.        ,   1.        ,  -3.        ,  -1.        ,\n",
       "         0.        ,   7.        ,  -3.        ,  -2.        ,\n",
       "        -2.        ,   0.        ,  -3.        ,   0.        ,\n",
       "        -3.        ,   0.        ,   1.        ,  -1.        ,\n",
       "         0.        ,  -5.        ,   8.        ,   0.        ,\n",
       "        -1.        ,  -7.        ,   2.        ,   0.        ,\n",
       "         0.        ,  -1.        ,  -5.        ,   0.        ,\n",
       "         0.        ,   0.        ,   0.        ,   0.        ,\n",
       "        -2.        ,  -4.        ,  -8.        ,  -1.        ,\n",
       "        -1.        ,   0.        ,   0.        ,   3.        ,\n",
       "        -1.        ,  -7.        ,  -1.        ,  -1.        ,\n",
       "        -3.        ,   0.        ,   5.        ,  -4.        ,\n",
       "         9.        ,  -4.        ,   0.        ,   0.        ,\n",
       "         1.        ,   0.        ,  -2.        ,   0.        ,\n",
       "        -7.        ,  -1.        ,   0.        ,  -1.        ,\n",
       "        -6.        ,  -1.        ,   0.        ,   4.        ,\n",
       "         0.        ,   0.        ,   3.        ,   0.        ,\n",
       "         0.        ,  -2.        ,   0.        ,   5.        ,\n",
       "         0.        ,   4.        ,  -2.        ,   0.        ,\n",
       "         0.        ,  -2.        ,   0.        ,   0.        ,\n",
       "        -2.        ,   5.        ,  -5.        ,   0.        ,\n",
       "         0.        ,  11.        ,  -3.        ,  -3.        ,\n",
       "        -8.        ,  -1.        ,   0.        ,   0.        ,\n",
       "         6.        ,   0.        ,   5.        ,   0.        ,\n",
       "         0.        ,   0.        ,  -2.        ,  -2.        ,\n",
       "         1.        ,  -1.        ])"
      ]
     },
     "execution_count": 35,
     "metadata": {},
     "output_type": "execute_result"
    }
   ],
   "source": [
    "model1.named_steps['percepton'].coef_[0]"
   ]
  },
  {
   "cell_type": "code",
   "execution_count": 36,
   "id": "312dc96d",
   "metadata": {},
   "outputs": [
    {
     "data": {
      "text/plain": [
       "-0.5800000000000003"
      ]
     },
     "execution_count": 36,
     "metadata": {},
     "output_type": "execute_result"
    }
   ],
   "source": [
    "model1.named_steps['percepton'].intercept_[0]"
   ]
  },
  {
   "cell_type": "code",
   "execution_count": 37,
   "id": "934b4de1",
   "metadata": {},
   "outputs": [
    {
     "data": {
      "text/plain": [
       "0.9336734693877551"
      ]
     },
     "execution_count": 37,
     "metadata": {},
     "output_type": "execute_result"
    }
   ],
   "source": [
    "model1.score(X_test, y_test)"
   ]
  },
  {
   "cell_type": "markdown",
   "id": "861556f2",
   "metadata": {},
   "source": [
    "Questo modello riesce ad ottenere un accuratezza del 93%, non male tenendo conto che è un semplice modello lineare. \n",
    "\n",
    "Che questo modello potesse ottenere un risultato molto buono poteva essere previsto in quanto questo dataset possiede molte variabili, per cui e' piu' facile separare le classi linearmente."
   ]
  },
  {
   "cell_type": "markdown",
   "id": "ecf644bc",
   "metadata": {},
   "source": [
    "## Logistic Regression"
   ]
  },
  {
   "cell_type": "code",
   "execution_count": 38,
   "id": "58360376",
   "metadata": {},
   "outputs": [],
   "source": [
    "from sklearn.linear_model import LogisticRegression\n",
    "from sklearn.preprocessing import PolynomialFeatures\n",
    "\n",
    "model3 = Pipeline([\n",
    "    (\"preproc\", ColumnTransformer([\n",
    "        (\"numeric\",     StandardScaler(), numeric_vars),\n",
    "        (\"categorical\", OneHotEncoder(handle_unknown='ignore'),  categorical_vars)\n",
    "    ])),\n",
    "    (\"logreg\", LogisticRegression(random_state=42, C=1)) # the default regolarization is the best\n",
    "])"
   ]
  },
  {
   "cell_type": "code",
   "execution_count": 39,
   "id": "066ab37b",
   "metadata": {},
   "outputs": [
    {
     "data": {
      "text/html": [
       "<style>#sk-container-id-2 {color: black;background-color: white;}#sk-container-id-2 pre{padding: 0;}#sk-container-id-2 div.sk-toggleable {background-color: white;}#sk-container-id-2 label.sk-toggleable__label {cursor: pointer;display: block;width: 100%;margin-bottom: 0;padding: 0.3em;box-sizing: border-box;text-align: center;}#sk-container-id-2 label.sk-toggleable__label-arrow:before {content: \"▸\";float: left;margin-right: 0.25em;color: #696969;}#sk-container-id-2 label.sk-toggleable__label-arrow:hover:before {color: black;}#sk-container-id-2 div.sk-estimator:hover label.sk-toggleable__label-arrow:before {color: black;}#sk-container-id-2 div.sk-toggleable__content {max-height: 0;max-width: 0;overflow: hidden;text-align: left;background-color: #f0f8ff;}#sk-container-id-2 div.sk-toggleable__content pre {margin: 0.2em;color: black;border-radius: 0.25em;background-color: #f0f8ff;}#sk-container-id-2 input.sk-toggleable__control:checked~div.sk-toggleable__content {max-height: 200px;max-width: 100%;overflow: auto;}#sk-container-id-2 input.sk-toggleable__control:checked~label.sk-toggleable__label-arrow:before {content: \"▾\";}#sk-container-id-2 div.sk-estimator input.sk-toggleable__control:checked~label.sk-toggleable__label {background-color: #d4ebff;}#sk-container-id-2 div.sk-label input.sk-toggleable__control:checked~label.sk-toggleable__label {background-color: #d4ebff;}#sk-container-id-2 input.sk-hidden--visually {border: 0;clip: rect(1px 1px 1px 1px);clip: rect(1px, 1px, 1px, 1px);height: 1px;margin: -1px;overflow: hidden;padding: 0;position: absolute;width: 1px;}#sk-container-id-2 div.sk-estimator {font-family: monospace;background-color: #f0f8ff;border: 1px dotted black;border-radius: 0.25em;box-sizing: border-box;margin-bottom: 0.5em;}#sk-container-id-2 div.sk-estimator:hover {background-color: #d4ebff;}#sk-container-id-2 div.sk-parallel-item::after {content: \"\";width: 100%;border-bottom: 1px solid gray;flex-grow: 1;}#sk-container-id-2 div.sk-label:hover label.sk-toggleable__label {background-color: #d4ebff;}#sk-container-id-2 div.sk-serial::before {content: \"\";position: absolute;border-left: 1px solid gray;box-sizing: border-box;top: 0;bottom: 0;left: 50%;z-index: 0;}#sk-container-id-2 div.sk-serial {display: flex;flex-direction: column;align-items: center;background-color: white;padding-right: 0.2em;padding-left: 0.2em;position: relative;}#sk-container-id-2 div.sk-item {position: relative;z-index: 1;}#sk-container-id-2 div.sk-parallel {display: flex;align-items: stretch;justify-content: center;background-color: white;position: relative;}#sk-container-id-2 div.sk-item::before, #sk-container-id-2 div.sk-parallel-item::before {content: \"\";position: absolute;border-left: 1px solid gray;box-sizing: border-box;top: 0;bottom: 0;left: 50%;z-index: -1;}#sk-container-id-2 div.sk-parallel-item {display: flex;flex-direction: column;z-index: 1;position: relative;background-color: white;}#sk-container-id-2 div.sk-parallel-item:first-child::after {align-self: flex-end;width: 50%;}#sk-container-id-2 div.sk-parallel-item:last-child::after {align-self: flex-start;width: 50%;}#sk-container-id-2 div.sk-parallel-item:only-child::after {width: 0;}#sk-container-id-2 div.sk-dashed-wrapped {border: 1px dashed gray;margin: 0 0.4em 0.5em 0.4em;box-sizing: border-box;padding-bottom: 0.4em;background-color: white;}#sk-container-id-2 div.sk-label label {font-family: monospace;font-weight: bold;display: inline-block;line-height: 1.2em;}#sk-container-id-2 div.sk-label-container {text-align: center;}#sk-container-id-2 div.sk-container {/* jupyter's `normalize.less` sets `[hidden] { display: none; }` but bootstrap.min.css set `[hidden] { display: none !important; }` so we also need the `!important` here to be able to override the default hidden behavior on the sphinx rendered scikit-learn.org. See: https://github.com/scikit-learn/scikit-learn/issues/21755 */display: inline-block !important;position: relative;}#sk-container-id-2 div.sk-text-repr-fallback {display: none;}</style><div id=\"sk-container-id-2\" class=\"sk-top-container\"><div class=\"sk-text-repr-fallback\"><pre>Pipeline(steps=[(&#x27;preproc&#x27;,\n",
       "                 ColumnTransformer(transformers=[(&#x27;numeric&#x27;, StandardScaler(),\n",
       "                                                  [&#x27;url_length&#x27;,\n",
       "                                                   &#x27;number_special_characters&#x27;,\n",
       "                                                   &#x27;tcp_conversation_exchange&#x27;,\n",
       "                                                   &#x27;dist_remote_tcp_port&#x27;,\n",
       "                                                   &#x27;remote_ips&#x27;, &#x27;app_bytes&#x27;,\n",
       "                                                   &#x27;source_app_packets&#x27;,\n",
       "                                                   &#x27;remote_app_packets&#x27;,\n",
       "                                                   &#x27;source_app_bytes&#x27;,\n",
       "                                                   &#x27;remote_app_bytes&#x27;,\n",
       "                                                   &#x27;app_packets&#x27;,\n",
       "                                                   &#x27;dns_query_times&#x27;,\n",
       "                                                   &#x27;regdate_ts&#x27;, &#x27;upd_ts&#x27;]),\n",
       "                                                 (&#x27;categorical&#x27;,\n",
       "                                                  OneHotEncoder(handle_unknown=&#x27;ignore&#x27;),\n",
       "                                                  [&#x27;charset&#x27;, &#x27;server&#x27;,\n",
       "                                                   &#x27;whois_country&#x27;,\n",
       "                                                   &#x27;whois_statepro&#x27;])])),\n",
       "                (&#x27;logreg&#x27;, LogisticRegression(C=1, random_state=42))])</pre><b>In a Jupyter environment, please rerun this cell to show the HTML representation or trust the notebook. <br />On GitHub, the HTML representation is unable to render, please try loading this page with nbviewer.org.</b></div><div class=\"sk-container\" hidden><div class=\"sk-item sk-dashed-wrapped\"><div class=\"sk-label-container\"><div class=\"sk-label sk-toggleable\"><input class=\"sk-toggleable__control sk-hidden--visually\" id=\"sk-estimator-id-8\" type=\"checkbox\" ><label for=\"sk-estimator-id-8\" class=\"sk-toggleable__label sk-toggleable__label-arrow\">Pipeline</label><div class=\"sk-toggleable__content\"><pre>Pipeline(steps=[(&#x27;preproc&#x27;,\n",
       "                 ColumnTransformer(transformers=[(&#x27;numeric&#x27;, StandardScaler(),\n",
       "                                                  [&#x27;url_length&#x27;,\n",
       "                                                   &#x27;number_special_characters&#x27;,\n",
       "                                                   &#x27;tcp_conversation_exchange&#x27;,\n",
       "                                                   &#x27;dist_remote_tcp_port&#x27;,\n",
       "                                                   &#x27;remote_ips&#x27;, &#x27;app_bytes&#x27;,\n",
       "                                                   &#x27;source_app_packets&#x27;,\n",
       "                                                   &#x27;remote_app_packets&#x27;,\n",
       "                                                   &#x27;source_app_bytes&#x27;,\n",
       "                                                   &#x27;remote_app_bytes&#x27;,\n",
       "                                                   &#x27;app_packets&#x27;,\n",
       "                                                   &#x27;dns_query_times&#x27;,\n",
       "                                                   &#x27;regdate_ts&#x27;, &#x27;upd_ts&#x27;]),\n",
       "                                                 (&#x27;categorical&#x27;,\n",
       "                                                  OneHotEncoder(handle_unknown=&#x27;ignore&#x27;),\n",
       "                                                  [&#x27;charset&#x27;, &#x27;server&#x27;,\n",
       "                                                   &#x27;whois_country&#x27;,\n",
       "                                                   &#x27;whois_statepro&#x27;])])),\n",
       "                (&#x27;logreg&#x27;, LogisticRegression(C=1, random_state=42))])</pre></div></div></div><div class=\"sk-serial\"><div class=\"sk-item sk-dashed-wrapped\"><div class=\"sk-label-container\"><div class=\"sk-label sk-toggleable\"><input class=\"sk-toggleable__control sk-hidden--visually\" id=\"sk-estimator-id-9\" type=\"checkbox\" ><label for=\"sk-estimator-id-9\" class=\"sk-toggleable__label sk-toggleable__label-arrow\">preproc: ColumnTransformer</label><div class=\"sk-toggleable__content\"><pre>ColumnTransformer(transformers=[(&#x27;numeric&#x27;, StandardScaler(),\n",
       "                                 [&#x27;url_length&#x27;, &#x27;number_special_characters&#x27;,\n",
       "                                  &#x27;tcp_conversation_exchange&#x27;,\n",
       "                                  &#x27;dist_remote_tcp_port&#x27;, &#x27;remote_ips&#x27;,\n",
       "                                  &#x27;app_bytes&#x27;, &#x27;source_app_packets&#x27;,\n",
       "                                  &#x27;remote_app_packets&#x27;, &#x27;source_app_bytes&#x27;,\n",
       "                                  &#x27;remote_app_bytes&#x27;, &#x27;app_packets&#x27;,\n",
       "                                  &#x27;dns_query_times&#x27;, &#x27;regdate_ts&#x27;, &#x27;upd_ts&#x27;]),\n",
       "                                (&#x27;categorical&#x27;,\n",
       "                                 OneHotEncoder(handle_unknown=&#x27;ignore&#x27;),\n",
       "                                 [&#x27;charset&#x27;, &#x27;server&#x27;, &#x27;whois_country&#x27;,\n",
       "                                  &#x27;whois_statepro&#x27;])])</pre></div></div></div><div class=\"sk-parallel\"><div class=\"sk-parallel-item\"><div class=\"sk-item\"><div class=\"sk-label-container\"><div class=\"sk-label sk-toggleable\"><input class=\"sk-toggleable__control sk-hidden--visually\" id=\"sk-estimator-id-10\" type=\"checkbox\" ><label for=\"sk-estimator-id-10\" class=\"sk-toggleable__label sk-toggleable__label-arrow\">numeric</label><div class=\"sk-toggleable__content\"><pre>[&#x27;url_length&#x27;, &#x27;number_special_characters&#x27;, &#x27;tcp_conversation_exchange&#x27;, &#x27;dist_remote_tcp_port&#x27;, &#x27;remote_ips&#x27;, &#x27;app_bytes&#x27;, &#x27;source_app_packets&#x27;, &#x27;remote_app_packets&#x27;, &#x27;source_app_bytes&#x27;, &#x27;remote_app_bytes&#x27;, &#x27;app_packets&#x27;, &#x27;dns_query_times&#x27;, &#x27;regdate_ts&#x27;, &#x27;upd_ts&#x27;]</pre></div></div></div><div class=\"sk-serial\"><div class=\"sk-item\"><div class=\"sk-estimator sk-toggleable\"><input class=\"sk-toggleable__control sk-hidden--visually\" id=\"sk-estimator-id-11\" type=\"checkbox\" ><label for=\"sk-estimator-id-11\" class=\"sk-toggleable__label sk-toggleable__label-arrow\">StandardScaler</label><div class=\"sk-toggleable__content\"><pre>StandardScaler()</pre></div></div></div></div></div></div><div class=\"sk-parallel-item\"><div class=\"sk-item\"><div class=\"sk-label-container\"><div class=\"sk-label sk-toggleable\"><input class=\"sk-toggleable__control sk-hidden--visually\" id=\"sk-estimator-id-12\" type=\"checkbox\" ><label for=\"sk-estimator-id-12\" class=\"sk-toggleable__label sk-toggleable__label-arrow\">categorical</label><div class=\"sk-toggleable__content\"><pre>[&#x27;charset&#x27;, &#x27;server&#x27;, &#x27;whois_country&#x27;, &#x27;whois_statepro&#x27;]</pre></div></div></div><div class=\"sk-serial\"><div class=\"sk-item\"><div class=\"sk-estimator sk-toggleable\"><input class=\"sk-toggleable__control sk-hidden--visually\" id=\"sk-estimator-id-13\" type=\"checkbox\" ><label for=\"sk-estimator-id-13\" class=\"sk-toggleable__label sk-toggleable__label-arrow\">OneHotEncoder</label><div class=\"sk-toggleable__content\"><pre>OneHotEncoder(handle_unknown=&#x27;ignore&#x27;)</pre></div></div></div></div></div></div></div></div><div class=\"sk-item\"><div class=\"sk-estimator sk-toggleable\"><input class=\"sk-toggleable__control sk-hidden--visually\" id=\"sk-estimator-id-14\" type=\"checkbox\" ><label for=\"sk-estimator-id-14\" class=\"sk-toggleable__label sk-toggleable__label-arrow\">LogisticRegression</label><div class=\"sk-toggleable__content\"><pre>LogisticRegression(C=1, random_state=42)</pre></div></div></div></div></div></div></div>"
      ],
      "text/plain": [
       "Pipeline(steps=[('preproc',\n",
       "                 ColumnTransformer(transformers=[('numeric', StandardScaler(),\n",
       "                                                  ['url_length',\n",
       "                                                   'number_special_characters',\n",
       "                                                   'tcp_conversation_exchange',\n",
       "                                                   'dist_remote_tcp_port',\n",
       "                                                   'remote_ips', 'app_bytes',\n",
       "                                                   'source_app_packets',\n",
       "                                                   'remote_app_packets',\n",
       "                                                   'source_app_bytes',\n",
       "                                                   'remote_app_bytes',\n",
       "                                                   'app_packets',\n",
       "                                                   'dns_query_times',\n",
       "                                                   'regdate_ts', 'upd_ts']),\n",
       "                                                 ('categorical',\n",
       "                                                  OneHotEncoder(handle_unknown='ignore'),\n",
       "                                                  ['charset', 'server',\n",
       "                                                   'whois_country',\n",
       "                                                   'whois_statepro'])])),\n",
       "                ('logreg', LogisticRegression(C=1, random_state=42))])"
      ]
     },
     "execution_count": 39,
     "metadata": {},
     "output_type": "execute_result"
    }
   ],
   "source": [
    "model3.fit(X_train, y_train)"
   ]
  },
  {
   "cell_type": "markdown",
   "id": "e96d26c3",
   "metadata": {},
   "source": [
    "Da questi valori capisco quali sono le colonne più importanti."
   ]
  },
  {
   "cell_type": "code",
   "execution_count": 40,
   "id": "bf2bccc8",
   "metadata": {},
   "outputs": [
    {
     "data": {
      "text/plain": [
       "0.9523809523809523"
      ]
     },
     "execution_count": 40,
     "metadata": {},
     "output_type": "execute_result"
    }
   ],
   "source": [
    "model3.score(X_test, y_test)"
   ]
  },
  {
   "cell_type": "code",
   "execution_count": 41,
   "id": "ba821eab",
   "metadata": {},
   "outputs": [
    {
     "name": "stdout",
     "output_type": "stream",
     "text": [
      "[-1.13202172e+00  1.32505724e+00  2.44846124e-02 -2.58998949e+00\n",
      " -3.98303733e-01 -6.24830726e-02  1.24874981e-01 -3.38780982e-02\n",
      " -8.80418791e-01 -5.97076851e-02  1.24874981e-01  1.18243994e+00\n",
      "  8.90623258e-01 -1.45239911e+00  1.03379232e-01 -2.17449927e-02\n",
      " -1.46128478e-02  1.22042714e-01 -2.24281124e-01 -5.79729669e-01\n",
      "  6.94075769e-01 -7.87845142e-02 -1.00102416e-02 -2.94772675e-01\n",
      " -3.77618517e-02 -7.25718879e-02 -1.51775025e-02 -4.90637788e-02\n",
      "  2.97397741e-01 -4.12340240e-01 -1.06278060e-02  8.82031239e-01\n",
      "  6.94075769e-01 -1.05554316e-04 -1.11534726e-02 -5.34283684e-02\n",
      " -6.17724344e-02  3.94883997e-01 -3.16725078e-02 -1.32063814e-02\n",
      " -1.13347605e-01 -9.44102349e-02  1.42278729e+00 -2.20851108e-02\n",
      " -6.97083052e-03 -2.13471802e-02 -5.82312889e-01 -1.70279629e-02\n",
      " -9.19905206e-01 -9.67465733e-03 -3.46299208e-02 -1.28876865e-01\n",
      "  5.59440673e-01 -4.71099029e-02 -4.46891593e-02 -4.12861656e-02\n",
      " -3.26594493e-02 -8.97730269e-02 -2.38435681e-01 -1.48969070e-02\n",
      "  1.32989011e-01 -9.78807301e-03 -2.31005098e-01 -3.14492806e-01\n",
      "  6.24520422e-01 -2.26665072e-02 -1.73840308e-02 -4.03977051e-02\n",
      " -5.20986968e-03 -5.19671835e-03 -9.03799673e-02 -2.91801709e-02\n",
      " -8.56635653e-02 -2.35092616e-02 -3.85506729e-02 -1.21348510e-01\n",
      " -3.12548633e-02 -1.34909529e-02 -5.17599773e-02 -2.16888186e-02\n",
      " -7.87394869e-02 -7.47295085e-03 -8.45594176e-03  1.23250601e+00\n",
      " -1.09071159e-01 -1.50047675e-01 -3.61034881e-02 -1.85477055e-02\n",
      " -2.02707746e-01 -6.24237097e-03 -1.29796118e-01 -9.47543019e-03\n",
      " -4.37543117e-03 -4.20307861e-02 -1.28998646e-02 -4.03728949e-02\n",
      " -8.24977227e-02 -5.93770432e-03 -1.27597424e-02 -3.31412233e-01\n",
      " -3.88904341e-02 -1.17597673e-02 -5.25902520e-03 -1.84689389e-03\n",
      " -3.07461638e-02 -4.42315149e-02 -1.12585617e-01 -2.63742382e-03\n",
      " -2.60953551e-01 -1.06393275e-02 -6.69034644e-02 -2.36373814e-02\n",
      " -6.15591346e-01 -1.60678601e-01 -2.45116066e-01  3.02856475e+00\n",
      " -2.00667439e-01 -2.79235184e-01 -3.85536824e-01 -7.80962393e-03\n",
      " -1.06852783e-01 -1.52908088e+00 -4.21954474e-02  4.74937721e-01\n",
      " -8.91069834e-03 -7.26892091e-03  2.40552762e-01 -2.19343370e-02\n",
      " -2.14042580e-01 -5.27790049e-02 -3.39603435e-01 -1.01976158e-02\n",
      " -2.05200256e-02 -3.71098326e-01 -7.80849770e-02 -2.79374450e-02\n",
      " -2.39304409e-02 -2.54053632e-01 -6.28514793e-02 -2.35626975e-02\n",
      " -3.69444446e-01 -2.69935415e-02 -7.87845142e-02 -6.83839781e-03\n",
      " -7.50553164e-03  1.43696268e-01 -1.38900402e-02 -2.00321891e-03\n",
      " -1.03892580e-02 -6.92873333e-03 -1.03340509e-02 -4.62963427e-03\n",
      " -1.01327995e-02 -3.59040300e-03 -5.06626806e-02 -1.94787363e-02\n",
      " -3.43634701e-02 -2.42410382e-03 -1.08262750e-02 -9.98009944e-03\n",
      " -5.11148905e-03 -8.58322261e-04 -5.02843166e-03 -1.32254871e-02\n",
      " -5.67509635e-03 -2.97964978e-03 -5.91209783e-03 -1.89283439e-02\n",
      " -1.67919711e-02 -1.93262510e-02 -1.12573903e-02 -1.49215015e-02\n",
      " -1.62936873e-01 -1.73581337e-02 -1.16750817e-02 -1.04404608e-02\n",
      " -7.36630477e-03 -1.66290270e-02 -5.33553851e-03 -1.78545312e-02\n",
      " -3.03136760e-02 -1.18014457e-02 -5.82521045e-03  5.05393186e-01\n",
      " -1.72004807e-02 -1.13794290e-02 -9.30011720e-03 -2.04591318e-01\n",
      " -4.68011733e-02 -1.21456006e-02 -4.16592458e-04  4.10088428e-01\n",
      " -6.30949983e-02 -1.23620109e-01 -3.86824764e-02 -6.21596423e-03\n",
      " -2.49495973e-02  6.52973544e-01 -8.26174929e-02  3.48525664e-01\n",
      " -7.17884300e-05  5.08803676e-01  5.90138354e-01 -2.03321714e-02\n",
      " -4.08980492e-02 -5.44760534e-03  7.24954047e-01 -1.37594369e-01\n",
      " -1.62186173e-01 -7.12642593e-04 -3.02199640e-02 -5.62691726e-03\n",
      " -6.74484020e-03 -4.66660162e-02 -6.63544718e-01 -1.29021448e-01\n",
      " -8.34428396e-01 -1.32063814e-02  3.84249029e-01 -1.49619891e-02\n",
      " -2.81166237e-02 -8.96181858e-01 -2.33145846e-01  4.41823761e-02\n",
      "  1.01200951e+00 -1.58275259e-01 -1.00509333e-01  2.35336819e+00\n",
      " -3.22581857e-01 -3.59934906e-02 -2.75286144e-01 -1.20906351e-01\n",
      " -1.22109589e-01 -5.49592766e-02 -3.88489269e-01 -2.89263657e-01\n",
      "  4.04399950e-01 -6.31456825e-02 -4.16592458e-04 -9.38553997e-02\n",
      " -3.27173822e-01 -3.83662801e-01 -4.08199978e-01 -2.68412227e-01\n",
      "  4.31504105e-01 -8.67472023e-02 -1.22877727e-01 -2.90305055e-02\n",
      " -2.07032167e-02 -8.87158962e-02  8.28766765e-01  7.65520534e-01\n",
      "  1.96318186e-01 -9.50297196e-01  7.04692361e-01 -1.43200180e-01\n",
      " -1.18477213e-01  8.64933770e-01 -2.03703084e-01 -1.06852783e-01\n",
      " -2.81166237e-02 -1.29998277e-02 -1.07541758e-01 -8.75675459e-02\n",
      "  6.47231164e-01 -3.03570076e-01 -1.35579281e-01 -1.29021448e-01\n",
      " -1.92054240e-01  2.65693826e+00 -7.25718879e-02 -2.27329092e-02\n",
      " -7.41162517e-01 -4.66660162e-02 -3.88065047e-01 -1.20906351e-01\n",
      "  1.12941970e+00 -1.08985878e-01 -1.52978378e-03 -1.00261213e-01\n",
      " -1.50648733e-01 -1.27209397e-02 -6.63544718e-01 -9.96663185e-02\n",
      " -2.23727967e-02 -2.67227775e-02 -1.84110385e-01 -2.83618722e-02\n",
      " -6.31456825e-02 -9.78000911e-02 -1.89968722e-01 -4.41655668e-01\n",
      " -3.40767158e-02 -1.05916455e-01 -2.61482485e-01 -1.29076470e-02\n",
      " -2.89263657e-01 -6.53367396e-03 -9.54270896e-02 -3.67268297e-02\n",
      "  8.64933770e-01  4.72690604e-01 -2.79438088e-01 -1.75994634e-01\n",
      " -3.81950396e-02  5.31757233e-01 -1.83016519e-01 -2.11901516e-01\n",
      " -2.32478577e-01 -1.54542759e-02 -8.67472023e-02 -7.93054493e-03\n",
      " -9.87487536e-02 -1.64396055e-02  1.25970148e-02 -1.01786385e-01\n",
      " -2.98973014e-02 -2.37591453e-01  7.04692361e-01 -3.61034881e-02\n",
      " -5.12684075e-02 -3.95393272e-01  4.39580221e-01 -4.45516567e-02\n",
      " -7.20203382e-02 -1.72419523e-01 -7.55771363e-01 -2.36787712e-02\n",
      " -1.44096850e-03 -1.25243616e-02 -2.89410106e-02 -1.49619891e-02\n",
      " -5.52360690e-05 -2.47847320e-01 -6.01928193e-01 -3.75201722e-02\n",
      " -2.90305055e-02 -7.69526277e-02 -7.12744080e-02  1.07242526e-01\n",
      " -4.01421852e-02 -5.12251651e-01 -1.79818509e-01 -8.85479393e-02\n",
      " -1.76547687e-01 -1.17835708e-02  5.29993401e-01 -2.45076357e-01\n",
      "  1.01200951e+00 -1.63123622e-01 -4.87080225e-03 -3.22074467e-02\n",
      "  4.31504105e-01 -4.03690047e-03 -1.03154143e-01 -1.04786075e-01\n",
      " -3.06121512e-01 -3.20388443e-01 -4.16592458e-04 -5.49592766e-02\n",
      " -3.27173822e-01 -7.41085280e-02 -4.48576664e-02  4.68971680e-01\n",
      " -2.78311970e-02 -3.36851258e-02  1.93633642e-01 -2.96522169e-02\n",
      " -1.18109945e-01 -2.49932997e-01 -2.04061815e-01  4.35814636e-01\n",
      " -3.53983639e-02  1.42278729e+00 -8.88248698e-02 -4.08475249e-02\n",
      " -3.46342085e-02 -9.39458294e-02 -1.58934231e-02 -1.40535215e-02\n",
      " -2.44172413e-01  8.57199396e-01 -1.68310462e-01 -9.39018037e-03\n",
      " -4.43515259e-02  6.02379953e-01 -1.73605411e-01 -1.55557749e-01\n",
      " -3.90746649e-01 -2.16056820e-02 -2.07032167e-02 -6.44639338e-03\n",
      "  4.38515590e-01 -4.96740453e-02  7.65520534e-01  2.10774427e-01\n",
      " -5.45118045e-02 -1.27519432e-02 -8.82746739e-02 -1.43587757e-01\n",
      "  3.89186544e-01 -4.15533760e-02]\n"
     ]
    }
   ],
   "source": [
    "print(model3.named_steps['logreg'].coef_[0])"
   ]
  },
  {
   "cell_type": "code",
   "execution_count": 42,
   "id": "3c57ce26",
   "metadata": {},
   "outputs": [
    {
     "name": "stdout",
     "output_type": "stream",
     "text": [
      "-2.6421799332137534\n"
     ]
    }
   ],
   "source": [
    "print(model3.named_steps['logreg'].intercept_[0])"
   ]
  },
  {
   "cell_type": "markdown",
   "id": "6b1bb5e0",
   "metadata": {},
   "source": [
    "Questo modello ha un'accuratezza del 95%."
   ]
  },
  {
   "cell_type": "markdown",
   "id": "adf78bab",
   "metadata": {},
   "source": [
    "## Random Forest"
   ]
  },
  {
   "cell_type": "markdown",
   "id": "20e1490e",
   "metadata": {},
   "source": [
    "Ora addrestro un altro modello chiamato **RandomForestClassifier**, in letteratura funziona molto bene con datatset con queste caratteristiche e solo 2 possibili classi da predirre."
   ]
  },
  {
   "cell_type": "markdown",
   "id": "68a51c29",
   "metadata": {},
   "source": [
    "*E' una versione estesa degli alberi decisionali in modo ottimizzato*"
   ]
  },
  {
   "cell_type": "markdown",
   "id": "0941cd17",
   "metadata": {},
   "source": [
    "Uso la Stratified K-fold cross validation in modo tale da ottenere dei risultati calcolati usando il 100% dei dati presenti nel dataset e non risultati dipendenti dal gruppo di dati che fornisco al modello in fase di training. Inoltre mi da la garanzia che le due classi siano bilanciate in ogni fold."
   ]
  },
  {
   "cell_type": "code",
   "execution_count": 43,
   "id": "9196aac7",
   "metadata": {},
   "outputs": [],
   "source": [
    "from sklearn.model_selection import KFold, StratifiedKFold\n",
    "\n",
    "skf = StratifiedKFold(5, shuffle=True, random_state=42)"
   ]
  },
  {
   "cell_type": "code",
   "execution_count": 44,
   "id": "43385077",
   "metadata": {},
   "outputs": [
    {
     "data": {
      "text/html": [
       "<style>#sk-container-id-3 {color: black;background-color: white;}#sk-container-id-3 pre{padding: 0;}#sk-container-id-3 div.sk-toggleable {background-color: white;}#sk-container-id-3 label.sk-toggleable__label {cursor: pointer;display: block;width: 100%;margin-bottom: 0;padding: 0.3em;box-sizing: border-box;text-align: center;}#sk-container-id-3 label.sk-toggleable__label-arrow:before {content: \"▸\";float: left;margin-right: 0.25em;color: #696969;}#sk-container-id-3 label.sk-toggleable__label-arrow:hover:before {color: black;}#sk-container-id-3 div.sk-estimator:hover label.sk-toggleable__label-arrow:before {color: black;}#sk-container-id-3 div.sk-toggleable__content {max-height: 0;max-width: 0;overflow: hidden;text-align: left;background-color: #f0f8ff;}#sk-container-id-3 div.sk-toggleable__content pre {margin: 0.2em;color: black;border-radius: 0.25em;background-color: #f0f8ff;}#sk-container-id-3 input.sk-toggleable__control:checked~div.sk-toggleable__content {max-height: 200px;max-width: 100%;overflow: auto;}#sk-container-id-3 input.sk-toggleable__control:checked~label.sk-toggleable__label-arrow:before {content: \"▾\";}#sk-container-id-3 div.sk-estimator input.sk-toggleable__control:checked~label.sk-toggleable__label {background-color: #d4ebff;}#sk-container-id-3 div.sk-label input.sk-toggleable__control:checked~label.sk-toggleable__label {background-color: #d4ebff;}#sk-container-id-3 input.sk-hidden--visually {border: 0;clip: rect(1px 1px 1px 1px);clip: rect(1px, 1px, 1px, 1px);height: 1px;margin: -1px;overflow: hidden;padding: 0;position: absolute;width: 1px;}#sk-container-id-3 div.sk-estimator {font-family: monospace;background-color: #f0f8ff;border: 1px dotted black;border-radius: 0.25em;box-sizing: border-box;margin-bottom: 0.5em;}#sk-container-id-3 div.sk-estimator:hover {background-color: #d4ebff;}#sk-container-id-3 div.sk-parallel-item::after {content: \"\";width: 100%;border-bottom: 1px solid gray;flex-grow: 1;}#sk-container-id-3 div.sk-label:hover label.sk-toggleable__label {background-color: #d4ebff;}#sk-container-id-3 div.sk-serial::before {content: \"\";position: absolute;border-left: 1px solid gray;box-sizing: border-box;top: 0;bottom: 0;left: 50%;z-index: 0;}#sk-container-id-3 div.sk-serial {display: flex;flex-direction: column;align-items: center;background-color: white;padding-right: 0.2em;padding-left: 0.2em;position: relative;}#sk-container-id-3 div.sk-item {position: relative;z-index: 1;}#sk-container-id-3 div.sk-parallel {display: flex;align-items: stretch;justify-content: center;background-color: white;position: relative;}#sk-container-id-3 div.sk-item::before, #sk-container-id-3 div.sk-parallel-item::before {content: \"\";position: absolute;border-left: 1px solid gray;box-sizing: border-box;top: 0;bottom: 0;left: 50%;z-index: -1;}#sk-container-id-3 div.sk-parallel-item {display: flex;flex-direction: column;z-index: 1;position: relative;background-color: white;}#sk-container-id-3 div.sk-parallel-item:first-child::after {align-self: flex-end;width: 50%;}#sk-container-id-3 div.sk-parallel-item:last-child::after {align-self: flex-start;width: 50%;}#sk-container-id-3 div.sk-parallel-item:only-child::after {width: 0;}#sk-container-id-3 div.sk-dashed-wrapped {border: 1px dashed gray;margin: 0 0.4em 0.5em 0.4em;box-sizing: border-box;padding-bottom: 0.4em;background-color: white;}#sk-container-id-3 div.sk-label label {font-family: monospace;font-weight: bold;display: inline-block;line-height: 1.2em;}#sk-container-id-3 div.sk-label-container {text-align: center;}#sk-container-id-3 div.sk-container {/* jupyter's `normalize.less` sets `[hidden] { display: none; }` but bootstrap.min.css set `[hidden] { display: none !important; }` so we also need the `!important` here to be able to override the default hidden behavior on the sphinx rendered scikit-learn.org. See: https://github.com/scikit-learn/scikit-learn/issues/21755 */display: inline-block !important;position: relative;}#sk-container-id-3 div.sk-text-repr-fallback {display: none;}</style><div id=\"sk-container-id-3\" class=\"sk-top-container\"><div class=\"sk-text-repr-fallback\"><pre>GridSearchCV(cv=StratifiedKFold(n_splits=5, random_state=42, shuffle=True),\n",
       "             estimator=Pipeline(steps=[(&#x27;preproc&#x27;,\n",
       "                                        ColumnTransformer(transformers=[(&#x27;numeric&#x27;,\n",
       "                                                                         StandardScaler(),\n",
       "                                                                         [&#x27;url_length&#x27;,\n",
       "                                                                          &#x27;number_special_characters&#x27;,\n",
       "                                                                          &#x27;tcp_conversation_exchange&#x27;,\n",
       "                                                                          &#x27;dist_remote_tcp_port&#x27;,\n",
       "                                                                          &#x27;remote_ips&#x27;,\n",
       "                                                                          &#x27;app_bytes&#x27;,\n",
       "                                                                          &#x27;source_app_packets&#x27;,\n",
       "                                                                          &#x27;remote_app_packets&#x27;,\n",
       "                                                                          &#x27;source_app_bytes&#x27;,\n",
       "                                                                          &#x27;...\n",
       "                                                                        (&#x27;categorical&#x27;,\n",
       "                                                                         OneHotEncoder(handle_unknown=&#x27;ignore&#x27;),\n",
       "                                                                         [&#x27;charset&#x27;,\n",
       "                                                                          &#x27;server&#x27;,\n",
       "                                                                          &#x27;whois_country&#x27;,\n",
       "                                                                          &#x27;whois_statepro&#x27;])])),\n",
       "                                       (&#x27;rfc&#x27;,\n",
       "                                        RandomForestClassifier(random_state=42))]),\n",
       "             param_grid={&#x27;rfc__class_weight&#x27;: [{0: 1, 1: 1}, {0: 1, 1: 3},\n",
       "                                               {0: 1, 1: 5}],\n",
       "                         &#x27;rfc__max_depth&#x27;: [3, 6, 9],\n",
       "                         &#x27;rfc__max_features&#x27;: [&#x27;sqrt&#x27;, &#x27;log2&#x27;, None],\n",
       "                         &#x27;rfc__max_leaf_nodes&#x27;: [3, 6, 9],\n",
       "                         &#x27;rfc__n_estimators&#x27;: [25, 50, 100, 150]})</pre><b>In a Jupyter environment, please rerun this cell to show the HTML representation or trust the notebook. <br />On GitHub, the HTML representation is unable to render, please try loading this page with nbviewer.org.</b></div><div class=\"sk-container\" hidden><div class=\"sk-item sk-dashed-wrapped\"><div class=\"sk-label-container\"><div class=\"sk-label sk-toggleable\"><input class=\"sk-toggleable__control sk-hidden--visually\" id=\"sk-estimator-id-15\" type=\"checkbox\" ><label for=\"sk-estimator-id-15\" class=\"sk-toggleable__label sk-toggleable__label-arrow\">GridSearchCV</label><div class=\"sk-toggleable__content\"><pre>GridSearchCV(cv=StratifiedKFold(n_splits=5, random_state=42, shuffle=True),\n",
       "             estimator=Pipeline(steps=[(&#x27;preproc&#x27;,\n",
       "                                        ColumnTransformer(transformers=[(&#x27;numeric&#x27;,\n",
       "                                                                         StandardScaler(),\n",
       "                                                                         [&#x27;url_length&#x27;,\n",
       "                                                                          &#x27;number_special_characters&#x27;,\n",
       "                                                                          &#x27;tcp_conversation_exchange&#x27;,\n",
       "                                                                          &#x27;dist_remote_tcp_port&#x27;,\n",
       "                                                                          &#x27;remote_ips&#x27;,\n",
       "                                                                          &#x27;app_bytes&#x27;,\n",
       "                                                                          &#x27;source_app_packets&#x27;,\n",
       "                                                                          &#x27;remote_app_packets&#x27;,\n",
       "                                                                          &#x27;source_app_bytes&#x27;,\n",
       "                                                                          &#x27;...\n",
       "                                                                        (&#x27;categorical&#x27;,\n",
       "                                                                         OneHotEncoder(handle_unknown=&#x27;ignore&#x27;),\n",
       "                                                                         [&#x27;charset&#x27;,\n",
       "                                                                          &#x27;server&#x27;,\n",
       "                                                                          &#x27;whois_country&#x27;,\n",
       "                                                                          &#x27;whois_statepro&#x27;])])),\n",
       "                                       (&#x27;rfc&#x27;,\n",
       "                                        RandomForestClassifier(random_state=42))]),\n",
       "             param_grid={&#x27;rfc__class_weight&#x27;: [{0: 1, 1: 1}, {0: 1, 1: 3},\n",
       "                                               {0: 1, 1: 5}],\n",
       "                         &#x27;rfc__max_depth&#x27;: [3, 6, 9],\n",
       "                         &#x27;rfc__max_features&#x27;: [&#x27;sqrt&#x27;, &#x27;log2&#x27;, None],\n",
       "                         &#x27;rfc__max_leaf_nodes&#x27;: [3, 6, 9],\n",
       "                         &#x27;rfc__n_estimators&#x27;: [25, 50, 100, 150]})</pre></div></div></div><div class=\"sk-parallel\"><div class=\"sk-parallel-item\"><div class=\"sk-item\"><div class=\"sk-label-container\"><div class=\"sk-label sk-toggleable\"><input class=\"sk-toggleable__control sk-hidden--visually\" id=\"sk-estimator-id-16\" type=\"checkbox\" ><label for=\"sk-estimator-id-16\" class=\"sk-toggleable__label sk-toggleable__label-arrow\">estimator: Pipeline</label><div class=\"sk-toggleable__content\"><pre>Pipeline(steps=[(&#x27;preproc&#x27;,\n",
       "                 ColumnTransformer(transformers=[(&#x27;numeric&#x27;, StandardScaler(),\n",
       "                                                  [&#x27;url_length&#x27;,\n",
       "                                                   &#x27;number_special_characters&#x27;,\n",
       "                                                   &#x27;tcp_conversation_exchange&#x27;,\n",
       "                                                   &#x27;dist_remote_tcp_port&#x27;,\n",
       "                                                   &#x27;remote_ips&#x27;, &#x27;app_bytes&#x27;,\n",
       "                                                   &#x27;source_app_packets&#x27;,\n",
       "                                                   &#x27;remote_app_packets&#x27;,\n",
       "                                                   &#x27;source_app_bytes&#x27;,\n",
       "                                                   &#x27;remote_app_bytes&#x27;,\n",
       "                                                   &#x27;app_packets&#x27;,\n",
       "                                                   &#x27;dns_query_times&#x27;,\n",
       "                                                   &#x27;regdate_ts&#x27;, &#x27;upd_ts&#x27;]),\n",
       "                                                 (&#x27;categorical&#x27;,\n",
       "                                                  OneHotEncoder(handle_unknown=&#x27;ignore&#x27;),\n",
       "                                                  [&#x27;charset&#x27;, &#x27;server&#x27;,\n",
       "                                                   &#x27;whois_country&#x27;,\n",
       "                                                   &#x27;whois_statepro&#x27;])])),\n",
       "                (&#x27;rfc&#x27;, RandomForestClassifier(random_state=42))])</pre></div></div></div><div class=\"sk-serial\"><div class=\"sk-item\"><div class=\"sk-serial\"><div class=\"sk-item sk-dashed-wrapped\"><div class=\"sk-label-container\"><div class=\"sk-label sk-toggleable\"><input class=\"sk-toggleable__control sk-hidden--visually\" id=\"sk-estimator-id-17\" type=\"checkbox\" ><label for=\"sk-estimator-id-17\" class=\"sk-toggleable__label sk-toggleable__label-arrow\">preproc: ColumnTransformer</label><div class=\"sk-toggleable__content\"><pre>ColumnTransformer(transformers=[(&#x27;numeric&#x27;, StandardScaler(),\n",
       "                                 [&#x27;url_length&#x27;, &#x27;number_special_characters&#x27;,\n",
       "                                  &#x27;tcp_conversation_exchange&#x27;,\n",
       "                                  &#x27;dist_remote_tcp_port&#x27;, &#x27;remote_ips&#x27;,\n",
       "                                  &#x27;app_bytes&#x27;, &#x27;source_app_packets&#x27;,\n",
       "                                  &#x27;remote_app_packets&#x27;, &#x27;source_app_bytes&#x27;,\n",
       "                                  &#x27;remote_app_bytes&#x27;, &#x27;app_packets&#x27;,\n",
       "                                  &#x27;dns_query_times&#x27;, &#x27;regdate_ts&#x27;, &#x27;upd_ts&#x27;]),\n",
       "                                (&#x27;categorical&#x27;,\n",
       "                                 OneHotEncoder(handle_unknown=&#x27;ignore&#x27;),\n",
       "                                 [&#x27;charset&#x27;, &#x27;server&#x27;, &#x27;whois_country&#x27;,\n",
       "                                  &#x27;whois_statepro&#x27;])])</pre></div></div></div><div class=\"sk-parallel\"><div class=\"sk-parallel-item\"><div class=\"sk-item\"><div class=\"sk-label-container\"><div class=\"sk-label sk-toggleable\"><input class=\"sk-toggleable__control sk-hidden--visually\" id=\"sk-estimator-id-18\" type=\"checkbox\" ><label for=\"sk-estimator-id-18\" class=\"sk-toggleable__label sk-toggleable__label-arrow\">numeric</label><div class=\"sk-toggleable__content\"><pre>[&#x27;url_length&#x27;, &#x27;number_special_characters&#x27;, &#x27;tcp_conversation_exchange&#x27;, &#x27;dist_remote_tcp_port&#x27;, &#x27;remote_ips&#x27;, &#x27;app_bytes&#x27;, &#x27;source_app_packets&#x27;, &#x27;remote_app_packets&#x27;, &#x27;source_app_bytes&#x27;, &#x27;remote_app_bytes&#x27;, &#x27;app_packets&#x27;, &#x27;dns_query_times&#x27;, &#x27;regdate_ts&#x27;, &#x27;upd_ts&#x27;]</pre></div></div></div><div class=\"sk-serial\"><div class=\"sk-item\"><div class=\"sk-estimator sk-toggleable\"><input class=\"sk-toggleable__control sk-hidden--visually\" id=\"sk-estimator-id-19\" type=\"checkbox\" ><label for=\"sk-estimator-id-19\" class=\"sk-toggleable__label sk-toggleable__label-arrow\">StandardScaler</label><div class=\"sk-toggleable__content\"><pre>StandardScaler()</pre></div></div></div></div></div></div><div class=\"sk-parallel-item\"><div class=\"sk-item\"><div class=\"sk-label-container\"><div class=\"sk-label sk-toggleable\"><input class=\"sk-toggleable__control sk-hidden--visually\" id=\"sk-estimator-id-20\" type=\"checkbox\" ><label for=\"sk-estimator-id-20\" class=\"sk-toggleable__label sk-toggleable__label-arrow\">categorical</label><div class=\"sk-toggleable__content\"><pre>[&#x27;charset&#x27;, &#x27;server&#x27;, &#x27;whois_country&#x27;, &#x27;whois_statepro&#x27;]</pre></div></div></div><div class=\"sk-serial\"><div class=\"sk-item\"><div class=\"sk-estimator sk-toggleable\"><input class=\"sk-toggleable__control sk-hidden--visually\" id=\"sk-estimator-id-21\" type=\"checkbox\" ><label for=\"sk-estimator-id-21\" class=\"sk-toggleable__label sk-toggleable__label-arrow\">OneHotEncoder</label><div class=\"sk-toggleable__content\"><pre>OneHotEncoder(handle_unknown=&#x27;ignore&#x27;)</pre></div></div></div></div></div></div></div></div><div class=\"sk-item\"><div class=\"sk-estimator sk-toggleable\"><input class=\"sk-toggleable__control sk-hidden--visually\" id=\"sk-estimator-id-22\" type=\"checkbox\" ><label for=\"sk-estimator-id-22\" class=\"sk-toggleable__label sk-toggleable__label-arrow\">RandomForestClassifier</label><div class=\"sk-toggleable__content\"><pre>RandomForestClassifier(random_state=42)</pre></div></div></div></div></div></div></div></div></div></div></div></div>"
      ],
      "text/plain": [
       "GridSearchCV(cv=StratifiedKFold(n_splits=5, random_state=42, shuffle=True),\n",
       "             estimator=Pipeline(steps=[('preproc',\n",
       "                                        ColumnTransformer(transformers=[('numeric',\n",
       "                                                                         StandardScaler(),\n",
       "                                                                         ['url_length',\n",
       "                                                                          'number_special_characters',\n",
       "                                                                          'tcp_conversation_exchange',\n",
       "                                                                          'dist_remote_tcp_port',\n",
       "                                                                          'remote_ips',\n",
       "                                                                          'app_bytes',\n",
       "                                                                          'source_app_packets',\n",
       "                                                                          'remote_app_packets',\n",
       "                                                                          'source_app_bytes',\n",
       "                                                                          '...\n",
       "                                                                        ('categorical',\n",
       "                                                                         OneHotEncoder(handle_unknown='ignore'),\n",
       "                                                                         ['charset',\n",
       "                                                                          'server',\n",
       "                                                                          'whois_country',\n",
       "                                                                          'whois_statepro'])])),\n",
       "                                       ('rfc',\n",
       "                                        RandomForestClassifier(random_state=42))]),\n",
       "             param_grid={'rfc__class_weight': [{0: 1, 1: 1}, {0: 1, 1: 3},\n",
       "                                               {0: 1, 1: 5}],\n",
       "                         'rfc__max_depth': [3, 6, 9],\n",
       "                         'rfc__max_features': ['sqrt', 'log2', None],\n",
       "                         'rfc__max_leaf_nodes': [3, 6, 9],\n",
       "                         'rfc__n_estimators': [25, 50, 100, 150]})"
      ]
     },
     "execution_count": 44,
     "metadata": {},
     "output_type": "execute_result"
    }
   ],
   "source": [
    "from sklearn.ensemble import RandomForestClassifier\n",
    "from sklearn.model_selection import cross_validate, GridSearchCV\n",
    "\n",
    "from sklearn.metrics import confusion_matrix, classification_report, accuracy_score, f1_score, fbeta_score, make_scorer, precision_score, recall_score \n",
    "\n",
    "model2 = Pipeline([\n",
    "    (\"preproc\", ColumnTransformer([\n",
    "        (\"numeric\",     StandardScaler(), numeric_vars),\n",
    "        (\"categorical\", OneHotEncoder(handle_unknown='ignore'),  categorical_vars)\n",
    "    ])),\n",
    "    (\"rfc\", RandomForestClassifier(random_state=42))\n",
    "])\n",
    "\n",
    "grid = {\n",
    "    \"rfc__n_estimators\": [25, 50, 100, 150],\n",
    "    \"rfc__max_features\": [\"sqrt\", \"log2\", None],\n",
    "    \"rfc__max_depth\": [3, 6, 9],\n",
    "    \"rfc__max_leaf_nodes\": [3, 6, 9],\n",
    "    \"rfc__class_weight\": [{0:1,1:1}, {0:1,1:3}, {0:1,1:5}]\n",
    "}\n",
    "\n",
    "gs = GridSearchCV(model2, param_grid=grid, cv=skf)\n",
    "\n",
    "gs.fit(X, y)"
   ]
  },
  {
   "cell_type": "code",
   "execution_count": 45,
   "id": "f85ee0f4",
   "metadata": {},
   "outputs": [
    {
     "data": {
      "text/html": [
       "<div>\n",
       "<style scoped>\n",
       "    .dataframe tbody tr th:only-of-type {\n",
       "        vertical-align: middle;\n",
       "    }\n",
       "\n",
       "    .dataframe tbody tr th {\n",
       "        vertical-align: top;\n",
       "    }\n",
       "\n",
       "    .dataframe thead th {\n",
       "        text-align: right;\n",
       "    }\n",
       "</style>\n",
       "<table border=\"1\" class=\"dataframe\">\n",
       "  <thead>\n",
       "    <tr style=\"text-align: right;\">\n",
       "      <th></th>\n",
       "      <th>mean_fit_time</th>\n",
       "      <th>std_fit_time</th>\n",
       "      <th>mean_score_time</th>\n",
       "      <th>std_score_time</th>\n",
       "      <th>param_rfc__class_weight</th>\n",
       "      <th>param_rfc__max_depth</th>\n",
       "      <th>param_rfc__max_features</th>\n",
       "      <th>param_rfc__max_leaf_nodes</th>\n",
       "      <th>param_rfc__n_estimators</th>\n",
       "      <th>params</th>\n",
       "      <th>split0_test_score</th>\n",
       "      <th>split1_test_score</th>\n",
       "      <th>split2_test_score</th>\n",
       "      <th>split3_test_score</th>\n",
       "      <th>split4_test_score</th>\n",
       "      <th>mean_test_score</th>\n",
       "      <th>std_test_score</th>\n",
       "      <th>rank_test_score</th>\n",
       "    </tr>\n",
       "  </thead>\n",
       "  <tbody>\n",
       "    <tr>\n",
       "      <th>299</th>\n",
       "      <td>0.280051</td>\n",
       "      <td>0.004483</td>\n",
       "      <td>0.021942</td>\n",
       "      <td>4.156970e-07</td>\n",
       "      <td>{0: 1, 1: 5}</td>\n",
       "      <td>9</td>\n",
       "      <td>sqrt</td>\n",
       "      <td>9</td>\n",
       "      <td>150</td>\n",
       "      <td>{'rfc__class_weight': {0: 1, 1: 5}, 'rfc__max_...</td>\n",
       "      <td>0.955182</td>\n",
       "      <td>0.957865</td>\n",
       "      <td>0.946629</td>\n",
       "      <td>0.941011</td>\n",
       "      <td>0.966292</td>\n",
       "      <td>0.953396</td>\n",
       "      <td>0.008816</td>\n",
       "      <td>1</td>\n",
       "    </tr>\n",
       "    <tr>\n",
       "      <th>261</th>\n",
       "      <td>0.100332</td>\n",
       "      <td>0.001844</td>\n",
       "      <td>0.011569</td>\n",
       "      <td>4.893574e-04</td>\n",
       "      <td>{0: 1, 1: 5}</td>\n",
       "      <td>6</td>\n",
       "      <td>sqrt</td>\n",
       "      <td>9</td>\n",
       "      <td>50</td>\n",
       "      <td>{'rfc__class_weight': {0: 1, 1: 5}, 'rfc__max_...</td>\n",
       "      <td>0.949580</td>\n",
       "      <td>0.966292</td>\n",
       "      <td>0.943820</td>\n",
       "      <td>0.943820</td>\n",
       "      <td>0.957865</td>\n",
       "      <td>0.952276</td>\n",
       "      <td>0.008694</td>\n",
       "      <td>2</td>\n",
       "    </tr>\n",
       "    <tr>\n",
       "      <th>178</th>\n",
       "      <td>1.151948</td>\n",
       "      <td>0.022315</td>\n",
       "      <td>0.020880</td>\n",
       "      <td>1.738788e-03</td>\n",
       "      <td>{0: 1, 1: 3}</td>\n",
       "      <td>6</td>\n",
       "      <td>None</td>\n",
       "      <td>9</td>\n",
       "      <td>100</td>\n",
       "      <td>{'rfc__class_weight': {0: 1, 1: 3}, 'rfc__max_...</td>\n",
       "      <td>0.949580</td>\n",
       "      <td>0.957865</td>\n",
       "      <td>0.952247</td>\n",
       "      <td>0.941011</td>\n",
       "      <td>0.960674</td>\n",
       "      <td>0.952276</td>\n",
       "      <td>0.006869</td>\n",
       "      <td>2</td>\n",
       "    </tr>\n",
       "    <tr>\n",
       "      <th>179</th>\n",
       "      <td>1.535646</td>\n",
       "      <td>0.024380</td>\n",
       "      <td>0.022540</td>\n",
       "      <td>1.029457e-03</td>\n",
       "      <td>{0: 1, 1: 3}</td>\n",
       "      <td>6</td>\n",
       "      <td>None</td>\n",
       "      <td>9</td>\n",
       "      <td>150</td>\n",
       "      <td>{'rfc__class_weight': {0: 1, 1: 3}, 'rfc__max_...</td>\n",
       "      <td>0.949580</td>\n",
       "      <td>0.957865</td>\n",
       "      <td>0.949438</td>\n",
       "      <td>0.946629</td>\n",
       "      <td>0.955056</td>\n",
       "      <td>0.951714</td>\n",
       "      <td>0.004113</td>\n",
       "      <td>4</td>\n",
       "    </tr>\n",
       "    <tr>\n",
       "      <th>298</th>\n",
       "      <td>0.190684</td>\n",
       "      <td>0.005472</td>\n",
       "      <td>0.016962</td>\n",
       "      <td>1.533133e-05</td>\n",
       "      <td>{0: 1, 1: 5}</td>\n",
       "      <td>9</td>\n",
       "      <td>sqrt</td>\n",
       "      <td>9</td>\n",
       "      <td>100</td>\n",
       "      <td>{'rfc__class_weight': {0: 1, 1: 5}, 'rfc__max_...</td>\n",
       "      <td>0.949580</td>\n",
       "      <td>0.957865</td>\n",
       "      <td>0.943820</td>\n",
       "      <td>0.943820</td>\n",
       "      <td>0.960674</td>\n",
       "      <td>0.951152</td>\n",
       "      <td>0.007010</td>\n",
       "      <td>5</td>\n",
       "    </tr>\n",
       "  </tbody>\n",
       "</table>\n",
       "</div>"
      ],
      "text/plain": [
       "     mean_fit_time  std_fit_time  mean_score_time  std_score_time  \\\n",
       "299       0.280051      0.004483         0.021942    4.156970e-07   \n",
       "261       0.100332      0.001844         0.011569    4.893574e-04   \n",
       "178       1.151948      0.022315         0.020880    1.738788e-03   \n",
       "179       1.535646      0.024380         0.022540    1.029457e-03   \n",
       "298       0.190684      0.005472         0.016962    1.533133e-05   \n",
       "\n",
       "    param_rfc__class_weight param_rfc__max_depth param_rfc__max_features  \\\n",
       "299            {0: 1, 1: 5}                    9                    sqrt   \n",
       "261            {0: 1, 1: 5}                    6                    sqrt   \n",
       "178            {0: 1, 1: 3}                    6                    None   \n",
       "179            {0: 1, 1: 3}                    6                    None   \n",
       "298            {0: 1, 1: 5}                    9                    sqrt   \n",
       "\n",
       "    param_rfc__max_leaf_nodes param_rfc__n_estimators  \\\n",
       "299                         9                     150   \n",
       "261                         9                      50   \n",
       "178                         9                     100   \n",
       "179                         9                     150   \n",
       "298                         9                     100   \n",
       "\n",
       "                                                params  split0_test_score  \\\n",
       "299  {'rfc__class_weight': {0: 1, 1: 5}, 'rfc__max_...           0.955182   \n",
       "261  {'rfc__class_weight': {0: 1, 1: 5}, 'rfc__max_...           0.949580   \n",
       "178  {'rfc__class_weight': {0: 1, 1: 3}, 'rfc__max_...           0.949580   \n",
       "179  {'rfc__class_weight': {0: 1, 1: 3}, 'rfc__max_...           0.949580   \n",
       "298  {'rfc__class_weight': {0: 1, 1: 5}, 'rfc__max_...           0.949580   \n",
       "\n",
       "     split1_test_score  split2_test_score  split3_test_score  \\\n",
       "299           0.957865           0.946629           0.941011   \n",
       "261           0.966292           0.943820           0.943820   \n",
       "178           0.957865           0.952247           0.941011   \n",
       "179           0.957865           0.949438           0.946629   \n",
       "298           0.957865           0.943820           0.943820   \n",
       "\n",
       "     split4_test_score  mean_test_score  std_test_score  rank_test_score  \n",
       "299           0.966292         0.953396        0.008816                1  \n",
       "261           0.957865         0.952276        0.008694                2  \n",
       "178           0.960674         0.952276        0.006869                2  \n",
       "179           0.955056         0.951714        0.004113                4  \n",
       "298           0.960674         0.951152        0.007010                5  "
      ]
     },
     "execution_count": 45,
     "metadata": {},
     "output_type": "execute_result"
    }
   ],
   "source": [
    "pd.DataFrame(gs.cv_results_).sort_values(\"rank_test_score\").head(5)"
   ]
  },
  {
   "cell_type": "markdown",
   "id": "187cc6c5",
   "metadata": {},
   "source": [
    "Da quest'ultima tabella noto che questo modello e' molto robusto e stabile perche' l'accuratezza cambia di poco in base alla fold che gli passo. Con la fold migliore arriva ad ottenere un'accuratezza del ~97%. In media il modello ha un'accuratezza del ~95% nel caso miglire."
   ]
  },
  {
   "cell_type": "code",
   "execution_count": 46,
   "id": "ae702cae",
   "metadata": {},
   "outputs": [
    {
     "name": "stdout",
     "output_type": "stream",
     "text": [
      "{'rfc__class_weight': {0: 1, 1: 5}, 'rfc__max_depth': 9, 'rfc__max_features': 'sqrt', 'rfc__max_leaf_nodes': 9, 'rfc__n_estimators': 150}\n"
     ]
    }
   ],
   "source": [
    "print(gs.best_params_)"
   ]
  },
  {
   "cell_type": "markdown",
   "id": "0c0f20b4",
   "metadata": {},
   "source": [
    "Gli iperparametri migliori sono quindi: class_weight: {0: 1, 1: 5}, max_depth: 9, max_features: 'sqrt'\n",
    "                                        max_leaf_nodes: 9, n_estimators: 150"
   ]
  },
  {
   "cell_type": "code",
   "execution_count": 47,
   "id": "0f5d090f",
   "metadata": {},
   "outputs": [
    {
     "name": "stdout",
     "output_type": "stream",
     "text": [
      "Pipeline(steps=[('preproc',\n",
      "                 ColumnTransformer(transformers=[('numeric', StandardScaler(),\n",
      "                                                  ['url_length',\n",
      "                                                   'number_special_characters',\n",
      "                                                   'tcp_conversation_exchange',\n",
      "                                                   'dist_remote_tcp_port',\n",
      "                                                   'remote_ips', 'app_bytes',\n",
      "                                                   'source_app_packets',\n",
      "                                                   'remote_app_packets',\n",
      "                                                   'source_app_bytes',\n",
      "                                                   'remote_app_bytes',\n",
      "                                                   'app_packets',\n",
      "                                                   'dns_query_times',\n",
      "                                                   'regdate_ts', 'upd_ts']),\n",
      "                                                 ('categorical',\n",
      "                                                  OneHotEncoder(handle_unknown='ignore'),\n",
      "                                                  ['charset', 'server',\n",
      "                                                   'whois_country',\n",
      "                                                   'whois_statepro'])])),\n",
      "                ('rfc',\n",
      "                 RandomForestClassifier(class_weight={0: 1, 1: 5}, max_depth=9,\n",
      "                                        max_leaf_nodes=9, n_estimators=150,\n",
      "                                        random_state=42))])\n"
     ]
    }
   ],
   "source": [
    "print(gs.best_estimator_)"
   ]
  },
  {
   "cell_type": "markdown",
   "id": "657ab032",
   "metadata": {},
   "source": [
    "Nonostante questo ottimo risultato ottenuto bisogna fare attenzione. Non è sempre detto che l'accuratezza mostri quanto è preciso un modello di classificazione, soprattutto perchè mi trovo davanti ad un imbalanced dataset.\n",
    "Per questo è bene non fidarsi dell'accuratezza perchè può non essere un parametro affidabile e quindi è possibile confrontare le classi predette dal classificatore e confrontarle con quelle reali ottenendo una matrice di confusione e valutare meglio il modello. "
   ]
  },
  {
   "cell_type": "code",
   "execution_count": 48,
   "id": "2eecbcae",
   "metadata": {},
   "outputs": [],
   "source": [
    "from sklearn.model_selection import cross_val_predict\n",
    "\n",
    "y_pred = cross_val_predict(model2, X, y, cv=skf)\n",
    "conf_mat = confusion_matrix(y, y_pred)"
   ]
  },
  {
   "cell_type": "markdown",
   "id": "19409c4a",
   "metadata": {},
   "source": [
    "Visualizzo la matrice di confusione."
   ]
  },
  {
   "cell_type": "code",
   "execution_count": 49,
   "id": "43841404",
   "metadata": {},
   "outputs": [
    {
     "data": {
      "image/png": "[encoded data removed]",
      "text/plain": [
       "<Figure size 432x288 with 2 Axes>"
      ]
     },
     "metadata": {
      "needs_background": "light"
     },
     "output_type": "display_data"
    }
   ],
   "source": [
    "sns.heatmap(conf_mat, cmap='YlGnBu', annot=True, fmt='d');"
   ]
  },
  {
   "cell_type": "markdown",
   "id": "b1e20338",
   "metadata": {},
   "source": [
    "Nella diagonale principale vengono visualizzate le predizioni corrette (1562 + 153) mentre nelle altre posizioni il nomero di volte che il modello ha predetto in modo errato (63 + 5)."
   ]
  },
  {
   "cell_type": "markdown",
   "id": "f690c0ae",
   "metadata": {},
   "source": [
    "Inoltre dalla matrice di confusione posso estrarre altre misure di performance importanti come la **precision** e la **recall**. Esiste una funzione, inclusa in sklearn, chiamata F1-score che descrive in una misura unica il valore della precision e della recall facendone una media aritmonica tra le due."
   ]
  },
  {
   "cell_type": "code",
   "execution_count": 50,
   "id": "12b9133d",
   "metadata": {},
   "outputs": [],
   "source": [
    "from sklearn.metrics import precision_score, recall_score, f1_score"
   ]
  },
  {
   "cell_type": "code",
   "execution_count": 51,
   "id": "91969a93",
   "metadata": {},
   "outputs": [
    {
     "data": {
      "text/plain": [
       "0.9807692307692307"
      ]
     },
     "execution_count": 51,
     "metadata": {},
     "output_type": "execute_result"
    }
   ],
   "source": [
    "# precision of malicious website class\n",
    "precision_score(y, y_pred, pos_label=1)"
   ]
  },
  {
   "cell_type": "code",
   "execution_count": 52,
   "id": "ed319415",
   "metadata": {},
   "outputs": [
    {
     "data": {
      "text/plain": [
       "0.7083333333333334"
      ]
     },
     "execution_count": 52,
     "metadata": {},
     "output_type": "execute_result"
    }
   ],
   "source": [
    "# recall of malicious website class\n",
    "recall_score(y, y_pred, pos_label=1)"
   ]
  },
  {
   "cell_type": "code",
   "execution_count": 53,
   "id": "69fa1a25",
   "metadata": {},
   "outputs": [
    {
     "name": "stdout",
     "output_type": "stream",
     "text": [
      "F1-score of benign website class:  0.9793103448275862\n",
      "F1-score of malicious website class:  0.8225806451612903\n"
     ]
    }
   ],
   "source": [
    "# f1-score of both classes\n",
    "print(\"F1-score of benign website class: \", f1_score(y, y_pred, pos_label=0))\n",
    "print(\"F1-score of malicious website class: \", f1_score(y, y_pred, pos_label=1))"
   ]
  },
  {
   "cell_type": "code",
   "execution_count": 54,
   "id": "58ddda2d",
   "metadata": {},
   "outputs": [
    {
     "name": "stdout",
     "output_type": "stream",
     "text": [
      "Average F1-score:  0.9009454949944382\n"
     ]
    }
   ],
   "source": [
    "print(\"Average F1-score: \", f1_score(y, y_pred, average='macro'))"
   ]
  },
  {
   "cell_type": "markdown",
   "id": "e8974d6b",
   "metadata": {},
   "source": [
    "**F1-score** è la metrica più esplicativa della bontà di un modello di classificazione, soprattutto quando si ha un dataset sbilanciato come il nostro.\n",
    "\n",
    "Posso concludere che il modello funziona generalmente molto bene."
   ]
  },
  {
   "cell_type": "markdown",
   "id": "2db81fc1",
   "metadata": {},
   "source": [
    "## SVM"
   ]
  },
  {
   "cell_type": "markdown",
   "id": "2d2f882d",
   "metadata": {},
   "source": [
    "Ora addestriamo un modello basato sull'algoritmo SVM, in particolare SVC (Support Vector Classifier). In letteratura funziona molto bene ed in generale e' il piu' performante."
   ]
  },
  {
   "cell_type": "code",
   "execution_count": 55,
   "id": "1bc33400",
   "metadata": {},
   "outputs": [
    {
     "data": {
      "text/html": [
       "<style>#sk-container-id-4 {color: black;background-color: white;}#sk-container-id-4 pre{padding: 0;}#sk-container-id-4 div.sk-toggleable {background-color: white;}#sk-container-id-4 label.sk-toggleable__label {cursor: pointer;display: block;width: 100%;margin-bottom: 0;padding: 0.3em;box-sizing: border-box;text-align: center;}#sk-container-id-4 label.sk-toggleable__label-arrow:before {content: \"▸\";float: left;margin-right: 0.25em;color: #696969;}#sk-container-id-4 label.sk-toggleable__label-arrow:hover:before {color: black;}#sk-container-id-4 div.sk-estimator:hover label.sk-toggleable__label-arrow:before {color: black;}#sk-container-id-4 div.sk-toggleable__content {max-height: 0;max-width: 0;overflow: hidden;text-align: left;background-color: #f0f8ff;}#sk-container-id-4 div.sk-toggleable__content pre {margin: 0.2em;color: black;border-radius: 0.25em;background-color: #f0f8ff;}#sk-container-id-4 input.sk-toggleable__control:checked~div.sk-toggleable__content {max-height: 200px;max-width: 100%;overflow: auto;}#sk-container-id-4 input.sk-toggleable__control:checked~label.sk-toggleable__label-arrow:before {content: \"▾\";}#sk-container-id-4 div.sk-estimator input.sk-toggleable__control:checked~label.sk-toggleable__label {background-color: #d4ebff;}#sk-container-id-4 div.sk-label input.sk-toggleable__control:checked~label.sk-toggleable__label {background-color: #d4ebff;}#sk-container-id-4 input.sk-hidden--visually {border: 0;clip: rect(1px 1px 1px 1px);clip: rect(1px, 1px, 1px, 1px);height: 1px;margin: -1px;overflow: hidden;padding: 0;position: absolute;width: 1px;}#sk-container-id-4 div.sk-estimator {font-family: monospace;background-color: #f0f8ff;border: 1px dotted black;border-radius: 0.25em;box-sizing: border-box;margin-bottom: 0.5em;}#sk-container-id-4 div.sk-estimator:hover {background-color: #d4ebff;}#sk-container-id-4 div.sk-parallel-item::after {content: \"\";width: 100%;border-bottom: 1px solid gray;flex-grow: 1;}#sk-container-id-4 div.sk-label:hover label.sk-toggleable__label {background-color: #d4ebff;}#sk-container-id-4 div.sk-serial::before {content: \"\";position: absolute;border-left: 1px solid gray;box-sizing: border-box;top: 0;bottom: 0;left: 50%;z-index: 0;}#sk-container-id-4 div.sk-serial {display: flex;flex-direction: column;align-items: center;background-color: white;padding-right: 0.2em;padding-left: 0.2em;position: relative;}#sk-container-id-4 div.sk-item {position: relative;z-index: 1;}#sk-container-id-4 div.sk-parallel {display: flex;align-items: stretch;justify-content: center;background-color: white;position: relative;}#sk-container-id-4 div.sk-item::before, #sk-container-id-4 div.sk-parallel-item::before {content: \"\";position: absolute;border-left: 1px solid gray;box-sizing: border-box;top: 0;bottom: 0;left: 50%;z-index: -1;}#sk-container-id-4 div.sk-parallel-item {display: flex;flex-direction: column;z-index: 1;position: relative;background-color: white;}#sk-container-id-4 div.sk-parallel-item:first-child::after {align-self: flex-end;width: 50%;}#sk-container-id-4 div.sk-parallel-item:last-child::after {align-self: flex-start;width: 50%;}#sk-container-id-4 div.sk-parallel-item:only-child::after {width: 0;}#sk-container-id-4 div.sk-dashed-wrapped {border: 1px dashed gray;margin: 0 0.4em 0.5em 0.4em;box-sizing: border-box;padding-bottom: 0.4em;background-color: white;}#sk-container-id-4 div.sk-label label {font-family: monospace;font-weight: bold;display: inline-block;line-height: 1.2em;}#sk-container-id-4 div.sk-label-container {text-align: center;}#sk-container-id-4 div.sk-container {/* jupyter's `normalize.less` sets `[hidden] { display: none; }` but bootstrap.min.css set `[hidden] { display: none !important; }` so we also need the `!important` here to be able to override the default hidden behavior on the sphinx rendered scikit-learn.org. See: https://github.com/scikit-learn/scikit-learn/issues/21755 */display: inline-block !important;position: relative;}#sk-container-id-4 div.sk-text-repr-fallback {display: none;}</style><div id=\"sk-container-id-4\" class=\"sk-top-container\"><div class=\"sk-text-repr-fallback\"><pre>GridSearchCV(cv=StratifiedKFold(n_splits=5, random_state=42, shuffle=True),\n",
       "             estimator=Pipeline(steps=[(&#x27;preproc&#x27;,\n",
       "                                        ColumnTransformer(transformers=[(&#x27;numeric&#x27;,\n",
       "                                                                         StandardScaler(),\n",
       "                                                                         [&#x27;url_length&#x27;,\n",
       "                                                                          &#x27;number_special_characters&#x27;,\n",
       "                                                                          &#x27;tcp_conversation_exchange&#x27;,\n",
       "                                                                          &#x27;dist_remote_tcp_port&#x27;,\n",
       "                                                                          &#x27;remote_ips&#x27;,\n",
       "                                                                          &#x27;app_bytes&#x27;,\n",
       "                                                                          &#x27;source_app_packets&#x27;,\n",
       "                                                                          &#x27;remote_app_packets&#x27;,\n",
       "                                                                          &#x27;source_app_bytes&#x27;,\n",
       "                                                                          &#x27;remote_app_bytes&#x27;,\n",
       "                                                                          &#x27;app_packets&#x27;,\n",
       "                                                                          &#x27;dns_query_times&#x27;,\n",
       "                                                                          &#x27;regdate_ts&#x27;,\n",
       "                                                                          &#x27;upd_ts&#x27;]),\n",
       "                                                                        (&#x27;categorical&#x27;,\n",
       "                                                                         OneHotEncoder(handle_unknown=&#x27;ignore&#x27;),\n",
       "                                                                         [&#x27;charset&#x27;,\n",
       "                                                                          &#x27;server&#x27;,\n",
       "                                                                          &#x27;whois_country&#x27;,\n",
       "                                                                          &#x27;whois_statepro&#x27;])])),\n",
       "                                       (&#x27;svm&#x27;, SVC())]),\n",
       "             param_grid={&#x27;svm__C&#x27;: [0.001, 0.1, 10, 100, 1000],\n",
       "                         &#x27;svm__gamma&#x27;: [1, 0.1, 0.01, 0.001, 0.0001],\n",
       "                         &#x27;svm__kernel&#x27;: [&#x27;rbf&#x27;]})</pre><b>In a Jupyter environment, please rerun this cell to show the HTML representation or trust the notebook. <br />On GitHub, the HTML representation is unable to render, please try loading this page with nbviewer.org.</b></div><div class=\"sk-container\" hidden><div class=\"sk-item sk-dashed-wrapped\"><div class=\"sk-label-container\"><div class=\"sk-label sk-toggleable\"><input class=\"sk-toggleable__control sk-hidden--visually\" id=\"sk-estimator-id-23\" type=\"checkbox\" ><label for=\"sk-estimator-id-23\" class=\"sk-toggleable__label sk-toggleable__label-arrow\">GridSearchCV</label><div class=\"sk-toggleable__content\"><pre>GridSearchCV(cv=StratifiedKFold(n_splits=5, random_state=42, shuffle=True),\n",
       "             estimator=Pipeline(steps=[(&#x27;preproc&#x27;,\n",
       "                                        ColumnTransformer(transformers=[(&#x27;numeric&#x27;,\n",
       "                                                                         StandardScaler(),\n",
       "                                                                         [&#x27;url_length&#x27;,\n",
       "                                                                          &#x27;number_special_characters&#x27;,\n",
       "                                                                          &#x27;tcp_conversation_exchange&#x27;,\n",
       "                                                                          &#x27;dist_remote_tcp_port&#x27;,\n",
       "                                                                          &#x27;remote_ips&#x27;,\n",
       "                                                                          &#x27;app_bytes&#x27;,\n",
       "                                                                          &#x27;source_app_packets&#x27;,\n",
       "                                                                          &#x27;remote_app_packets&#x27;,\n",
       "                                                                          &#x27;source_app_bytes&#x27;,\n",
       "                                                                          &#x27;remote_app_bytes&#x27;,\n",
       "                                                                          &#x27;app_packets&#x27;,\n",
       "                                                                          &#x27;dns_query_times&#x27;,\n",
       "                                                                          &#x27;regdate_ts&#x27;,\n",
       "                                                                          &#x27;upd_ts&#x27;]),\n",
       "                                                                        (&#x27;categorical&#x27;,\n",
       "                                                                         OneHotEncoder(handle_unknown=&#x27;ignore&#x27;),\n",
       "                                                                         [&#x27;charset&#x27;,\n",
       "                                                                          &#x27;server&#x27;,\n",
       "                                                                          &#x27;whois_country&#x27;,\n",
       "                                                                          &#x27;whois_statepro&#x27;])])),\n",
       "                                       (&#x27;svm&#x27;, SVC())]),\n",
       "             param_grid={&#x27;svm__C&#x27;: [0.001, 0.1, 10, 100, 1000],\n",
       "                         &#x27;svm__gamma&#x27;: [1, 0.1, 0.01, 0.001, 0.0001],\n",
       "                         &#x27;svm__kernel&#x27;: [&#x27;rbf&#x27;]})</pre></div></div></div><div class=\"sk-parallel\"><div class=\"sk-parallel-item\"><div class=\"sk-item\"><div class=\"sk-label-container\"><div class=\"sk-label sk-toggleable\"><input class=\"sk-toggleable__control sk-hidden--visually\" id=\"sk-estimator-id-24\" type=\"checkbox\" ><label for=\"sk-estimator-id-24\" class=\"sk-toggleable__label sk-toggleable__label-arrow\">estimator: Pipeline</label><div class=\"sk-toggleable__content\"><pre>Pipeline(steps=[(&#x27;preproc&#x27;,\n",
       "                 ColumnTransformer(transformers=[(&#x27;numeric&#x27;, StandardScaler(),\n",
       "                                                  [&#x27;url_length&#x27;,\n",
       "                                                   &#x27;number_special_characters&#x27;,\n",
       "                                                   &#x27;tcp_conversation_exchange&#x27;,\n",
       "                                                   &#x27;dist_remote_tcp_port&#x27;,\n",
       "                                                   &#x27;remote_ips&#x27;, &#x27;app_bytes&#x27;,\n",
       "                                                   &#x27;source_app_packets&#x27;,\n",
       "                                                   &#x27;remote_app_packets&#x27;,\n",
       "                                                   &#x27;source_app_bytes&#x27;,\n",
       "                                                   &#x27;remote_app_bytes&#x27;,\n",
       "                                                   &#x27;app_packets&#x27;,\n",
       "                                                   &#x27;dns_query_times&#x27;,\n",
       "                                                   &#x27;regdate_ts&#x27;, &#x27;upd_ts&#x27;]),\n",
       "                                                 (&#x27;categorical&#x27;,\n",
       "                                                  OneHotEncoder(handle_unknown=&#x27;ignore&#x27;),\n",
       "                                                  [&#x27;charset&#x27;, &#x27;server&#x27;,\n",
       "                                                   &#x27;whois_country&#x27;,\n",
       "                                                   &#x27;whois_statepro&#x27;])])),\n",
       "                (&#x27;svm&#x27;, SVC())])</pre></div></div></div><div class=\"sk-serial\"><div class=\"sk-item\"><div class=\"sk-serial\"><div class=\"sk-item sk-dashed-wrapped\"><div class=\"sk-label-container\"><div class=\"sk-label sk-toggleable\"><input class=\"sk-toggleable__control sk-hidden--visually\" id=\"sk-estimator-id-25\" type=\"checkbox\" ><label for=\"sk-estimator-id-25\" class=\"sk-toggleable__label sk-toggleable__label-arrow\">preproc: ColumnTransformer</label><div class=\"sk-toggleable__content\"><pre>ColumnTransformer(transformers=[(&#x27;numeric&#x27;, StandardScaler(),\n",
       "                                 [&#x27;url_length&#x27;, &#x27;number_special_characters&#x27;,\n",
       "                                  &#x27;tcp_conversation_exchange&#x27;,\n",
       "                                  &#x27;dist_remote_tcp_port&#x27;, &#x27;remote_ips&#x27;,\n",
       "                                  &#x27;app_bytes&#x27;, &#x27;source_app_packets&#x27;,\n",
       "                                  &#x27;remote_app_packets&#x27;, &#x27;source_app_bytes&#x27;,\n",
       "                                  &#x27;remote_app_bytes&#x27;, &#x27;app_packets&#x27;,\n",
       "                                  &#x27;dns_query_times&#x27;, &#x27;regdate_ts&#x27;, &#x27;upd_ts&#x27;]),\n",
       "                                (&#x27;categorical&#x27;,\n",
       "                                 OneHotEncoder(handle_unknown=&#x27;ignore&#x27;),\n",
       "                                 [&#x27;charset&#x27;, &#x27;server&#x27;, &#x27;whois_country&#x27;,\n",
       "                                  &#x27;whois_statepro&#x27;])])</pre></div></div></div><div class=\"sk-parallel\"><div class=\"sk-parallel-item\"><div class=\"sk-item\"><div class=\"sk-label-container\"><div class=\"sk-label sk-toggleable\"><input class=\"sk-toggleable__control sk-hidden--visually\" id=\"sk-estimator-id-26\" type=\"checkbox\" ><label for=\"sk-estimator-id-26\" class=\"sk-toggleable__label sk-toggleable__label-arrow\">numeric</label><div class=\"sk-toggleable__content\"><pre>[&#x27;url_length&#x27;, &#x27;number_special_characters&#x27;, &#x27;tcp_conversation_exchange&#x27;, &#x27;dist_remote_tcp_port&#x27;, &#x27;remote_ips&#x27;, &#x27;app_bytes&#x27;, &#x27;source_app_packets&#x27;, &#x27;remote_app_packets&#x27;, &#x27;source_app_bytes&#x27;, &#x27;remote_app_bytes&#x27;, &#x27;app_packets&#x27;, &#x27;dns_query_times&#x27;, &#x27;regdate_ts&#x27;, &#x27;upd_ts&#x27;]</pre></div></div></div><div class=\"sk-serial\"><div class=\"sk-item\"><div class=\"sk-estimator sk-toggleable\"><input class=\"sk-toggleable__control sk-hidden--visually\" id=\"sk-estimator-id-27\" type=\"checkbox\" ><label for=\"sk-estimator-id-27\" class=\"sk-toggleable__label sk-toggleable__label-arrow\">StandardScaler</label><div class=\"sk-toggleable__content\"><pre>StandardScaler()</pre></div></div></div></div></div></div><div class=\"sk-parallel-item\"><div class=\"sk-item\"><div class=\"sk-label-container\"><div class=\"sk-label sk-toggleable\"><input class=\"sk-toggleable__control sk-hidden--visually\" id=\"sk-estimator-id-28\" type=\"checkbox\" ><label for=\"sk-estimator-id-28\" class=\"sk-toggleable__label sk-toggleable__label-arrow\">categorical</label><div class=\"sk-toggleable__content\"><pre>[&#x27;charset&#x27;, &#x27;server&#x27;, &#x27;whois_country&#x27;, &#x27;whois_statepro&#x27;]</pre></div></div></div><div class=\"sk-serial\"><div class=\"sk-item\"><div class=\"sk-estimator sk-toggleable\"><input class=\"sk-toggleable__control sk-hidden--visually\" id=\"sk-estimator-id-29\" type=\"checkbox\" ><label for=\"sk-estimator-id-29\" class=\"sk-toggleable__label sk-toggleable__label-arrow\">OneHotEncoder</label><div class=\"sk-toggleable__content\"><pre>OneHotEncoder(handle_unknown=&#x27;ignore&#x27;)</pre></div></div></div></div></div></div></div></div><div class=\"sk-item\"><div class=\"sk-estimator sk-toggleable\"><input class=\"sk-toggleable__control sk-hidden--visually\" id=\"sk-estimator-id-30\" type=\"checkbox\" ><label for=\"sk-estimator-id-30\" class=\"sk-toggleable__label sk-toggleable__label-arrow\">SVC</label><div class=\"sk-toggleable__content\"><pre>SVC()</pre></div></div></div></div></div></div></div></div></div></div></div></div>"
      ],
      "text/plain": [
       "GridSearchCV(cv=StratifiedKFold(n_splits=5, random_state=42, shuffle=True),\n",
       "             estimator=Pipeline(steps=[('preproc',\n",
       "                                        ColumnTransformer(transformers=[('numeric',\n",
       "                                                                         StandardScaler(),\n",
       "                                                                         ['url_length',\n",
       "                                                                          'number_special_characters',\n",
       "                                                                          'tcp_conversation_exchange',\n",
       "                                                                          'dist_remote_tcp_port',\n",
       "                                                                          'remote_ips',\n",
       "                                                                          'app_bytes',\n",
       "                                                                          'source_app_packets',\n",
       "                                                                          'remote_app_packets',\n",
       "                                                                          'source_app_bytes',\n",
       "                                                                          'remote_app_bytes',\n",
       "                                                                          'app_packets',\n",
       "                                                                          'dns_query_times',\n",
       "                                                                          'regdate_ts',\n",
       "                                                                          'upd_ts']),\n",
       "                                                                        ('categorical',\n",
       "                                                                         OneHotEncoder(handle_unknown='ignore'),\n",
       "                                                                         ['charset',\n",
       "                                                                          'server',\n",
       "                                                                          'whois_country',\n",
       "                                                                          'whois_statepro'])])),\n",
       "                                       ('svm', SVC())]),\n",
       "             param_grid={'svm__C': [0.001, 0.1, 10, 100, 1000],\n",
       "                         'svm__gamma': [1, 0.1, 0.01, 0.001, 0.0001],\n",
       "                         'svm__kernel': ['rbf']})"
      ]
     },
     "execution_count": 55,
     "metadata": {},
     "output_type": "execute_result"
    }
   ],
   "source": [
    "from sklearn.svm import SVC\n",
    "\n",
    "model4 = Pipeline([\n",
    "    (\"preproc\", ColumnTransformer([\n",
    "        (\"numeric\",     StandardScaler(), numeric_vars),\n",
    "        (\"categorical\", OneHotEncoder(handle_unknown='ignore'),  categorical_vars)\n",
    "    ])),\n",
    "    (\"svm\", SVC())\n",
    "])\n",
    "\n",
    "grid = {\n",
    "    \"svm__C\": [0.001,0.1,10,100,1000],\n",
    "    \"svm__gamma\": [1, 0.1, 0.01, 0.001, 0.0001],\n",
    "    \"svm__kernel\": [\"rbf\"]\n",
    "}\n",
    "\n",
    "gs = GridSearchCV(model4, param_grid=grid, cv=skf)\n",
    "\n",
    "gs.fit(X, y)"
   ]
  },
  {
   "cell_type": "code",
   "execution_count": 56,
   "id": "147ae1a3",
   "metadata": {},
   "outputs": [
    {
     "data": {
      "text/html": [
       "<div>\n",
       "<style scoped>\n",
       "    .dataframe tbody tr th:only-of-type {\n",
       "        vertical-align: middle;\n",
       "    }\n",
       "\n",
       "    .dataframe tbody tr th {\n",
       "        vertical-align: top;\n",
       "    }\n",
       "\n",
       "    .dataframe thead th {\n",
       "        text-align: right;\n",
       "    }\n",
       "</style>\n",
       "<table border=\"1\" class=\"dataframe\">\n",
       "  <thead>\n",
       "    <tr style=\"text-align: right;\">\n",
       "      <th></th>\n",
       "      <th>mean_fit_time</th>\n",
       "      <th>std_fit_time</th>\n",
       "      <th>mean_score_time</th>\n",
       "      <th>std_score_time</th>\n",
       "      <th>param_svm__C</th>\n",
       "      <th>param_svm__gamma</th>\n",
       "      <th>param_svm__kernel</th>\n",
       "      <th>params</th>\n",
       "      <th>split0_test_score</th>\n",
       "      <th>split1_test_score</th>\n",
       "      <th>split2_test_score</th>\n",
       "      <th>split3_test_score</th>\n",
       "      <th>split4_test_score</th>\n",
       "      <th>mean_test_score</th>\n",
       "      <th>std_test_score</th>\n",
       "      <th>rank_test_score</th>\n",
       "    </tr>\n",
       "  </thead>\n",
       "  <tbody>\n",
       "    <tr>\n",
       "      <th>16</th>\n",
       "      <td>0.036109</td>\n",
       "      <td>0.001158</td>\n",
       "      <td>0.010361</td>\n",
       "      <td>0.000487</td>\n",
       "      <td>100</td>\n",
       "      <td>0.1</td>\n",
       "      <td>rbf</td>\n",
       "      <td>{'svm__C': 100, 'svm__gamma': 0.1, 'svm__kerne...</td>\n",
       "      <td>0.966387</td>\n",
       "      <td>0.971910</td>\n",
       "      <td>0.966292</td>\n",
       "      <td>0.980337</td>\n",
       "      <td>0.974719</td>\n",
       "      <td>0.971929</td>\n",
       "      <td>0.005310</td>\n",
       "      <td>1</td>\n",
       "    </tr>\n",
       "    <tr>\n",
       "      <th>21</th>\n",
       "      <td>0.037100</td>\n",
       "      <td>0.002770</td>\n",
       "      <td>0.010374</td>\n",
       "      <td>0.000487</td>\n",
       "      <td>1000</td>\n",
       "      <td>0.1</td>\n",
       "      <td>rbf</td>\n",
       "      <td>{'svm__C': 1000, 'svm__gamma': 0.1, 'svm__kern...</td>\n",
       "      <td>0.963585</td>\n",
       "      <td>0.971910</td>\n",
       "      <td>0.966292</td>\n",
       "      <td>0.980337</td>\n",
       "      <td>0.974719</td>\n",
       "      <td>0.971369</td>\n",
       "      <td>0.005972</td>\n",
       "      <td>2</td>\n",
       "    </tr>\n",
       "    <tr>\n",
       "      <th>11</th>\n",
       "      <td>0.038291</td>\n",
       "      <td>0.001488</td>\n",
       "      <td>0.010765</td>\n",
       "      <td>0.000398</td>\n",
       "      <td>10</td>\n",
       "      <td>0.1</td>\n",
       "      <td>rbf</td>\n",
       "      <td>{'svm__C': 10, 'svm__gamma': 0.1, 'svm__kernel...</td>\n",
       "      <td>0.974790</td>\n",
       "      <td>0.963483</td>\n",
       "      <td>0.963483</td>\n",
       "      <td>0.977528</td>\n",
       "      <td>0.977528</td>\n",
       "      <td>0.971362</td>\n",
       "      <td>0.006511</td>\n",
       "      <td>3</td>\n",
       "    </tr>\n",
       "    <tr>\n",
       "      <th>17</th>\n",
       "      <td>0.034493</td>\n",
       "      <td>0.001354</td>\n",
       "      <td>0.008985</td>\n",
       "      <td>0.000012</td>\n",
       "      <td>100</td>\n",
       "      <td>0.01</td>\n",
       "      <td>rbf</td>\n",
       "      <td>{'svm__C': 100, 'svm__gamma': 0.01, 'svm__kern...</td>\n",
       "      <td>0.966387</td>\n",
       "      <td>0.966292</td>\n",
       "      <td>0.963483</td>\n",
       "      <td>0.971910</td>\n",
       "      <td>0.980337</td>\n",
       "      <td>0.969682</td>\n",
       "      <td>0.005988</td>\n",
       "      <td>4</td>\n",
       "    </tr>\n",
       "    <tr>\n",
       "      <th>23</th>\n",
       "      <td>0.037482</td>\n",
       "      <td>0.001964</td>\n",
       "      <td>0.008987</td>\n",
       "      <td>0.000014</td>\n",
       "      <td>1000</td>\n",
       "      <td>0.001</td>\n",
       "      <td>rbf</td>\n",
       "      <td>{'svm__C': 1000, 'svm__gamma': 0.001, 'svm__ke...</td>\n",
       "      <td>0.963585</td>\n",
       "      <td>0.960674</td>\n",
       "      <td>0.955056</td>\n",
       "      <td>0.963483</td>\n",
       "      <td>0.977528</td>\n",
       "      <td>0.964065</td>\n",
       "      <td>0.007409</td>\n",
       "      <td>5</td>\n",
       "    </tr>\n",
       "  </tbody>\n",
       "</table>\n",
       "</div>"
      ],
      "text/plain": [
       "    mean_fit_time  std_fit_time  mean_score_time  std_score_time param_svm__C  \\\n",
       "16       0.036109      0.001158         0.010361        0.000487          100   \n",
       "21       0.037100      0.002770         0.010374        0.000487         1000   \n",
       "11       0.038291      0.001488         0.010765        0.000398           10   \n",
       "17       0.034493      0.001354         0.008985        0.000012          100   \n",
       "23       0.037482      0.001964         0.008987        0.000014         1000   \n",
       "\n",
       "   param_svm__gamma param_svm__kernel  \\\n",
       "16              0.1               rbf   \n",
       "21              0.1               rbf   \n",
       "11              0.1               rbf   \n",
       "17             0.01               rbf   \n",
       "23            0.001               rbf   \n",
       "\n",
       "                                               params  split0_test_score  \\\n",
       "16  {'svm__C': 100, 'svm__gamma': 0.1, 'svm__kerne...           0.966387   \n",
       "21  {'svm__C': 1000, 'svm__gamma': 0.1, 'svm__kern...           0.963585   \n",
       "11  {'svm__C': 10, 'svm__gamma': 0.1, 'svm__kernel...           0.974790   \n",
       "17  {'svm__C': 100, 'svm__gamma': 0.01, 'svm__kern...           0.966387   \n",
       "23  {'svm__C': 1000, 'svm__gamma': 0.001, 'svm__ke...           0.963585   \n",
       "\n",
       "    split1_test_score  split2_test_score  split3_test_score  \\\n",
       "16           0.971910           0.966292           0.980337   \n",
       "21           0.971910           0.966292           0.980337   \n",
       "11           0.963483           0.963483           0.977528   \n",
       "17           0.966292           0.963483           0.971910   \n",
       "23           0.960674           0.955056           0.963483   \n",
       "\n",
       "    split4_test_score  mean_test_score  std_test_score  rank_test_score  \n",
       "16           0.974719         0.971929        0.005310                1  \n",
       "21           0.974719         0.971369        0.005972                2  \n",
       "11           0.977528         0.971362        0.006511                3  \n",
       "17           0.980337         0.969682        0.005988                4  \n",
       "23           0.977528         0.964065        0.007409                5  "
      ]
     },
     "execution_count": 56,
     "metadata": {},
     "output_type": "execute_result"
    }
   ],
   "source": [
    "pd.DataFrame(gs.cv_results_).sort_values(\"rank_test_score\").head(5)"
   ]
  },
  {
   "cell_type": "markdown",
   "id": "c3f68d02",
   "metadata": {},
   "source": [
    "**SVC** riesce ad ottenere una accuratezza molto alta (oltre ad un valore alto di precision, recall e f1-score calcolati sotto). L'accuratezza media ottenuta e' del 97%. Sembra essere il miglior modello da me addestrato in questo notebook."
   ]
  },
  {
   "cell_type": "code",
   "execution_count": 57,
   "id": "a2a8db9d",
   "metadata": {},
   "outputs": [
    {
     "name": "stdout",
     "output_type": "stream",
     "text": [
      "{'svm__C': 100, 'svm__gamma': 0.1, 'svm__kernel': 'rbf'}\n"
     ]
    }
   ],
   "source": [
    "print(gs.best_params_)"
   ]
  },
  {
   "cell_type": "code",
   "execution_count": 58,
   "id": "4f57544c",
   "metadata": {},
   "outputs": [
    {
     "name": "stdout",
     "output_type": "stream",
     "text": [
      "Pipeline(steps=[('preproc',\n",
      "                 ColumnTransformer(transformers=[('numeric', StandardScaler(),\n",
      "                                                  ['url_length',\n",
      "                                                   'number_special_characters',\n",
      "                                                   'tcp_conversation_exchange',\n",
      "                                                   'dist_remote_tcp_port',\n",
      "                                                   'remote_ips', 'app_bytes',\n",
      "                                                   'source_app_packets',\n",
      "                                                   'remote_app_packets',\n",
      "                                                   'source_app_bytes',\n",
      "                                                   'remote_app_bytes',\n",
      "                                                   'app_packets',\n",
      "                                                   'dns_query_times',\n",
      "                                                   'regdate_ts', 'upd_ts']),\n",
      "                                                 ('categorical',\n",
      "                                                  OneHotEncoder(handle_unknown='ignore'),\n",
      "                                                  ['charset', 'server',\n",
      "                                                   'whois_country',\n",
      "                                                   'whois_statepro'])])),\n",
      "                ('svm', SVC(C=100, gamma=0.1))])\n"
     ]
    }
   ],
   "source": [
    "print(gs.best_estimator_)"
   ]
  },
  {
   "cell_type": "code",
   "execution_count": 59,
   "id": "c50fab55",
   "metadata": {},
   "outputs": [
    {
     "data": {
      "image/png": "[encoded data removed]",
      "text/plain": [
       "<Figure size 432x288 with 2 Axes>"
      ]
     },
     "metadata": {
      "needs_background": "light"
     },
     "output_type": "display_data"
    }
   ],
   "source": [
    "y_pred = cross_val_predict(model4, X, y, cv=skf)\n",
    "conf_mat = confusion_matrix(y, y_pred)\n",
    "sns.heatmap(conf_mat, cmap='YlGnBu', annot=True, fmt='d');"
   ]
  },
  {
   "cell_type": "markdown",
   "id": "ea9bbe6e",
   "metadata": {},
   "source": [
    "La matrice di confusione conferma che il modello funziona molto bene."
   ]
  },
  {
   "cell_type": "code",
   "execution_count": 60,
   "id": "83d23e20",
   "metadata": {},
   "outputs": [
    {
     "data": {
      "text/plain": [
       "0.9862068965517241"
      ]
     },
     "execution_count": 60,
     "metadata": {},
     "output_type": "execute_result"
    }
   ],
   "source": [
    "# precision of malicious website class\n",
    "precision_score(y, y_pred, pos_label=1)"
   ]
  },
  {
   "cell_type": "code",
   "execution_count": 61,
   "id": "64aa141f",
   "metadata": {},
   "outputs": [
    {
     "data": {
      "text/plain": [
       "0.6620370370370371"
      ]
     },
     "execution_count": 61,
     "metadata": {},
     "output_type": "execute_result"
    }
   ],
   "source": [
    "# recall of malicious website class\n",
    "recall_score(y, y_pred, pos_label=1)"
   ]
  },
  {
   "cell_type": "code",
   "execution_count": 62,
   "id": "7c03a9bb",
   "metadata": {},
   "outputs": [
    {
     "name": "stdout",
     "output_type": "stream",
     "text": [
      "F1-score of benign website class:  0.9765698219306466\n",
      "F1-score of malicious website class:  0.7922437673130193\n"
     ]
    }
   ],
   "source": [
    "# f1-score of both classes\n",
    "print(\"F1-score of benign website class: \", f1_score(y, y_pred, pos_label=0))\n",
    "print(\"F1-score of malicious website class: \", f1_score(y, y_pred, pos_label=1))"
   ]
  },
  {
   "cell_type": "code",
   "execution_count": 63,
   "id": "cff31d3e",
   "metadata": {},
   "outputs": [
    {
     "name": "stdout",
     "output_type": "stream",
     "text": [
      "Average F1-score:  0.8844067946218329\n"
     ]
    }
   ],
   "source": [
    "print(\"Average F1-score: \", f1_score(y, y_pred, average='macro'))"
   ]
  },
  {
   "cell_type": "markdown",
   "id": "b7b012c8",
   "metadata": {},
   "source": [
    "## SVM with SMOTE"
   ]
  },
  {
   "cell_type": "markdown",
   "id": "98d9ae91",
   "metadata": {},
   "source": [
    "A questo punto mi rimane l'applicazione dell'oversampling dei dati, generando nuove instanze artificiale alla classe meno presente (ovvero i siti web maligni). Per questo utilizzo una libreria molto famosa di nome SMOTE.\n",
    "Vediamo se i risultati migliorano ulteriormente:"
   ]
  },
  {
   "cell_type": "code",
   "execution_count": 64,
   "id": "fff1c24d",
   "metadata": {},
   "outputs": [
    {
     "data": {
      "text/html": [
       "<style>#sk-container-id-5 {color: black;background-color: white;}#sk-container-id-5 pre{padding: 0;}#sk-container-id-5 div.sk-toggleable {background-color: white;}#sk-container-id-5 label.sk-toggleable__label {cursor: pointer;display: block;width: 100%;margin-bottom: 0;padding: 0.3em;box-sizing: border-box;text-align: center;}#sk-container-id-5 label.sk-toggleable__label-arrow:before {content: \"▸\";float: left;margin-right: 0.25em;color: #696969;}#sk-container-id-5 label.sk-toggleable__label-arrow:hover:before {color: black;}#sk-container-id-5 div.sk-estimator:hover label.sk-toggleable__label-arrow:before {color: black;}#sk-container-id-5 div.sk-toggleable__content {max-height: 0;max-width: 0;overflow: hidden;text-align: left;background-color: #f0f8ff;}#sk-container-id-5 div.sk-toggleable__content pre {margin: 0.2em;color: black;border-radius: 0.25em;background-color: #f0f8ff;}#sk-container-id-5 input.sk-toggleable__control:checked~div.sk-toggleable__content {max-height: 200px;max-width: 100%;overflow: auto;}#sk-container-id-5 input.sk-toggleable__control:checked~label.sk-toggleable__label-arrow:before {content: \"▾\";}#sk-container-id-5 div.sk-estimator input.sk-toggleable__control:checked~label.sk-toggleable__label {background-color: #d4ebff;}#sk-container-id-5 div.sk-label input.sk-toggleable__control:checked~label.sk-toggleable__label {background-color: #d4ebff;}#sk-container-id-5 input.sk-hidden--visually {border: 0;clip: rect(1px 1px 1px 1px);clip: rect(1px, 1px, 1px, 1px);height: 1px;margin: -1px;overflow: hidden;padding: 0;position: absolute;width: 1px;}#sk-container-id-5 div.sk-estimator {font-family: monospace;background-color: #f0f8ff;border: 1px dotted black;border-radius: 0.25em;box-sizing: border-box;margin-bottom: 0.5em;}#sk-container-id-5 div.sk-estimator:hover {background-color: #d4ebff;}#sk-container-id-5 div.sk-parallel-item::after {content: \"\";width: 100%;border-bottom: 1px solid gray;flex-grow: 1;}#sk-container-id-5 div.sk-label:hover label.sk-toggleable__label {background-color: #d4ebff;}#sk-container-id-5 div.sk-serial::before {content: \"\";position: absolute;border-left: 1px solid gray;box-sizing: border-box;top: 0;bottom: 0;left: 50%;z-index: 0;}#sk-container-id-5 div.sk-serial {display: flex;flex-direction: column;align-items: center;background-color: white;padding-right: 0.2em;padding-left: 0.2em;position: relative;}#sk-container-id-5 div.sk-item {position: relative;z-index: 1;}#sk-container-id-5 div.sk-parallel {display: flex;align-items: stretch;justify-content: center;background-color: white;position: relative;}#sk-container-id-5 div.sk-item::before, #sk-container-id-5 div.sk-parallel-item::before {content: \"\";position: absolute;border-left: 1px solid gray;box-sizing: border-box;top: 0;bottom: 0;left: 50%;z-index: -1;}#sk-container-id-5 div.sk-parallel-item {display: flex;flex-direction: column;z-index: 1;position: relative;background-color: white;}#sk-container-id-5 div.sk-parallel-item:first-child::after {align-self: flex-end;width: 50%;}#sk-container-id-5 div.sk-parallel-item:last-child::after {align-self: flex-start;width: 50%;}#sk-container-id-5 div.sk-parallel-item:only-child::after {width: 0;}#sk-container-id-5 div.sk-dashed-wrapped {border: 1px dashed gray;margin: 0 0.4em 0.5em 0.4em;box-sizing: border-box;padding-bottom: 0.4em;background-color: white;}#sk-container-id-5 div.sk-label label {font-family: monospace;font-weight: bold;display: inline-block;line-height: 1.2em;}#sk-container-id-5 div.sk-label-container {text-align: center;}#sk-container-id-5 div.sk-container {/* jupyter's `normalize.less` sets `[hidden] { display: none; }` but bootstrap.min.css set `[hidden] { display: none !important; }` so we also need the `!important` here to be able to override the default hidden behavior on the sphinx rendered scikit-learn.org. See: https://github.com/scikit-learn/scikit-learn/issues/21755 */display: inline-block !important;position: relative;}#sk-container-id-5 div.sk-text-repr-fallback {display: none;}</style><div id=\"sk-container-id-5\" class=\"sk-top-container\"><div class=\"sk-text-repr-fallback\"><pre>GridSearchCV(cv=StratifiedKFold(n_splits=5, random_state=42, shuffle=True),\n",
       "             estimator=Pipeline(steps=[(&#x27;preproc&#x27;,\n",
       "                                        ColumnTransformer(transformers=[(&#x27;numeric&#x27;,\n",
       "                                                                         StandardScaler(),\n",
       "                                                                         [&#x27;url_length&#x27;,\n",
       "                                                                          &#x27;number_special_characters&#x27;,\n",
       "                                                                          &#x27;tcp_conversation_exchange&#x27;,\n",
       "                                                                          &#x27;dist_remote_tcp_port&#x27;,\n",
       "                                                                          &#x27;remote_ips&#x27;,\n",
       "                                                                          &#x27;app_bytes&#x27;,\n",
       "                                                                          &#x27;source_app_packets&#x27;,\n",
       "                                                                          &#x27;remote_app_packets&#x27;,\n",
       "                                                                          &#x27;source_app_bytes&#x27;,\n",
       "                                                                          &#x27;remote_app_bytes&#x27;,\n",
       "                                                                          &#x27;app_packets&#x27;,\n",
       "                                                                          &#x27;dns_query_times&#x27;,\n",
       "                                                                          &#x27;regdate_ts&#x27;,\n",
       "                                                                          &#x27;upd_ts&#x27;]),\n",
       "                                                                        (&#x27;categorical&#x27;,\n",
       "                                                                         OneHotEncoder(handle_unknown=&#x27;ignore&#x27;),\n",
       "                                                                         [&#x27;charset&#x27;,\n",
       "                                                                          &#x27;server&#x27;,\n",
       "                                                                          &#x27;whois_country&#x27;,\n",
       "                                                                          &#x27;whois_statepro&#x27;])])),\n",
       "                                       (&#x27;smote&#x27;, SMOTE(random_state=1)),\n",
       "                                       (&#x27;svm&#x27;, SVC())]),\n",
       "             param_grid={&#x27;svm__C&#x27;: [0.001, 0.1, 10, 100, 1000],\n",
       "                         &#x27;svm__gamma&#x27;: [1, 0.1, 0.01, 0.001, 0.0001],\n",
       "                         &#x27;svm__kernel&#x27;: [&#x27;rbf&#x27;]})</pre><b>In a Jupyter environment, please rerun this cell to show the HTML representation or trust the notebook. <br />On GitHub, the HTML representation is unable to render, please try loading this page with nbviewer.org.</b></div><div class=\"sk-container\" hidden><div class=\"sk-item sk-dashed-wrapped\"><div class=\"sk-label-container\"><div class=\"sk-label sk-toggleable\"><input class=\"sk-toggleable__control sk-hidden--visually\" id=\"sk-estimator-id-31\" type=\"checkbox\" ><label for=\"sk-estimator-id-31\" class=\"sk-toggleable__label sk-toggleable__label-arrow\">GridSearchCV</label><div class=\"sk-toggleable__content\"><pre>GridSearchCV(cv=StratifiedKFold(n_splits=5, random_state=42, shuffle=True),\n",
       "             estimator=Pipeline(steps=[(&#x27;preproc&#x27;,\n",
       "                                        ColumnTransformer(transformers=[(&#x27;numeric&#x27;,\n",
       "                                                                         StandardScaler(),\n",
       "                                                                         [&#x27;url_length&#x27;,\n",
       "                                                                          &#x27;number_special_characters&#x27;,\n",
       "                                                                          &#x27;tcp_conversation_exchange&#x27;,\n",
       "                                                                          &#x27;dist_remote_tcp_port&#x27;,\n",
       "                                                                          &#x27;remote_ips&#x27;,\n",
       "                                                                          &#x27;app_bytes&#x27;,\n",
       "                                                                          &#x27;source_app_packets&#x27;,\n",
       "                                                                          &#x27;remote_app_packets&#x27;,\n",
       "                                                                          &#x27;source_app_bytes&#x27;,\n",
       "                                                                          &#x27;remote_app_bytes&#x27;,\n",
       "                                                                          &#x27;app_packets&#x27;,\n",
       "                                                                          &#x27;dns_query_times&#x27;,\n",
       "                                                                          &#x27;regdate_ts&#x27;,\n",
       "                                                                          &#x27;upd_ts&#x27;]),\n",
       "                                                                        (&#x27;categorical&#x27;,\n",
       "                                                                         OneHotEncoder(handle_unknown=&#x27;ignore&#x27;),\n",
       "                                                                         [&#x27;charset&#x27;,\n",
       "                                                                          &#x27;server&#x27;,\n",
       "                                                                          &#x27;whois_country&#x27;,\n",
       "                                                                          &#x27;whois_statepro&#x27;])])),\n",
       "                                       (&#x27;smote&#x27;, SMOTE(random_state=1)),\n",
       "                                       (&#x27;svm&#x27;, SVC())]),\n",
       "             param_grid={&#x27;svm__C&#x27;: [0.001, 0.1, 10, 100, 1000],\n",
       "                         &#x27;svm__gamma&#x27;: [1, 0.1, 0.01, 0.001, 0.0001],\n",
       "                         &#x27;svm__kernel&#x27;: [&#x27;rbf&#x27;]})</pre></div></div></div><div class=\"sk-parallel\"><div class=\"sk-parallel-item\"><div class=\"sk-item\"><div class=\"sk-label-container\"><div class=\"sk-label sk-toggleable\"><input class=\"sk-toggleable__control sk-hidden--visually\" id=\"sk-estimator-id-32\" type=\"checkbox\" ><label for=\"sk-estimator-id-32\" class=\"sk-toggleable__label sk-toggleable__label-arrow\">estimator: Pipeline</label><div class=\"sk-toggleable__content\"><pre>Pipeline(steps=[(&#x27;preproc&#x27;,\n",
       "                 ColumnTransformer(transformers=[(&#x27;numeric&#x27;, StandardScaler(),\n",
       "                                                  [&#x27;url_length&#x27;,\n",
       "                                                   &#x27;number_special_characters&#x27;,\n",
       "                                                   &#x27;tcp_conversation_exchange&#x27;,\n",
       "                                                   &#x27;dist_remote_tcp_port&#x27;,\n",
       "                                                   &#x27;remote_ips&#x27;, &#x27;app_bytes&#x27;,\n",
       "                                                   &#x27;source_app_packets&#x27;,\n",
       "                                                   &#x27;remote_app_packets&#x27;,\n",
       "                                                   &#x27;source_app_bytes&#x27;,\n",
       "                                                   &#x27;remote_app_bytes&#x27;,\n",
       "                                                   &#x27;app_packets&#x27;,\n",
       "                                                   &#x27;dns_query_times&#x27;,\n",
       "                                                   &#x27;regdate_ts&#x27;, &#x27;upd_ts&#x27;]),\n",
       "                                                 (&#x27;categorical&#x27;,\n",
       "                                                  OneHotEncoder(handle_unknown=&#x27;ignore&#x27;),\n",
       "                                                  [&#x27;charset&#x27;, &#x27;server&#x27;,\n",
       "                                                   &#x27;whois_country&#x27;,\n",
       "                                                   &#x27;whois_statepro&#x27;])])),\n",
       "                (&#x27;smote&#x27;, SMOTE(random_state=1)), (&#x27;svm&#x27;, SVC())])</pre></div></div></div><div class=\"sk-serial\"><div class=\"sk-item\"><div class=\"sk-serial\"><div class=\"sk-item sk-dashed-wrapped\"><div class=\"sk-label-container\"><div class=\"sk-label sk-toggleable\"><input class=\"sk-toggleable__control sk-hidden--visually\" id=\"sk-estimator-id-33\" type=\"checkbox\" ><label for=\"sk-estimator-id-33\" class=\"sk-toggleable__label sk-toggleable__label-arrow\">preproc: ColumnTransformer</label><div class=\"sk-toggleable__content\"><pre>ColumnTransformer(transformers=[(&#x27;numeric&#x27;, StandardScaler(),\n",
       "                                 [&#x27;url_length&#x27;, &#x27;number_special_characters&#x27;,\n",
       "                                  &#x27;tcp_conversation_exchange&#x27;,\n",
       "                                  &#x27;dist_remote_tcp_port&#x27;, &#x27;remote_ips&#x27;,\n",
       "                                  &#x27;app_bytes&#x27;, &#x27;source_app_packets&#x27;,\n",
       "                                  &#x27;remote_app_packets&#x27;, &#x27;source_app_bytes&#x27;,\n",
       "                                  &#x27;remote_app_bytes&#x27;, &#x27;app_packets&#x27;,\n",
       "                                  &#x27;dns_query_times&#x27;, &#x27;regdate_ts&#x27;, &#x27;upd_ts&#x27;]),\n",
       "                                (&#x27;categorical&#x27;,\n",
       "                                 OneHotEncoder(handle_unknown=&#x27;ignore&#x27;),\n",
       "                                 [&#x27;charset&#x27;, &#x27;server&#x27;, &#x27;whois_country&#x27;,\n",
       "                                  &#x27;whois_statepro&#x27;])])</pre></div></div></div><div class=\"sk-parallel\"><div class=\"sk-parallel-item\"><div class=\"sk-item\"><div class=\"sk-label-container\"><div class=\"sk-label sk-toggleable\"><input class=\"sk-toggleable__control sk-hidden--visually\" id=\"sk-estimator-id-34\" type=\"checkbox\" ><label for=\"sk-estimator-id-34\" class=\"sk-toggleable__label sk-toggleable__label-arrow\">numeric</label><div class=\"sk-toggleable__content\"><pre>[&#x27;url_length&#x27;, &#x27;number_special_characters&#x27;, &#x27;tcp_conversation_exchange&#x27;, &#x27;dist_remote_tcp_port&#x27;, &#x27;remote_ips&#x27;, &#x27;app_bytes&#x27;, &#x27;source_app_packets&#x27;, &#x27;remote_app_packets&#x27;, &#x27;source_app_bytes&#x27;, &#x27;remote_app_bytes&#x27;, &#x27;app_packets&#x27;, &#x27;dns_query_times&#x27;, &#x27;regdate_ts&#x27;, &#x27;upd_ts&#x27;]</pre></div></div></div><div class=\"sk-serial\"><div class=\"sk-item\"><div class=\"sk-estimator sk-toggleable\"><input class=\"sk-toggleable__control sk-hidden--visually\" id=\"sk-estimator-id-35\" type=\"checkbox\" ><label for=\"sk-estimator-id-35\" class=\"sk-toggleable__label sk-toggleable__label-arrow\">StandardScaler</label><div class=\"sk-toggleable__content\"><pre>StandardScaler()</pre></div></div></div></div></div></div><div class=\"sk-parallel-item\"><div class=\"sk-item\"><div class=\"sk-label-container\"><div class=\"sk-label sk-toggleable\"><input class=\"sk-toggleable__control sk-hidden--visually\" id=\"sk-estimator-id-36\" type=\"checkbox\" ><label for=\"sk-estimator-id-36\" class=\"sk-toggleable__label sk-toggleable__label-arrow\">categorical</label><div class=\"sk-toggleable__content\"><pre>[&#x27;charset&#x27;, &#x27;server&#x27;, &#x27;whois_country&#x27;, &#x27;whois_statepro&#x27;]</pre></div></div></div><div class=\"sk-serial\"><div class=\"sk-item\"><div class=\"sk-estimator sk-toggleable\"><input class=\"sk-toggleable__control sk-hidden--visually\" id=\"sk-estimator-id-37\" type=\"checkbox\" ><label for=\"sk-estimator-id-37\" class=\"sk-toggleable__label sk-toggleable__label-arrow\">OneHotEncoder</label><div class=\"sk-toggleable__content\"><pre>OneHotEncoder(handle_unknown=&#x27;ignore&#x27;)</pre></div></div></div></div></div></div></div></div><div class=\"sk-item\"><div class=\"sk-estimator sk-toggleable\"><input class=\"sk-toggleable__control sk-hidden--visually\" id=\"sk-estimator-id-38\" type=\"checkbox\" ><label for=\"sk-estimator-id-38\" class=\"sk-toggleable__label sk-toggleable__label-arrow\">SMOTE</label><div class=\"sk-toggleable__content\"><pre>SMOTE(random_state=1)</pre></div></div></div><div class=\"sk-item\"><div class=\"sk-estimator sk-toggleable\"><input class=\"sk-toggleable__control sk-hidden--visually\" id=\"sk-estimator-id-39\" type=\"checkbox\" ><label for=\"sk-estimator-id-39\" class=\"sk-toggleable__label sk-toggleable__label-arrow\">SVC</label><div class=\"sk-toggleable__content\"><pre>SVC()</pre></div></div></div></div></div></div></div></div></div></div></div></div>"
      ],
      "text/plain": [
       "GridSearchCV(cv=StratifiedKFold(n_splits=5, random_state=42, shuffle=True),\n",
       "             estimator=Pipeline(steps=[('preproc',\n",
       "                                        ColumnTransformer(transformers=[('numeric',\n",
       "                                                                         StandardScaler(),\n",
       "                                                                         ['url_length',\n",
       "                                                                          'number_special_characters',\n",
       "                                                                          'tcp_conversation_exchange',\n",
       "                                                                          'dist_remote_tcp_port',\n",
       "                                                                          'remote_ips',\n",
       "                                                                          'app_bytes',\n",
       "                                                                          'source_app_packets',\n",
       "                                                                          'remote_app_packets',\n",
       "                                                                          'source_app_bytes',\n",
       "                                                                          'remote_app_bytes',\n",
       "                                                                          'app_packets',\n",
       "                                                                          'dns_query_times',\n",
       "                                                                          'regdate_ts',\n",
       "                                                                          'upd_ts']),\n",
       "                                                                        ('categorical',\n",
       "                                                                         OneHotEncoder(handle_unknown='ignore'),\n",
       "                                                                         ['charset',\n",
       "                                                                          'server',\n",
       "                                                                          'whois_country',\n",
       "                                                                          'whois_statepro'])])),\n",
       "                                       ('smote', SMOTE(random_state=1)),\n",
       "                                       ('svm', SVC())]),\n",
       "             param_grid={'svm__C': [0.001, 0.1, 10, 100, 1000],\n",
       "                         'svm__gamma': [1, 0.1, 0.01, 0.001, 0.0001],\n",
       "                         'svm__kernel': ['rbf']})"
      ]
     },
     "execution_count": 64,
     "metadata": {},
     "output_type": "execute_result"
    }
   ],
   "source": [
    "from sklearn.svm import SVC\n",
    "from imblearn.pipeline import Pipeline\n",
    "from imblearn.over_sampling import SMOTE\n",
    "\n",
    "model5 = Pipeline([\n",
    "    (\"preproc\", ColumnTransformer([\n",
    "        (\"numeric\",     StandardScaler(), numeric_vars),\n",
    "        (\"categorical\", OneHotEncoder(handle_unknown='ignore'),  categorical_vars)\n",
    "    ])),\n",
    "    (\"smote\", SMOTE(random_state=1)),\n",
    "    (\"svm\", SVC())\n",
    "])\n",
    "\n",
    "grid = {\n",
    "    \"svm__C\": [0.001,0.1,10,100,1000],\n",
    "    \"svm__gamma\": [1, 0.1, 0.01, 0.001, 0.0001],\n",
    "    \"svm__kernel\": [\"rbf\"]\n",
    "}\n",
    "\n",
    "gs = GridSearchCV(model5, param_grid=grid, cv=skf)\n",
    "\n",
    "gs.fit(X, y)"
   ]
  },
  {
   "cell_type": "code",
   "execution_count": 65,
   "id": "7a6b6fe5",
   "metadata": {},
   "outputs": [
    {
     "data": {
      "text/html": [
       "<div>\n",
       "<style scoped>\n",
       "    .dataframe tbody tr th:only-of-type {\n",
       "        vertical-align: middle;\n",
       "    }\n",
       "\n",
       "    .dataframe tbody tr th {\n",
       "        vertical-align: top;\n",
       "    }\n",
       "\n",
       "    .dataframe thead th {\n",
       "        text-align: right;\n",
       "    }\n",
       "</style>\n",
       "<table border=\"1\" class=\"dataframe\">\n",
       "  <thead>\n",
       "    <tr style=\"text-align: right;\">\n",
       "      <th></th>\n",
       "      <th>mean_fit_time</th>\n",
       "      <th>std_fit_time</th>\n",
       "      <th>mean_score_time</th>\n",
       "      <th>std_score_time</th>\n",
       "      <th>param_svm__C</th>\n",
       "      <th>param_svm__gamma</th>\n",
       "      <th>param_svm__kernel</th>\n",
       "      <th>params</th>\n",
       "      <th>split0_test_score</th>\n",
       "      <th>split1_test_score</th>\n",
       "      <th>split2_test_score</th>\n",
       "      <th>split3_test_score</th>\n",
       "      <th>split4_test_score</th>\n",
       "      <th>mean_test_score</th>\n",
       "      <th>std_test_score</th>\n",
       "      <th>rank_test_score</th>\n",
       "    </tr>\n",
       "  </thead>\n",
       "  <tbody>\n",
       "    <tr>\n",
       "      <th>11</th>\n",
       "      <td>0.170344</td>\n",
       "      <td>0.003645</td>\n",
       "      <td>0.011569</td>\n",
       "      <td>0.000489</td>\n",
       "      <td>10</td>\n",
       "      <td>0.1</td>\n",
       "      <td>rbf</td>\n",
       "      <td>{'svm__C': 10, 'svm__gamma': 0.1, 'svm__kernel...</td>\n",
       "      <td>0.966387</td>\n",
       "      <td>0.969101</td>\n",
       "      <td>0.960674</td>\n",
       "      <td>0.980337</td>\n",
       "      <td>0.977528</td>\n",
       "      <td>0.970805</td>\n",
       "      <td>0.007227</td>\n",
       "      <td>1</td>\n",
       "    </tr>\n",
       "    <tr>\n",
       "      <th>21</th>\n",
       "      <td>0.163562</td>\n",
       "      <td>0.003611</td>\n",
       "      <td>0.010964</td>\n",
       "      <td>0.000613</td>\n",
       "      <td>1000</td>\n",
       "      <td>0.1</td>\n",
       "      <td>rbf</td>\n",
       "      <td>{'svm__C': 1000, 'svm__gamma': 0.1, 'svm__kern...</td>\n",
       "      <td>0.969188</td>\n",
       "      <td>0.966292</td>\n",
       "      <td>0.969101</td>\n",
       "      <td>0.971910</td>\n",
       "      <td>0.969101</td>\n",
       "      <td>0.969118</td>\n",
       "      <td>0.001777</td>\n",
       "      <td>2</td>\n",
       "    </tr>\n",
       "    <tr>\n",
       "      <th>16</th>\n",
       "      <td>0.165357</td>\n",
       "      <td>0.005478</td>\n",
       "      <td>0.011170</td>\n",
       "      <td>0.000978</td>\n",
       "      <td>100</td>\n",
       "      <td>0.1</td>\n",
       "      <td>rbf</td>\n",
       "      <td>{'svm__C': 100, 'svm__gamma': 0.1, 'svm__kerne...</td>\n",
       "      <td>0.969188</td>\n",
       "      <td>0.966292</td>\n",
       "      <td>0.969101</td>\n",
       "      <td>0.971910</td>\n",
       "      <td>0.969101</td>\n",
       "      <td>0.969118</td>\n",
       "      <td>0.001777</td>\n",
       "      <td>2</td>\n",
       "    </tr>\n",
       "    <tr>\n",
       "      <th>20</th>\n",
       "      <td>0.413617</td>\n",
       "      <td>0.005624</td>\n",
       "      <td>0.030326</td>\n",
       "      <td>0.000808</td>\n",
       "      <td>1000</td>\n",
       "      <td>1</td>\n",
       "      <td>rbf</td>\n",
       "      <td>{'svm__C': 1000, 'svm__gamma': 1, 'svm__kernel...</td>\n",
       "      <td>0.957983</td>\n",
       "      <td>0.969101</td>\n",
       "      <td>0.957865</td>\n",
       "      <td>0.955056</td>\n",
       "      <td>0.966292</td>\n",
       "      <td>0.961260</td>\n",
       "      <td>0.005432</td>\n",
       "      <td>4</td>\n",
       "    </tr>\n",
       "    <tr>\n",
       "      <th>15</th>\n",
       "      <td>0.414300</td>\n",
       "      <td>0.007919</td>\n",
       "      <td>0.030114</td>\n",
       "      <td>0.001153</td>\n",
       "      <td>100</td>\n",
       "      <td>1</td>\n",
       "      <td>rbf</td>\n",
       "      <td>{'svm__C': 100, 'svm__gamma': 1, 'svm__kernel'...</td>\n",
       "      <td>0.957983</td>\n",
       "      <td>0.969101</td>\n",
       "      <td>0.957865</td>\n",
       "      <td>0.955056</td>\n",
       "      <td>0.966292</td>\n",
       "      <td>0.961260</td>\n",
       "      <td>0.005432</td>\n",
       "      <td>4</td>\n",
       "    </tr>\n",
       "  </tbody>\n",
       "</table>\n",
       "</div>"
      ],
      "text/plain": [
       "    mean_fit_time  std_fit_time  mean_score_time  std_score_time param_svm__C  \\\n",
       "11       0.170344      0.003645         0.011569        0.000489           10   \n",
       "21       0.163562      0.003611         0.010964        0.000613         1000   \n",
       "16       0.165357      0.005478         0.011170        0.000978          100   \n",
       "20       0.413617      0.005624         0.030326        0.000808         1000   \n",
       "15       0.414300      0.007919         0.030114        0.001153          100   \n",
       "\n",
       "   param_svm__gamma param_svm__kernel  \\\n",
       "11              0.1               rbf   \n",
       "21              0.1               rbf   \n",
       "16              0.1               rbf   \n",
       "20                1               rbf   \n",
       "15                1               rbf   \n",
       "\n",
       "                                               params  split0_test_score  \\\n",
       "11  {'svm__C': 10, 'svm__gamma': 0.1, 'svm__kernel...           0.966387   \n",
       "21  {'svm__C': 1000, 'svm__gamma': 0.1, 'svm__kern...           0.969188   \n",
       "16  {'svm__C': 100, 'svm__gamma': 0.1, 'svm__kerne...           0.969188   \n",
       "20  {'svm__C': 1000, 'svm__gamma': 1, 'svm__kernel...           0.957983   \n",
       "15  {'svm__C': 100, 'svm__gamma': 1, 'svm__kernel'...           0.957983   \n",
       "\n",
       "    split1_test_score  split2_test_score  split3_test_score  \\\n",
       "11           0.969101           0.960674           0.980337   \n",
       "21           0.966292           0.969101           0.971910   \n",
       "16           0.966292           0.969101           0.971910   \n",
       "20           0.969101           0.957865           0.955056   \n",
       "15           0.969101           0.957865           0.955056   \n",
       "\n",
       "    split4_test_score  mean_test_score  std_test_score  rank_test_score  \n",
       "11           0.977528         0.970805        0.007227                1  \n",
       "21           0.969101         0.969118        0.001777                2  \n",
       "16           0.969101         0.969118        0.001777                2  \n",
       "20           0.966292         0.961260        0.005432                4  \n",
       "15           0.966292         0.961260        0.005432                4  "
      ]
     },
     "execution_count": 65,
     "metadata": {},
     "output_type": "execute_result"
    }
   ],
   "source": [
    "pd.DataFrame(gs.cv_results_).sort_values(\"rank_test_score\").head(5)"
   ]
  },
  {
   "cell_type": "code",
   "execution_count": 66,
   "id": "b17254e4",
   "metadata": {},
   "outputs": [
    {
     "name": "stdout",
     "output_type": "stream",
     "text": [
      "{'svm__C': 10, 'svm__gamma': 0.1, 'svm__kernel': 'rbf'}\n"
     ]
    }
   ],
   "source": [
    "print(gs.best_params_)"
   ]
  },
  {
   "cell_type": "code",
   "execution_count": 67,
   "id": "1c210eb4",
   "metadata": {},
   "outputs": [
    {
     "data": {
      "image/png": "[encoded data removed]",
      "text/plain": [
       "<Figure size 432x288 with 2 Axes>"
      ]
     },
     "metadata": {
      "needs_background": "light"
     },
     "output_type": "display_data"
    }
   ],
   "source": [
    "y_pred = cross_val_predict(model5, X, y, cv=skf)\n",
    "conf_mat = confusion_matrix(y, y_pred)\n",
    "sns.heatmap(conf_mat, cmap='YlGnBu', annot=True, fmt='d');"
   ]
  },
  {
   "cell_type": "code",
   "execution_count": 68,
   "id": "b898bd00",
   "metadata": {},
   "outputs": [
    {
     "data": {
      "text/plain": [
       "0.7966101694915254"
      ]
     },
     "execution_count": 68,
     "metadata": {},
     "output_type": "execute_result"
    }
   ],
   "source": [
    "# precision of malicious website class\n",
    "precision_score(y, y_pred, pos_label=1)"
   ]
  },
  {
   "cell_type": "code",
   "execution_count": 69,
   "id": "71d6cdfd",
   "metadata": {},
   "outputs": [
    {
     "data": {
      "text/plain": [
       "0.8703703703703703"
      ]
     },
     "execution_count": 69,
     "metadata": {},
     "output_type": "execute_result"
    }
   ],
   "source": [
    "# recall of malicious website class\n",
    "recall_score(y, y_pred, pos_label=1)"
   ]
  },
  {
   "cell_type": "code",
   "execution_count": 70,
   "id": "e90fcb9c",
   "metadata": {},
   "outputs": [
    {
     "name": "stdout",
     "output_type": "stream",
     "text": [
      "Average F1-score:  0.9037105540221382\n"
     ]
    }
   ],
   "source": [
    "print(\"Average F1-score: \", f1_score(y, y_pred, average='macro'))"
   ]
  },
  {
   "cell_type": "markdown",
   "id": "8c746884",
   "metadata": {},
   "source": [
    "L'accuratezza rimane praticamente la stessa (97%) mentre migliora di qualche punto la f1-score  e il modello sbaglia meno frequentemente quando deve classificare i siti web maligni. In pratica gli errori vengono bilanciati gli errori che commette su entrambe le classi. C'e' un bilanciamento anche per quando riguarda la precision, che si abbassa ma la recall che si alza."
   ]
  },
  {
   "cell_type": "markdown",
   "id": "1d422a34",
   "metadata": {},
   "source": [
    "## Features Importance\n",
    "Interessante e' anche vedere quali solo le variabili effettivamente piu' importanti che il modello ha selezionato per prendere le proprie decisioni. Questo e' pero' complicato farlo con metodi convenzionali su modelli di classificazione come la Random Forest e Support Vector Machine, per cui una soluzione puo' essere utilizzare la libreria **SHAP** che consente di ottenere informazioni basate su meccanismi di *interpretability* anche su modelli non esplicitamente interpretabili. "
   ]
  },
  {
   "cell_type": "markdown",
   "id": "09a669df",
   "metadata": {},
   "source": [
    "*Riaddestro un nuovo modello **RandomForestClassifier** con gli iperparametri migliori calcolati sopra con la grid search cv per semplificare un po' le cose*"
   ]
  },
  {
   "cell_type": "code",
   "execution_count": 71,
   "id": "daa2c227",
   "metadata": {},
   "outputs": [],
   "source": [
    "from sklearn.inspection import permutation_importance"
   ]
  },
  {
   "cell_type": "code",
   "execution_count": 72,
   "id": "b5eea89d",
   "metadata": {},
   "outputs": [
    {
     "data": {
      "text/html": [
       "<style>#sk-container-id-6 {color: black;background-color: white;}#sk-container-id-6 pre{padding: 0;}#sk-container-id-6 div.sk-toggleable {background-color: white;}#sk-container-id-6 label.sk-toggleable__label {cursor: pointer;display: block;width: 100%;margin-bottom: 0;padding: 0.3em;box-sizing: border-box;text-align: center;}#sk-container-id-6 label.sk-toggleable__label-arrow:before {content: \"▸\";float: left;margin-right: 0.25em;color: #696969;}#sk-container-id-6 label.sk-toggleable__label-arrow:hover:before {color: black;}#sk-container-id-6 div.sk-estimator:hover label.sk-toggleable__label-arrow:before {color: black;}#sk-container-id-6 div.sk-toggleable__content {max-height: 0;max-width: 0;overflow: hidden;text-align: left;background-color: #f0f8ff;}#sk-container-id-6 div.sk-toggleable__content pre {margin: 0.2em;color: black;border-radius: 0.25em;background-color: #f0f8ff;}#sk-container-id-6 input.sk-toggleable__control:checked~div.sk-toggleable__content {max-height: 200px;max-width: 100%;overflow: auto;}#sk-container-id-6 input.sk-toggleable__control:checked~label.sk-toggleable__label-arrow:before {content: \"▾\";}#sk-container-id-6 div.sk-estimator input.sk-toggleable__control:checked~label.sk-toggleable__label {background-color: #d4ebff;}#sk-container-id-6 div.sk-label input.sk-toggleable__control:checked~label.sk-toggleable__label {background-color: #d4ebff;}#sk-container-id-6 input.sk-hidden--visually {border: 0;clip: rect(1px 1px 1px 1px);clip: rect(1px, 1px, 1px, 1px);height: 1px;margin: -1px;overflow: hidden;padding: 0;position: absolute;width: 1px;}#sk-container-id-6 div.sk-estimator {font-family: monospace;background-color: #f0f8ff;border: 1px dotted black;border-radius: 0.25em;box-sizing: border-box;margin-bottom: 0.5em;}#sk-container-id-6 div.sk-estimator:hover {background-color: #d4ebff;}#sk-container-id-6 div.sk-parallel-item::after {content: \"\";width: 100%;border-bottom: 1px solid gray;flex-grow: 1;}#sk-container-id-6 div.sk-label:hover label.sk-toggleable__label {background-color: #d4ebff;}#sk-container-id-6 div.sk-serial::before {content: \"\";position: absolute;border-left: 1px solid gray;box-sizing: border-box;top: 0;bottom: 0;left: 50%;z-index: 0;}#sk-container-id-6 div.sk-serial {display: flex;flex-direction: column;align-items: center;background-color: white;padding-right: 0.2em;padding-left: 0.2em;position: relative;}#sk-container-id-6 div.sk-item {position: relative;z-index: 1;}#sk-container-id-6 div.sk-parallel {display: flex;align-items: stretch;justify-content: center;background-color: white;position: relative;}#sk-container-id-6 div.sk-item::before, #sk-container-id-6 div.sk-parallel-item::before {content: \"\";position: absolute;border-left: 1px solid gray;box-sizing: border-box;top: 0;bottom: 0;left: 50%;z-index: -1;}#sk-container-id-6 div.sk-parallel-item {display: flex;flex-direction: column;z-index: 1;position: relative;background-color: white;}#sk-container-id-6 div.sk-parallel-item:first-child::after {align-self: flex-end;width: 50%;}#sk-container-id-6 div.sk-parallel-item:last-child::after {align-self: flex-start;width: 50%;}#sk-container-id-6 div.sk-parallel-item:only-child::after {width: 0;}#sk-container-id-6 div.sk-dashed-wrapped {border: 1px dashed gray;margin: 0 0.4em 0.5em 0.4em;box-sizing: border-box;padding-bottom: 0.4em;background-color: white;}#sk-container-id-6 div.sk-label label {font-family: monospace;font-weight: bold;display: inline-block;line-height: 1.2em;}#sk-container-id-6 div.sk-label-container {text-align: center;}#sk-container-id-6 div.sk-container {/* jupyter's `normalize.less` sets `[hidden] { display: none; }` but bootstrap.min.css set `[hidden] { display: none !important; }` so we also need the `!important` here to be able to override the default hidden behavior on the sphinx rendered scikit-learn.org. See: https://github.com/scikit-learn/scikit-learn/issues/21755 */display: inline-block !important;position: relative;}#sk-container-id-6 div.sk-text-repr-fallback {display: none;}</style><div id=\"sk-container-id-6\" class=\"sk-top-container\"><div class=\"sk-text-repr-fallback\"><pre>RandomForestClassifier(class_weight={0: 1, 1: 5}, max_depth=9, max_leaf_nodes=9,\n",
       "                       n_estimators=150, random_state=42)</pre><b>In a Jupyter environment, please rerun this cell to show the HTML representation or trust the notebook. <br />On GitHub, the HTML representation is unable to render, please try loading this page with nbviewer.org.</b></div><div class=\"sk-container\" hidden><div class=\"sk-item\"><div class=\"sk-estimator sk-toggleable\"><input class=\"sk-toggleable__control sk-hidden--visually\" id=\"sk-estimator-id-40\" type=\"checkbox\" checked><label for=\"sk-estimator-id-40\" class=\"sk-toggleable__label sk-toggleable__label-arrow\">RandomForestClassifier</label><div class=\"sk-toggleable__content\"><pre>RandomForestClassifier(class_weight={0: 1, 1: 5}, max_depth=9, max_leaf_nodes=9,\n",
       "                       n_estimators=150, random_state=42)</pre></div></div></div></div></div>"
      ],
      "text/plain": [
       "RandomForestClassifier(class_weight={0: 1, 1: 5}, max_depth=9, max_leaf_nodes=9,\n",
       "                       n_estimators=150, random_state=42)"
      ]
     },
     "execution_count": 72,
     "metadata": {},
     "output_type": "execute_result"
    }
   ],
   "source": [
    "data_numeric = data.drop(categorical_vars, axis=1)\n",
    "data_numeric = data_numeric.drop(\"url\", axis=1)\n",
    "\n",
    "X = data_numeric.drop(\"type\", axis=1)\n",
    "y = data[\"type\"]\n",
    "\n",
    "X_train_num, X_test_num, y_train_num, y_test_num = train_test_split(X, y, test_size=0.33, random_state=1)\n",
    "\n",
    "rfc = RandomForestClassifier(class_weight={0: 1, 1: 5}, max_depth=9, max_features='sqrt', max_leaf_nodes=9, n_estimators=150, random_state=42)\n",
    "rfc.fit(X_train_num, y_train_num)"
   ]
  },
  {
   "cell_type": "code",
   "execution_count": 76,
   "id": "e196c05d",
   "metadata": {},
   "outputs": [],
   "source": [
    "import shap"
   ]
  },
  {
   "cell_type": "code",
   "execution_count": 77,
   "id": "9d76664b",
   "metadata": {},
   "outputs": [],
   "source": [
    "interpreter = shap.TreeExplainer(rfc)\n",
    "shap_values = interpreter.shap_values(X_test_num)"
   ]
  },
  {
   "cell_type": "code",
   "execution_count": 79,
   "id": "0d698aec",
   "metadata": {},
   "outputs": [
    {
     "data": {
      "image/png": "[encoded data removed]",
      "text/plain": [
       "<Figure size 576x511.2 with 1 Axes>"
      ]
     },
     "metadata": {
      "needs_background": "light"
     },
     "output_type": "display_data"
    }
   ],
   "source": [
    "shap.summary_plot(shap_values, X_test_num, feature_names=X.columns)"
   ]
  },
  {
   "cell_type": "markdown",
   "id": "1dda3bf5",
   "metadata": {},
   "source": [
    "In questo grafico vengono mostrate le features piu' rilevanti per la predizione del modello. La Shap value misura l'importanza di ogni variabile (positiva verso destra, negativa verso sinistra) mentre il colore rappresenta la tendenza verso malign website (rosso) o benign website (blu). "
   ]
  },
  {
   "cell_type": "code",
   "execution_count": 90,
   "id": "280e9ab9",
   "metadata": {},
   "outputs": [
    {
     "data": {
      "image/png": "[encoded data removed]",
      "text/plain": [
       "<Figure size 1008x432 with 8 Axes>"
      ]
     },
     "metadata": {
      "needs_background": "light"
     },
     "output_type": "display_data"
    }
   ],
   "source": [
    "fig, axes = plt.subplots(2, 2, figsize = (14,6))\n",
    "\n",
    "shap.dependence_plot(\"dist_remote_tcp_port\", shap_values[0], X_test_num, feature_names=X.columns, ax=axes[0,0], show = False)\n",
    "shap.dependence_plot(\"remote_app_packets\", shap_values[0], X_test_num, feature_names=X.columns, ax=axes[0,1], show = False)\n",
    "shap.dependence_plot(\"source_app_bytes\", shap_values[0], X_test_num, feature_names=X.columns, ax=axes[1,0], show = False)\n",
    "shap.dependence_plot(\"regdate_ts\", shap_values[0], X_test_num, feature_names=X.columns, ax=axes[1,1], show = False)\n",
    "\n",
    "plt.show()"
   ]
  },
  {
   "cell_type": "markdown",
   "id": "5bcde5f5",
   "metadata": {},
   "source": [
    "Con questi grafici sono andato ad analizzare piu' in specifico le prime 4 features piu' importanti per il modello. Si puo' notare, ad esempio, che la data di registrazione del server e' solitamente piu' recente nei casi si siti web maligni. Oppure che i siti web maligni hanno un numero di porte identificate come non TCP maggiore."
   ]
  },
  {
   "cell_type": "markdown",
   "id": "ae6c02d9",
   "metadata": {},
   "source": [
    "## Conclusioni\n",
    "Termino il notebook con qualche personale conclusione:\n",
    "* Sono partito cercando analizzare e trasformare le variabili del dataset nel modo migliore possibile, trasformando quelle che potevano contenere informazioni utili ed eliminando quelle inultili o senza nessuna correlazione con le altre.\n",
    "* Ho addestrato inizialmente due modelli piu' semplici senza utilizzare tecniche particolari di traformazione e manipolazione dei dati per vedere quanto potessero funzionare bene e meno sul mio dataset. I risultati mostrano che gia' **Perceptron** e **Logistic Regression** non funzionano poi cosi' male gia' da subito.\n",
    "* Infine ho addestrato due modelli molto famosi applicando tecniche piu' sofisticate come la Stratified K-Fold Cross Validation, il Tuning degli iperparametri, la valutazione del modello non solo basandosi sulla sua accuratezza ma anche calcolando altre metriche (la precision, la recall e f1-score) e l'analisi di quanto sbaglia o no il modello plottando la matrice di confusione. Ho inoltre applicato a SVC una tecnica di oversampling (data augmentation) per bilanciare le due classi.\n",
    " * **Random Forest Classifier**: il modello funziona molto bene sui dati arrivando ad avere un'accuratezza del 95%, precision = 0.98, recall = 0.70, average f1-score = 0.90. \n",
    " * **SVC**: con smote applicato ai dati e' il modello migliore con un'accuratezza del 97%, precision = 0.98, recall = 0.66, average f1-score = 0.90. Inoltre i tempi di addestramento sono minori rispetto alla random forest, proprio per la natura dell'algoritmo.\n",
    "* Confrontando i due modelli migliori: **SVC** ha un'accuratezza migliore e tempi di addestramento minori, f1-score e' praticamente identico. **Random forest**, invece, ha un'accuratezza minore ed e' anche piu' lento nell'addestramento, l'f1-score e' uguale a **SVC**.\n",
    " \n",
    "Confrontando i miei risultati con quelli che si trovano online su Kaggle sono mediamente piu' buoni, anche se e' difficile da dire perche' molti di loro non utilizzano tecniche da me utilizzate come la Stratified K-fold cross validation, il tuning degli iperparametri per trovare quelli migliori ed altre accortezze implementete in questo notebook come il One Hot Encoding e Oversampling della classe minore. \n",
    " \n",
    "Personalmente mi ritengo soddisfatto dei risultati ottenuti."
   ]
  }
 ],
 "metadata": {
  "colab": {
   "provenance": []
  },
  "kernelspec": {
   "display_name": "Python 3 (ipykernel)",
   "language": "python",
   "name": "python3"
  },
  "language_info": {
   "codemirror_mode": {
    "name": "ipython",
    "version": 3
   },
   "file_extension": ".py",
   "mimetype": "text/x-python",
   "name": "python",
   "nbconvert_exporter": "python",
   "pygments_lexer": "ipython3",
   "version": "3.8.11"
  }
 },
 "nbformat": 4,
 "nbformat_minor": 5
}
